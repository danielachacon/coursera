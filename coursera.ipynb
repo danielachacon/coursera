{
 "cells": [
  {
   "cell_type": "markdown",
   "metadata": {},
   "source": [
    "# Cleaning the Data"
   ]
  },
  {
   "cell_type": "markdown",
   "metadata": {},
   "source": [
    "## Data Import"
   ]
  },
  {
   "cell_type": "code",
   "execution_count": 93,
   "metadata": {},
   "outputs": [],
   "source": [
    "import numpy as np\n",
    "import pandas as pd \n",
    "from matplotlib import pyplot as plt\n",
    "import plotly.express as px"
   ]
  },
  {
   "cell_type": "markdown",
   "metadata": {},
   "source": [
    "Importing raw data from courseInfo.JSON. In order to analyze the data, we must import it into our code. The data is scraped from various courses in Coursera."
   ]
  },
  {
   "cell_type": "code",
   "execution_count": 74,
   "metadata": {},
   "outputs": [
    {
     "data": {
      "text/html": [
       "<div>\n",
       "<style scoped>\n",
       "    .dataframe tbody tr th:only-of-type {\n",
       "        vertical-align: middle;\n",
       "    }\n",
       "\n",
       "    .dataframe tbody tr th {\n",
       "        vertical-align: top;\n",
       "    }\n",
       "\n",
       "    .dataframe thead th {\n",
       "        text-align: right;\n",
       "    }\n",
       "</style>\n",
       "<table border=\"1\" class=\"dataframe\">\n",
       "  <thead>\n",
       "    <tr style=\"text-align: right;\">\n",
       "      <th></th>\n",
       "      <th>link</th>\n",
       "      <th>title</th>\n",
       "      <th>ratingPercentage</th>\n",
       "      <th>ratingCount</th>\n",
       "      <th>enrolledCount</th>\n",
       "      <th>recentViews</th>\n",
       "      <th>instructorRatingCount</th>\n",
       "      <th>instructorRating</th>\n",
       "      <th>reviewCount</th>\n",
       "      <th>reviewRating</th>\n",
       "      <th>...</th>\n",
       "      <th>contentRatingCount</th>\n",
       "      <th>syllabus</th>\n",
       "      <th>partners</th>\n",
       "      <th>whatYouWillLearn</th>\n",
       "      <th>skills</th>\n",
       "      <th>productGlance</th>\n",
       "      <th>instructors</th>\n",
       "      <th>reviewStarPercentage</th>\n",
       "      <th>enrollInformation</th>\n",
       "      <th>learnerCareerOutcomes</th>\n",
       "    </tr>\n",
       "  </thead>\n",
       "  <tbody>\n",
       "    <tr>\n",
       "      <th>0</th>\n",
       "      <td>https://www.coursera.org/learn/machine-learning?</td>\n",
       "      <td>Supervised Machine Learning: Regression and Cl...</td>\n",
       "      <td>98%</td>\n",
       "      <td>11,187 ratings</td>\n",
       "      <td>365,621</td>\n",
       "      <td>2,816,756 recent views</td>\n",
       "      <td>(4,494 Ratings)</td>\n",
       "      <td>4.95/5</td>\n",
       "      <td>2507 reviews</td>\n",
       "      <td>4.9</td>\n",
       "      <td>...</td>\n",
       "      <td>(111,946 ratings)</td>\n",
       "      <td>[[7 hours to complete, Week 1: Introduction to...</td>\n",
       "      <td>[[DeepLearning.AI, DeepLearning.AI is an educa...</td>\n",
       "      <td>[Build machine learning models in Python using...</td>\n",
       "      <td>[Regularization to Avoid Overfitting, Gradient...</td>\n",
       "      <td>[[Flexible deadlines, Reset deadlines in accor...</td>\n",
       "      <td>[[Andrew Ng, TOP INSTRUCTOR, Instructor, Found...</td>\n",
       "      <td>[[5 stars, 91.73%], [4 stars, 7.22%], [3 stars...</td>\n",
       "      <td>[Financial aid available, This Course Plus the...</td>\n",
       "      <td>NaN</td>\n",
       "    </tr>\n",
       "    <tr>\n",
       "      <th>1</th>\n",
       "      <td>https://www.coursera.org/learn/advanced-learni...</td>\n",
       "      <td>Advanced Learning Algorithms</td>\n",
       "      <td>98%</td>\n",
       "      <td>2,813 ratings</td>\n",
       "      <td>129,874</td>\n",
       "      <td>1,274,781 recent views</td>\n",
       "      <td>(981 Ratings)</td>\n",
       "      <td>4.97/5</td>\n",
       "      <td>487 reviews</td>\n",
       "      <td>4.9</td>\n",
       "      <td>...</td>\n",
       "      <td>(27,868 ratings)</td>\n",
       "      <td>[[7 hours to complete, Neural Networks, This w...</td>\n",
       "      <td>[[DeepLearning.AI, DeepLearning.AI is an educa...</td>\n",
       "      <td>[Build and train a neural network with TensorF...</td>\n",
       "      <td>[Artificial Neural Network, Xgboost, Tensorflo...</td>\n",
       "      <td>[[Flexible deadlines, Reset deadlines in accor...</td>\n",
       "      <td>[[Andrew Ng, TOP INSTRUCTOR, Instructor, Found...</td>\n",
       "      <td>[[5 stars, 93.04%], [4 stars, 6.22%], [3 stars...</td>\n",
       "      <td>[Financial aid available, This Course Plus the...</td>\n",
       "      <td>NaN</td>\n",
       "    </tr>\n",
       "    <tr>\n",
       "      <th>2</th>\n",
       "      <td>https://www.coursera.org/learn/unsupervised-le...</td>\n",
       "      <td>Unsupervised Learning, Recommenders, Reinforce...</td>\n",
       "      <td>97%</td>\n",
       "      <td>1,379 ratings</td>\n",
       "      <td>97,661</td>\n",
       "      <td>620,545 recent views</td>\n",
       "      <td>(477 Ratings)</td>\n",
       "      <td>4.96/5</td>\n",
       "      <td>279 reviews</td>\n",
       "      <td>4.9</td>\n",
       "      <td>...</td>\n",
       "      <td>(12,426 ratings)</td>\n",
       "      <td>[[9 hours to complete, Unsupervised learning, ...</td>\n",
       "      <td>[[DeepLearning.AI, DeepLearning.AI is an educa...</td>\n",
       "      <td>[Use unsupervised learning techniques for unsu...</td>\n",
       "      <td>[Collaborative Filtering, Unsupervised Learnin...</td>\n",
       "      <td>[[Flexible deadlines, Reset deadlines in accor...</td>\n",
       "      <td>[[Andrew Ng, TOP INSTRUCTOR, Instructor, Found...</td>\n",
       "      <td>[[5 stars, 92.21%], [4 stars, 6.78%], [3 stars...</td>\n",
       "      <td>[Financial aid available, This Course Plus the...</td>\n",
       "      <td>NaN</td>\n",
       "    </tr>\n",
       "    <tr>\n",
       "      <th>3</th>\n",
       "      <td>https://www.coursera.org/learn/ml-foundations?...</td>\n",
       "      <td>Machine Learning Foundations: A Case Study App...</td>\n",
       "      <td>93%</td>\n",
       "      <td>13,277 ratings</td>\n",
       "      <td>375,689</td>\n",
       "      <td>85,579 recent views</td>\n",
       "      <td>(1,161 Ratings)</td>\n",
       "      <td>4.68/5</td>\n",
       "      <td>3183 reviews</td>\n",
       "      <td>4.6</td>\n",
       "      <td>...</td>\n",
       "      <td>(55,420 ratings)</td>\n",
       "      <td>[]</td>\n",
       "      <td>[[University of Washington, Founded in 1861, t...</td>\n",
       "      <td>[]</td>\n",
       "      <td>[Python Programming, Machine Learning Concepts...</td>\n",
       "      <td>[[Flexible deadlines, Reset deadlines in accor...</td>\n",
       "      <td>[[Emily Fox, 0, Amazon Professor of Machine Le...</td>\n",
       "      <td>[[5 stars, 72.43%], [4 stars, 20.94%], [3 star...</td>\n",
       "      <td>[Financial aid available, This Course Plus the...</td>\n",
       "      <td>NaN</td>\n",
       "    </tr>\n",
       "    <tr>\n",
       "      <th>4</th>\n",
       "      <td>https://www.coursera.org/learn/ml-regression?s...</td>\n",
       "      <td>Machine Learning: Regression</td>\n",
       "      <td>94%</td>\n",
       "      <td>5,518 ratings</td>\n",
       "      <td>153,704</td>\n",
       "      <td>32,744 recent views</td>\n",
       "      <td>(163 Ratings)</td>\n",
       "      <td>4.78/5</td>\n",
       "      <td>1022 reviews</td>\n",
       "      <td>4.8</td>\n",
       "      <td>...</td>\n",
       "      <td>(20,688 ratings)</td>\n",
       "      <td>[]</td>\n",
       "      <td>[[University of Washington, Founded in 1861, t...</td>\n",
       "      <td>[]</td>\n",
       "      <td>[Linear Regression, Ridge Regression, Lasso (S...</td>\n",
       "      <td>[[Flexible deadlines, Reset deadlines in accor...</td>\n",
       "      <td>[[Emily Fox, 0, Amazon Professor of Machine Le...</td>\n",
       "      <td>[[5 stars, 80.92%], [4 stars, 15.92%], [3 star...</td>\n",
       "      <td>[Financial aid available, This Course Plus the...</td>\n",
       "      <td>NaN</td>\n",
       "    </tr>\n",
       "  </tbody>\n",
       "</table>\n",
       "<p>5 rows × 22 columns</p>\n",
       "</div>"
      ],
      "text/plain": [
       "                                                link  \\\n",
       "0   https://www.coursera.org/learn/machine-learning?   \n",
       "1  https://www.coursera.org/learn/advanced-learni...   \n",
       "2  https://www.coursera.org/learn/unsupervised-le...   \n",
       "3  https://www.coursera.org/learn/ml-foundations?...   \n",
       "4  https://www.coursera.org/learn/ml-regression?s...   \n",
       "\n",
       "                                               title ratingPercentage  \\\n",
       "0  Supervised Machine Learning: Regression and Cl...              98%   \n",
       "1                       Advanced Learning Algorithms              98%   \n",
       "2  Unsupervised Learning, Recommenders, Reinforce...              97%   \n",
       "3  Machine Learning Foundations: A Case Study App...              93%   \n",
       "4                       Machine Learning: Regression              94%   \n",
       "\n",
       "      ratingCount enrolledCount             recentViews instructorRatingCount  \\\n",
       "0  11,187 ratings       365,621  2,816,756 recent views       (4,494 Ratings)   \n",
       "1   2,813 ratings       129,874  1,274,781 recent views         (981 Ratings)   \n",
       "2   1,379 ratings        97,661    620,545 recent views         (477 Ratings)   \n",
       "3  13,277 ratings       375,689     85,579 recent views       (1,161 Ratings)   \n",
       "4   5,518 ratings       153,704     32,744 recent views         (163 Ratings)   \n",
       "\n",
       "  instructorRating   reviewCount  reviewRating  ... contentRatingCount  \\\n",
       "0           4.95/5  2507 reviews           4.9  ...  (111,946 ratings)   \n",
       "1           4.97/5   487 reviews           4.9  ...   (27,868 ratings)   \n",
       "2           4.96/5   279 reviews           4.9  ...   (12,426 ratings)   \n",
       "3           4.68/5  3183 reviews           4.6  ...   (55,420 ratings)   \n",
       "4           4.78/5  1022 reviews           4.8  ...   (20,688 ratings)   \n",
       "\n",
       "                                            syllabus  \\\n",
       "0  [[7 hours to complete, Week 1: Introduction to...   \n",
       "1  [[7 hours to complete, Neural Networks, This w...   \n",
       "2  [[9 hours to complete, Unsupervised learning, ...   \n",
       "3                                                 []   \n",
       "4                                                 []   \n",
       "\n",
       "                                            partners  \\\n",
       "0  [[DeepLearning.AI, DeepLearning.AI is an educa...   \n",
       "1  [[DeepLearning.AI, DeepLearning.AI is an educa...   \n",
       "2  [[DeepLearning.AI, DeepLearning.AI is an educa...   \n",
       "3  [[University of Washington, Founded in 1861, t...   \n",
       "4  [[University of Washington, Founded in 1861, t...   \n",
       "\n",
       "                                    whatYouWillLearn  \\\n",
       "0  [Build machine learning models in Python using...   \n",
       "1  [Build and train a neural network with TensorF...   \n",
       "2  [Use unsupervised learning techniques for unsu...   \n",
       "3                                                 []   \n",
       "4                                                 []   \n",
       "\n",
       "                                              skills  \\\n",
       "0  [Regularization to Avoid Overfitting, Gradient...   \n",
       "1  [Artificial Neural Network, Xgboost, Tensorflo...   \n",
       "2  [Collaborative Filtering, Unsupervised Learnin...   \n",
       "3  [Python Programming, Machine Learning Concepts...   \n",
       "4  [Linear Regression, Ridge Regression, Lasso (S...   \n",
       "\n",
       "                                       productGlance  \\\n",
       "0  [[Flexible deadlines, Reset deadlines in accor...   \n",
       "1  [[Flexible deadlines, Reset deadlines in accor...   \n",
       "2  [[Flexible deadlines, Reset deadlines in accor...   \n",
       "3  [[Flexible deadlines, Reset deadlines in accor...   \n",
       "4  [[Flexible deadlines, Reset deadlines in accor...   \n",
       "\n",
       "                                         instructors  \\\n",
       "0  [[Andrew Ng, TOP INSTRUCTOR, Instructor, Found...   \n",
       "1  [[Andrew Ng, TOP INSTRUCTOR, Instructor, Found...   \n",
       "2  [[Andrew Ng, TOP INSTRUCTOR, Instructor, Found...   \n",
       "3  [[Emily Fox, 0, Amazon Professor of Machine Le...   \n",
       "4  [[Emily Fox, 0, Amazon Professor of Machine Le...   \n",
       "\n",
       "                                reviewStarPercentage  \\\n",
       "0  [[5 stars, 91.73%], [4 stars, 7.22%], [3 stars...   \n",
       "1  [[5 stars, 93.04%], [4 stars, 6.22%], [3 stars...   \n",
       "2  [[5 stars, 92.21%], [4 stars, 6.78%], [3 stars...   \n",
       "3  [[5 stars, 72.43%], [4 stars, 20.94%], [3 star...   \n",
       "4  [[5 stars, 80.92%], [4 stars, 15.92%], [3 star...   \n",
       "\n",
       "                                   enrollInformation learnerCareerOutcomes  \n",
       "0  [Financial aid available, This Course Plus the...                   NaN  \n",
       "1  [Financial aid available, This Course Plus the...                   NaN  \n",
       "2  [Financial aid available, This Course Plus the...                   NaN  \n",
       "3  [Financial aid available, This Course Plus the...                   NaN  \n",
       "4  [Financial aid available, This Course Plus the...                   NaN  \n",
       "\n",
       "[5 rows x 22 columns]"
      ]
     },
     "execution_count": 74,
     "metadata": {},
     "output_type": "execute_result"
    }
   ],
   "source": [
    "raw_coursera = pd.read_json('courseInfo.JSON')\n",
    "raw_coursera.head()\n"
   ]
  },
  {
   "cell_type": "markdown",
   "metadata": {},
   "source": [
    "The data has 22 different values. Each value has been scraped from the course website on coursera. Values that contain the brackets are arrays. This is because certain groups (e.g professors) contain multiple characteristics (e.g TOP INSTRUCTOR, Company), and thus must be grouped together via multidimensional array. Single Dimmensional Arrays are used for certain texts that contain lists."
   ]
  },
  {
   "cell_type": "markdown",
   "metadata": {},
   "source": [
    "## Manipulating Dataset"
   ]
  },
  {
   "cell_type": "markdown",
   "metadata": {},
   "source": [
    "We must now clean the data in order for it to be looked it. First, we will break down Review Star Percentage Array into Separate Columns in order to individually study each value."
   ]
  },
  {
   "cell_type": "code",
   "execution_count": 75,
   "metadata": {},
   "outputs": [],
   "source": [
    "myDict = {\n",
    "    'reviewStarPercentage': raw_coursera['reviewStarPercentage'],\n",
    "    'syllabus': raw_coursera['syllabus'],\n",
    "}\n",
    "fiveStarList = []\n",
    "fourStarList = []\n",
    "threeStarList = []\n",
    "twoStarList = []\n",
    "oneStarList = []\n",
    "\n",
    "for i in myDict['reviewStarPercentage']:\n",
    "    try:\n",
    "        fiveStarList.append(i[0][1]) \n",
    "    except:\n",
    "        fiveStarList.append(0)\n",
    "    try:\n",
    "        fourStarList.append(i[1][1])\n",
    "    except:\n",
    "        fourStarList.append(0)\n",
    "    try:\n",
    "        threeStarList.append(i[2][1])\n",
    "    except:\n",
    "        threeStarList.append(0)\n",
    "    try:\n",
    "        twoStarList.append(i[3][1])\n",
    "    except:\n",
    "        twoStarList.append(0)\n",
    "    try:\n",
    "        oneStarList.append(i[4][1])\n",
    "    except:\n",
    "        oneStarList.append(0)\n",
    "        \n",
    "raw_coursera['fiveStarReviewPercentage'] = fiveStarList\n",
    "raw_coursera['fourStarReviewPercentage'] = fourStarList\n",
    "raw_coursera['threeStarReviewPercentage'] = threeStarList\n",
    "raw_coursera['twoStarReviewPercentage'] = twoStarList\n",
    "raw_coursera['oneStarReviewPercentage'] = oneStarList"
   ]
  },
  {
   "cell_type": "markdown",
   "metadata": {},
   "source": [
    "Next, we will remove non-numerical Text From Columns to study the numeric values (e.g 98 instead of '98%')"
   ]
  },
  {
   "cell_type": "code",
   "execution_count": 76,
   "metadata": {},
   "outputs": [
    {
     "data": {
      "text/html": [
       "<div>\n",
       "<style scoped>\n",
       "    .dataframe tbody tr th:only-of-type {\n",
       "        vertical-align: middle;\n",
       "    }\n",
       "\n",
       "    .dataframe tbody tr th {\n",
       "        vertical-align: top;\n",
       "    }\n",
       "\n",
       "    .dataframe thead th {\n",
       "        text-align: right;\n",
       "    }\n",
       "</style>\n",
       "<table border=\"1\" class=\"dataframe\">\n",
       "  <thead>\n",
       "    <tr style=\"text-align: right;\">\n",
       "      <th></th>\n",
       "      <th>link</th>\n",
       "      <th>title</th>\n",
       "      <th>ratingPercentage</th>\n",
       "      <th>ratingCount</th>\n",
       "      <th>enrolledCount</th>\n",
       "      <th>recentViews</th>\n",
       "      <th>instructorRatingCount</th>\n",
       "      <th>instructorRating</th>\n",
       "      <th>reviewCount</th>\n",
       "      <th>reviewRating</th>\n",
       "      <th>...</th>\n",
       "      <th>productGlance</th>\n",
       "      <th>instructors</th>\n",
       "      <th>reviewStarPercentage</th>\n",
       "      <th>enrollInformation</th>\n",
       "      <th>learnerCareerOutcomes</th>\n",
       "      <th>fiveStarReviewPercentage</th>\n",
       "      <th>fourStarReviewPercentage</th>\n",
       "      <th>threeStarReviewPercentage</th>\n",
       "      <th>twoStarReviewPercentage</th>\n",
       "      <th>oneStarReviewPercentage</th>\n",
       "    </tr>\n",
       "  </thead>\n",
       "  <tbody>\n",
       "    <tr>\n",
       "      <th>0</th>\n",
       "      <td>https://www.coursera.org/learn/machine-learning?</td>\n",
       "      <td>Supervised Machine Learning: Regression and Cl...</td>\n",
       "      <td>98</td>\n",
       "      <td>11187</td>\n",
       "      <td>365621</td>\n",
       "      <td>2816756</td>\n",
       "      <td>4494</td>\n",
       "      <td>4.95</td>\n",
       "      <td>2507</td>\n",
       "      <td>4.9</td>\n",
       "      <td>...</td>\n",
       "      <td>[[Flexible deadlines, Reset deadlines in accor...</td>\n",
       "      <td>[[Andrew Ng, TOP INSTRUCTOR, Instructor, Found...</td>\n",
       "      <td>[[5 stars, 91.73%], [4 stars, 7.22%], [3 stars...</td>\n",
       "      <td>[Financial aid available, This Course Plus the...</td>\n",
       "      <td>NaN</td>\n",
       "      <td>91.73</td>\n",
       "      <td>7.22</td>\n",
       "      <td>0.59</td>\n",
       "      <td>0.21</td>\n",
       "      <td>0.22</td>\n",
       "    </tr>\n",
       "    <tr>\n",
       "      <th>1</th>\n",
       "      <td>https://www.coursera.org/learn/advanced-learni...</td>\n",
       "      <td>Advanced Learning Algorithms</td>\n",
       "      <td>98</td>\n",
       "      <td>2813</td>\n",
       "      <td>129874</td>\n",
       "      <td>1274781</td>\n",
       "      <td>981</td>\n",
       "      <td>4.97</td>\n",
       "      <td>487</td>\n",
       "      <td>4.9</td>\n",
       "      <td>...</td>\n",
       "      <td>[[Flexible deadlines, Reset deadlines in accor...</td>\n",
       "      <td>[[Andrew Ng, TOP INSTRUCTOR, Instructor, Found...</td>\n",
       "      <td>[[5 stars, 93.04%], [4 stars, 6.22%], [3 stars...</td>\n",
       "      <td>[Financial aid available, This Course Plus the...</td>\n",
       "      <td>NaN</td>\n",
       "      <td>93.04</td>\n",
       "      <td>6.22</td>\n",
       "      <td>0.41</td>\n",
       "      <td>0.13</td>\n",
       "      <td>0.17</td>\n",
       "    </tr>\n",
       "    <tr>\n",
       "      <th>2</th>\n",
       "      <td>https://www.coursera.org/learn/unsupervised-le...</td>\n",
       "      <td>Unsupervised Learning, Recommenders, Reinforce...</td>\n",
       "      <td>97</td>\n",
       "      <td>1379</td>\n",
       "      <td>97661</td>\n",
       "      <td>620545</td>\n",
       "      <td>477</td>\n",
       "      <td>4.96</td>\n",
       "      <td>279</td>\n",
       "      <td>4.9</td>\n",
       "      <td>...</td>\n",
       "      <td>[[Flexible deadlines, Reset deadlines in accor...</td>\n",
       "      <td>[[Andrew Ng, TOP INSTRUCTOR, Instructor, Found...</td>\n",
       "      <td>[[5 stars, 92.21%], [4 stars, 6.78%], [3 stars...</td>\n",
       "      <td>[Financial aid available, This Course Plus the...</td>\n",
       "      <td>NaN</td>\n",
       "      <td>92.21</td>\n",
       "      <td>6.78</td>\n",
       "      <td>0.71</td>\n",
       "      <td>0.28</td>\n",
       "      <td>NaN</td>\n",
       "    </tr>\n",
       "    <tr>\n",
       "      <th>3</th>\n",
       "      <td>https://www.coursera.org/learn/ml-foundations?...</td>\n",
       "      <td>Machine Learning Foundations: A Case Study App...</td>\n",
       "      <td>93</td>\n",
       "      <td>13277</td>\n",
       "      <td>375689</td>\n",
       "      <td>85579</td>\n",
       "      <td>1161</td>\n",
       "      <td>4.68</td>\n",
       "      <td>3183</td>\n",
       "      <td>4.6</td>\n",
       "      <td>...</td>\n",
       "      <td>[[Flexible deadlines, Reset deadlines in accor...</td>\n",
       "      <td>[[Emily Fox, 0, Amazon Professor of Machine Le...</td>\n",
       "      <td>[[5 stars, 72.43%], [4 stars, 20.94%], [3 star...</td>\n",
       "      <td>[Financial aid available, This Course Plus the...</td>\n",
       "      <td>NaN</td>\n",
       "      <td>72.43</td>\n",
       "      <td>20.94</td>\n",
       "      <td>3.72</td>\n",
       "      <td>1.09</td>\n",
       "      <td>1.79</td>\n",
       "    </tr>\n",
       "    <tr>\n",
       "      <th>4</th>\n",
       "      <td>https://www.coursera.org/learn/ml-regression?s...</td>\n",
       "      <td>Machine Learning: Regression</td>\n",
       "      <td>94</td>\n",
       "      <td>5518</td>\n",
       "      <td>153704</td>\n",
       "      <td>32744</td>\n",
       "      <td>163</td>\n",
       "      <td>4.78</td>\n",
       "      <td>1022</td>\n",
       "      <td>4.8</td>\n",
       "      <td>...</td>\n",
       "      <td>[[Flexible deadlines, Reset deadlines in accor...</td>\n",
       "      <td>[[Emily Fox, 0, Amazon Professor of Machine Le...</td>\n",
       "      <td>[[5 stars, 80.92%], [4 stars, 15.92%], [3 star...</td>\n",
       "      <td>[Financial aid available, This Course Plus the...</td>\n",
       "      <td>NaN</td>\n",
       "      <td>80.92</td>\n",
       "      <td>15.92</td>\n",
       "      <td>1.88</td>\n",
       "      <td>0.45</td>\n",
       "      <td>0.81</td>\n",
       "    </tr>\n",
       "  </tbody>\n",
       "</table>\n",
       "<p>5 rows × 27 columns</p>\n",
       "</div>"
      ],
      "text/plain": [
       "                                                link  \\\n",
       "0   https://www.coursera.org/learn/machine-learning?   \n",
       "1  https://www.coursera.org/learn/advanced-learni...   \n",
       "2  https://www.coursera.org/learn/unsupervised-le...   \n",
       "3  https://www.coursera.org/learn/ml-foundations?...   \n",
       "4  https://www.coursera.org/learn/ml-regression?s...   \n",
       "\n",
       "                                               title ratingPercentage  \\\n",
       "0  Supervised Machine Learning: Regression and Cl...               98   \n",
       "1                       Advanced Learning Algorithms               98   \n",
       "2  Unsupervised Learning, Recommenders, Reinforce...               97   \n",
       "3  Machine Learning Foundations: A Case Study App...               93   \n",
       "4                       Machine Learning: Regression               94   \n",
       "\n",
       "  ratingCount enrolledCount recentViews instructorRatingCount  \\\n",
       "0       11187        365621     2816756                  4494   \n",
       "1        2813        129874     1274781                   981   \n",
       "2        1379         97661      620545                   477   \n",
       "3       13277        375689       85579                  1161   \n",
       "4        5518        153704       32744                   163   \n",
       "\n",
       "  instructorRating reviewCount  reviewRating  ...  \\\n",
       "0             4.95        2507           4.9  ...   \n",
       "1             4.97         487           4.9  ...   \n",
       "2             4.96         279           4.9  ...   \n",
       "3             4.68        3183           4.6  ...   \n",
       "4             4.78        1022           4.8  ...   \n",
       "\n",
       "                                       productGlance  \\\n",
       "0  [[Flexible deadlines, Reset deadlines in accor...   \n",
       "1  [[Flexible deadlines, Reset deadlines in accor...   \n",
       "2  [[Flexible deadlines, Reset deadlines in accor...   \n",
       "3  [[Flexible deadlines, Reset deadlines in accor...   \n",
       "4  [[Flexible deadlines, Reset deadlines in accor...   \n",
       "\n",
       "                                         instructors  \\\n",
       "0  [[Andrew Ng, TOP INSTRUCTOR, Instructor, Found...   \n",
       "1  [[Andrew Ng, TOP INSTRUCTOR, Instructor, Found...   \n",
       "2  [[Andrew Ng, TOP INSTRUCTOR, Instructor, Found...   \n",
       "3  [[Emily Fox, 0, Amazon Professor of Machine Le...   \n",
       "4  [[Emily Fox, 0, Amazon Professor of Machine Le...   \n",
       "\n",
       "                                reviewStarPercentage  \\\n",
       "0  [[5 stars, 91.73%], [4 stars, 7.22%], [3 stars...   \n",
       "1  [[5 stars, 93.04%], [4 stars, 6.22%], [3 stars...   \n",
       "2  [[5 stars, 92.21%], [4 stars, 6.78%], [3 stars...   \n",
       "3  [[5 stars, 72.43%], [4 stars, 20.94%], [3 star...   \n",
       "4  [[5 stars, 80.92%], [4 stars, 15.92%], [3 star...   \n",
       "\n",
       "                                   enrollInformation learnerCareerOutcomes  \\\n",
       "0  [Financial aid available, This Course Plus the...                   NaN   \n",
       "1  [Financial aid available, This Course Plus the...                   NaN   \n",
       "2  [Financial aid available, This Course Plus the...                   NaN   \n",
       "3  [Financial aid available, This Course Plus the...                   NaN   \n",
       "4  [Financial aid available, This Course Plus the...                   NaN   \n",
       "\n",
       "  fiveStarReviewPercentage fourStarReviewPercentage threeStarReviewPercentage  \\\n",
       "0                    91.73                     7.22                      0.59   \n",
       "1                    93.04                     6.22                      0.41   \n",
       "2                    92.21                     6.78                      0.71   \n",
       "3                    72.43                    20.94                      3.72   \n",
       "4                    80.92                    15.92                      1.88   \n",
       "\n",
       "  twoStarReviewPercentage oneStarReviewPercentage  \n",
       "0                    0.21                    0.22  \n",
       "1                    0.13                    0.17  \n",
       "2                    0.28                     NaN  \n",
       "3                    1.09                    1.79  \n",
       "4                    0.45                    0.81  \n",
       "\n",
       "[5 rows x 27 columns]"
      ]
     },
     "execution_count": 76,
     "metadata": {},
     "output_type": "execute_result"
    }
   ],
   "source": [
    "coursera = raw_coursera.copy(deep=True) \n",
    "coursera['contentRatingCount'] = raw_coursera['contentRatingCount'].str.replace('\\D+', '', regex=True) \n",
    "coursera['recentViews'] = raw_coursera['recentViews'].str.replace('\\D+', '', regex=True)\n",
    "coursera['enrolledCount'] = raw_coursera['enrolledCount'].str.replace('\\D+', '', regex=True)\n",
    "coursera['reviewCount'] = raw_coursera['reviewCount'].str.replace('\\D+', '', regex=True)\n",
    "coursera['ratingCount'] = raw_coursera['ratingCount'].str.replace('\\D+', '', regex=True)\n",
    "coursera['ratingPercentage'] = raw_coursera['ratingPercentage'].str.replace('\\D+', '', regex=True)\n",
    "coursera['instructorRatingCount'] = raw_coursera['instructorRatingCount'].str.replace('\\D+', '', regex=True)  \n",
    "coursera['instructorRating'] = raw_coursera['instructorRating'].str.replace('/5', '', regex=True) \n",
    "coursera['fiveStarReviewPercentage'] = raw_coursera['fiveStarReviewPercentage'].str.replace('%', '', regex=True)\n",
    "coursera['fourStarReviewPercentage'] = raw_coursera['fourStarReviewPercentage'].str.replace('%', '', regex=True)\n",
    "coursera['threeStarReviewPercentage'] = raw_coursera['threeStarReviewPercentage'].str.replace('%', '', regex=True)\n",
    "coursera['twoStarReviewPercentage'] = raw_coursera['twoStarReviewPercentage'].str.replace('%', '', regex=True)\n",
    "coursera['oneStarReviewPercentage'] = raw_coursera['oneStarReviewPercentage'].str.replace('%', '', regex=True)\n",
    "coursera.head()"
   ]
  },
  {
   "cell_type": "code",
   "execution_count": 130,
   "metadata": {},
   "outputs": [
    {
     "data": {
      "text/plain": [
       "0      [[7 hours to complete, Week 1: Introduction to...\n",
       "1      [[7 hours to complete, Neural Networks, This w...\n",
       "2      [[9 hours to complete, Unsupervised learning, ...\n",
       "3                                                     []\n",
       "4                                                     []\n",
       "                             ...                        \n",
       "97     [[1 hour to complete, Web Application Developm...\n",
       "98     [[1 hour to complete, Responsive Website Tutor...\n",
       "99                                                    []\n",
       "100    [[\\n3 hours to complete\\n, What is AI?, , 9 vi...\n",
       "101    [[\\n4 hours to complete\\n, Week 1, Week 1 of t...\n",
       "Name: syllabus, Length: 102, dtype: object"
      ]
     },
     "execution_count": 130,
     "metadata": {},
     "output_type": "execute_result"
    }
   ],
   "source": [
    "coursera[\"syllabus\"]"
   ]
  },
  {
   "cell_type": "code",
   "execution_count": 127,
   "metadata": {},
   "outputs": [
    {
     "data": {
      "text/html": [
       "<div>\n",
       "<style scoped>\n",
       "    .dataframe tbody tr th:only-of-type {\n",
       "        vertical-align: middle;\n",
       "    }\n",
       "\n",
       "    .dataframe tbody tr th {\n",
       "        vertical-align: top;\n",
       "    }\n",
       "\n",
       "    .dataframe thead th {\n",
       "        text-align: right;\n",
       "    }\n",
       "</style>\n",
       "<table border=\"1\" class=\"dataframe\">\n",
       "  <thead>\n",
       "    <tr style=\"text-align: right;\">\n",
       "      <th></th>\n",
       "      <th>link</th>\n",
       "      <th>title</th>\n",
       "      <th>ratingPercentage</th>\n",
       "      <th>ratingCount</th>\n",
       "      <th>enrolledCount</th>\n",
       "      <th>recentViews</th>\n",
       "      <th>instructorRatingCount</th>\n",
       "      <th>instructorRating</th>\n",
       "      <th>reviewCount</th>\n",
       "      <th>reviewRating</th>\n",
       "      <th>...</th>\n",
       "      <th>instructors</th>\n",
       "      <th>reviewStarPercentage</th>\n",
       "      <th>enrollInformation</th>\n",
       "      <th>learnerCareerOutcomes</th>\n",
       "      <th>fiveStarReviewPercentage</th>\n",
       "      <th>fourStarReviewPercentage</th>\n",
       "      <th>threeStarReviewPercentage</th>\n",
       "      <th>twoStarReviewPercentage</th>\n",
       "      <th>oneStarReviewPercentage</th>\n",
       "      <th>hasPython</th>\n",
       "    </tr>\n",
       "  </thead>\n",
       "  <tbody>\n",
       "    <tr>\n",
       "      <th>0</th>\n",
       "      <td>https://www.coursera.org/learn/machine-learning?</td>\n",
       "      <td>Supervised Machine Learning: Regression and Cl...</td>\n",
       "      <td>98</td>\n",
       "      <td>11187</td>\n",
       "      <td>365621.0</td>\n",
       "      <td>2816756</td>\n",
       "      <td>4494</td>\n",
       "      <td>4.95</td>\n",
       "      <td>2507</td>\n",
       "      <td>4.9</td>\n",
       "      <td>...</td>\n",
       "      <td>[[Andrew Ng, TOP INSTRUCTOR, Instructor, Found...</td>\n",
       "      <td>[[5 stars, 91.73%], [4 stars, 7.22%], [3 stars...</td>\n",
       "      <td>[Financial aid available, This Course Plus the...</td>\n",
       "      <td>NaN</td>\n",
       "      <td>91.73</td>\n",
       "      <td>7.22</td>\n",
       "      <td>0.59</td>\n",
       "      <td>0.21</td>\n",
       "      <td>0.22</td>\n",
       "      <td>False</td>\n",
       "    </tr>\n",
       "    <tr>\n",
       "      <th>1</th>\n",
       "      <td>https://www.coursera.org/learn/advanced-learni...</td>\n",
       "      <td>Advanced Learning Algorithms</td>\n",
       "      <td>98</td>\n",
       "      <td>2813</td>\n",
       "      <td>129874.0</td>\n",
       "      <td>1274781</td>\n",
       "      <td>981</td>\n",
       "      <td>4.97</td>\n",
       "      <td>487</td>\n",
       "      <td>4.9</td>\n",
       "      <td>...</td>\n",
       "      <td>[[Andrew Ng, TOP INSTRUCTOR, Instructor, Found...</td>\n",
       "      <td>[[5 stars, 93.04%], [4 stars, 6.22%], [3 stars...</td>\n",
       "      <td>[Financial aid available, This Course Plus the...</td>\n",
       "      <td>NaN</td>\n",
       "      <td>93.04</td>\n",
       "      <td>6.22</td>\n",
       "      <td>0.41</td>\n",
       "      <td>0.13</td>\n",
       "      <td>0.17</td>\n",
       "      <td>False</td>\n",
       "    </tr>\n",
       "    <tr>\n",
       "      <th>2</th>\n",
       "      <td>https://www.coursera.org/learn/unsupervised-le...</td>\n",
       "      <td>Unsupervised Learning, Recommenders, Reinforce...</td>\n",
       "      <td>97</td>\n",
       "      <td>1379</td>\n",
       "      <td>97661.0</td>\n",
       "      <td>620545</td>\n",
       "      <td>477</td>\n",
       "      <td>4.96</td>\n",
       "      <td>279</td>\n",
       "      <td>4.9</td>\n",
       "      <td>...</td>\n",
       "      <td>[[Andrew Ng, TOP INSTRUCTOR, Instructor, Found...</td>\n",
       "      <td>[[5 stars, 92.21%], [4 stars, 6.78%], [3 stars...</td>\n",
       "      <td>[Financial aid available, This Course Plus the...</td>\n",
       "      <td>NaN</td>\n",
       "      <td>92.21</td>\n",
       "      <td>6.78</td>\n",
       "      <td>0.71</td>\n",
       "      <td>0.28</td>\n",
       "      <td>NaN</td>\n",
       "      <td>False</td>\n",
       "    </tr>\n",
       "    <tr>\n",
       "      <th>3</th>\n",
       "      <td>https://www.coursera.org/learn/ml-foundations?...</td>\n",
       "      <td>Machine Learning Foundations: A Case Study App...</td>\n",
       "      <td>93</td>\n",
       "      <td>13277</td>\n",
       "      <td>375689.0</td>\n",
       "      <td>85579</td>\n",
       "      <td>1161</td>\n",
       "      <td>4.68</td>\n",
       "      <td>3183</td>\n",
       "      <td>4.6</td>\n",
       "      <td>...</td>\n",
       "      <td>[[Emily Fox, 0, Amazon Professor of Machine Le...</td>\n",
       "      <td>[[5 stars, 72.43%], [4 stars, 20.94%], [3 star...</td>\n",
       "      <td>[Financial aid available, This Course Plus the...</td>\n",
       "      <td>NaN</td>\n",
       "      <td>72.43</td>\n",
       "      <td>20.94</td>\n",
       "      <td>3.72</td>\n",
       "      <td>1.09</td>\n",
       "      <td>1.79</td>\n",
       "      <td>True</td>\n",
       "    </tr>\n",
       "    <tr>\n",
       "      <th>4</th>\n",
       "      <td>https://www.coursera.org/learn/ml-regression?s...</td>\n",
       "      <td>Machine Learning: Regression</td>\n",
       "      <td>94</td>\n",
       "      <td>5518</td>\n",
       "      <td>153704.0</td>\n",
       "      <td>32744</td>\n",
       "      <td>163</td>\n",
       "      <td>4.78</td>\n",
       "      <td>1022</td>\n",
       "      <td>4.8</td>\n",
       "      <td>...</td>\n",
       "      <td>[[Emily Fox, 0, Amazon Professor of Machine Le...</td>\n",
       "      <td>[[5 stars, 80.92%], [4 stars, 15.92%], [3 star...</td>\n",
       "      <td>[Financial aid available, This Course Plus the...</td>\n",
       "      <td>NaN</td>\n",
       "      <td>80.92</td>\n",
       "      <td>15.92</td>\n",
       "      <td>1.88</td>\n",
       "      <td>0.45</td>\n",
       "      <td>0.81</td>\n",
       "      <td>False</td>\n",
       "    </tr>\n",
       "  </tbody>\n",
       "</table>\n",
       "<p>5 rows × 28 columns</p>\n",
       "</div>"
      ],
      "text/plain": [
       "                                                link  \\\n",
       "0   https://www.coursera.org/learn/machine-learning?   \n",
       "1  https://www.coursera.org/learn/advanced-learni...   \n",
       "2  https://www.coursera.org/learn/unsupervised-le...   \n",
       "3  https://www.coursera.org/learn/ml-foundations?...   \n",
       "4  https://www.coursera.org/learn/ml-regression?s...   \n",
       "\n",
       "                                               title ratingPercentage  \\\n",
       "0  Supervised Machine Learning: Regression and Cl...               98   \n",
       "1                       Advanced Learning Algorithms               98   \n",
       "2  Unsupervised Learning, Recommenders, Reinforce...               97   \n",
       "3  Machine Learning Foundations: A Case Study App...               93   \n",
       "4                       Machine Learning: Regression               94   \n",
       "\n",
       "  ratingCount  enrolledCount recentViews instructorRatingCount  \\\n",
       "0       11187       365621.0     2816756                  4494   \n",
       "1        2813       129874.0     1274781                   981   \n",
       "2        1379        97661.0      620545                   477   \n",
       "3       13277       375689.0       85579                  1161   \n",
       "4        5518       153704.0       32744                   163   \n",
       "\n",
       "  instructorRating reviewCount  reviewRating  ...  \\\n",
       "0             4.95        2507           4.9  ...   \n",
       "1             4.97         487           4.9  ...   \n",
       "2             4.96         279           4.9  ...   \n",
       "3             4.68        3183           4.6  ...   \n",
       "4             4.78        1022           4.8  ...   \n",
       "\n",
       "                                         instructors  \\\n",
       "0  [[Andrew Ng, TOP INSTRUCTOR, Instructor, Found...   \n",
       "1  [[Andrew Ng, TOP INSTRUCTOR, Instructor, Found...   \n",
       "2  [[Andrew Ng, TOP INSTRUCTOR, Instructor, Found...   \n",
       "3  [[Emily Fox, 0, Amazon Professor of Machine Le...   \n",
       "4  [[Emily Fox, 0, Amazon Professor of Machine Le...   \n",
       "\n",
       "                                reviewStarPercentage  \\\n",
       "0  [[5 stars, 91.73%], [4 stars, 7.22%], [3 stars...   \n",
       "1  [[5 stars, 93.04%], [4 stars, 6.22%], [3 stars...   \n",
       "2  [[5 stars, 92.21%], [4 stars, 6.78%], [3 stars...   \n",
       "3  [[5 stars, 72.43%], [4 stars, 20.94%], [3 star...   \n",
       "4  [[5 stars, 80.92%], [4 stars, 15.92%], [3 star...   \n",
       "\n",
       "                                   enrollInformation learnerCareerOutcomes  \\\n",
       "0  [Financial aid available, This Course Plus the...                   NaN   \n",
       "1  [Financial aid available, This Course Plus the...                   NaN   \n",
       "2  [Financial aid available, This Course Plus the...                   NaN   \n",
       "3  [Financial aid available, This Course Plus the...                   NaN   \n",
       "4  [Financial aid available, This Course Plus the...                   NaN   \n",
       "\n",
       "  fiveStarReviewPercentage fourStarReviewPercentage threeStarReviewPercentage  \\\n",
       "0                    91.73                     7.22                      0.59   \n",
       "1                    93.04                     6.22                      0.41   \n",
       "2                    92.21                     6.78                      0.71   \n",
       "3                    72.43                    20.94                      3.72   \n",
       "4                    80.92                    15.92                      1.88   \n",
       "\n",
       "  twoStarReviewPercentage oneStarReviewPercentage hasPython  \n",
       "0                    0.21                    0.22     False  \n",
       "1                    0.13                    0.17     False  \n",
       "2                    0.28                     NaN     False  \n",
       "3                    1.09                    1.79      True  \n",
       "4                    0.45                    0.81     False  \n",
       "\n",
       "[5 rows x 28 columns]"
      ]
     },
     "execution_count": 127,
     "metadata": {},
     "output_type": "execute_result"
    }
   ],
   "source": [
    "coursera[\"enrolledCount\"] = pd.to_numeric(coursera[\"enrolledCount\"])\n",
    "coursera.head()"
   ]
  },
  {
   "cell_type": "markdown",
   "metadata": {},
   "source": [
    "All non-numerical text were removed from the data, so the data is now interpretable. "
   ]
  },
  {
   "cell_type": "markdown",
   "metadata": {},
   "source": [
    "# Graphing Occurences"
   ]
  },
  {
   "cell_type": "markdown",
   "metadata": {},
   "source": [
    "We must create a dictionary and fill it with the amount of times a skill occurs in the course dataset. We do this in order to see the frequency that a specific skill appears within a course. (ex: The skill \"Python Programming\" occurs in X amount of courses). "
   ]
  },
  {
   "cell_type": "code",
   "execution_count": 77,
   "metadata": {},
   "outputs": [
    {
     "name": "stdout",
     "output_type": "stream",
     "text": [
      "Unique Skills: 190\n",
      "-----------------\n",
      "\n",
      "Regularization to Avoid Overfitting = 1\n",
      "Gradient Descent = 3\n",
      "Supervised Learning = 1\n",
      "Linear Regression = 3\n",
      "Logistic Regression for Classification = 1\n",
      "Artificial Neural Network = 2\n",
      "Xgboost = 1\n",
      "Tensorflow = 3\n",
      "Tree Ensembles = 1\n",
      "Advice for Model Development = 1\n",
      "Collaborative Filtering = 1\n",
      "Unsupervised Learning = 1\n",
      "Recommender Systems = 1\n",
      "Reinforcement Learning = 1\n",
      "Anomaly Detection = 1\n",
      "Python Programming = 42\n",
      "Machine Learning Concepts = 1\n",
      "Machine Learning = 11\n",
      "Deep Learning = 5\n",
      "Ridge Regression = 1\n",
      "Lasso (Statistics) = 1\n",
      "Regression Analysis = 1\n",
      "Logistic Regression = 1\n",
      "Statistical Classification = 1\n",
      "Classification Algorithms = 1\n",
      "Decision Tree = 1\n",
      "Data Clustering Algorithms = 1\n",
      "K-Means Clustering = 2\n",
      "K-D Tree = 1\n",
      "Backpropagation = 1\n",
      "Neural Network Architecture = 1\n",
      "Mathematical Optimization = 2\n",
      "hyperparameter tuning = 1\n",
      "Inductive Transfer = 1\n",
      "Multi-Task Learning = 1\n",
      "Decision-Making = 1\n",
      "Facial Recognition System = 1\n",
      "Convolutional Neural Network = 2\n",
      "Object Detection and Segmentation = 1\n",
      "Eigenvalues And Eigenvectors = 2\n",
      "Basis (Linear Algebra) = 1\n",
      "Transformation Matrix = 1\n",
      "Linear Algebra = 4\n",
      "Vector Calculus = 1\n",
      "Multivariable Calculus = 1\n",
      "Dimensionality Reduction = 1\n",
      "Natural Language Processing = 2\n",
      "pytorch = 1\n",
      "SciPy and scikit-learn = 1\n",
      "regression = 1\n",
      "classification = 1\n",
      "Hierarchical Clustering = 1\n",
      "Linear Equation = 1\n",
      "Determinants = 1\n",
      "Calculus = 1\n",
      "Newton'S Method = 1\n",
      "Machine Learning (ML) Algorithms = 2\n",
      "Scikit-Learn = 2\n",
      "Statistical Analysis = 2\n",
      "Computer Programming = 10\n",
      "Programming in Python = 1\n",
      "Python Tools = 2\n",
      "Python Syntax And Semantics = 6\n",
      "Programming Principles = 4\n",
      "Data Science = 4\n",
      "Data Analysis = 4\n",
      "Pandas = 5\n",
      "Numpy = 5\n",
      "Basic Programming Language = 1\n",
      "Data Structure = 4\n",
      "Tuple = 2\n",
      "Database (DBMS) = 3\n",
      "Sqlite = 1\n",
      "SQL = 2\n",
      "Basic Python Data Structures = 1\n",
      "Fundamental Programming Concepts = 1\n",
      "Basic Python Syntax = 1\n",
      "Object-Oriented Programming (OOP) = 4\n",
      "Predictive Modelling = 1\n",
      "Data Visualization (DataViz) = 7\n",
      "Model Selection = 1\n",
      "Using Comments to Enhance Code Readability = 1\n",
      "Jupyter Notebook = 1\n",
      "Coding = 2\n",
      "Cloud Hosting = 1\n",
      "Application Programming Interfaces (API) = 1\n",
      "Django (Web Framework) = 1\n",
      "Data Cleansing = 1\n",
      "Data Virtualization = 1\n",
      "Matplotlib = 2\n",
      "Natural Language Toolkit (NLTK) = 1\n",
      "Text Mining = 1\n",
      "Python Libraries = 1\n",
      "Java Tools = 1\n",
      "Unit Testing = 2\n",
      "Java Programming = 4\n",
      "Java Syntax = 1\n",
      "Debugging = 3\n",
      "Problem Solving = 1\n",
      "Inheritance = 2\n",
      "Idle (Python) = 1\n",
      "Financial Analysis = 1\n",
      "Financial Data Analysis = 1\n",
      "Setting up your Development Environment = 1\n",
      "Regular Expression (REGEX) = 1\n",
      "Testing in Python = 1\n",
      "Automating System Administration Tasks with Python = 1\n",
      "Bash Scripting = 1\n",
      "Wxpython = 1\n",
      "Flow control = 1\n",
      "Persistence = 1\n",
      "privilege escalation and evasion = 1\n",
      "Cybersecurity = 1\n",
      "Execution = 1\n",
      "Iteration = 1\n",
      "Conditionals (Computer Science) = 1\n",
      "Computer Science = 6\n",
      "variable (computer science) = 1\n",
      "Strings (Python) = 1\n",
      "Files (Python) = 1\n",
      "Lists (Python) = 1\n",
      "Functions = 2\n",
      "Recursion = 1\n",
      "Objects = 1\n",
      "Polymorphism = 1\n",
      "Algorithms = 2\n",
      "Information Engineering = 1\n",
      "Jupyter notebooks = 2\n",
      "Web Scraping = 2\n",
      "Extract Transform Load (ETL) = 1\n",
      "Codeskulptor = 1\n",
      "List & Label = 1\n",
      "Data Type = 1\n",
      "For Loop = 1\n",
      "Control Flow = 1\n",
      "Programming Tool = 1\n",
      "Software Engineering = 2\n",
      "inheritance (object-oriented programming) = 1\n",
      "Persist = 1\n",
      "Integration Testing (I&T) = 1\n",
      "Manual Testing = 1\n",
      "Use Case = 1\n",
      "Statistics = 1\n",
      "Confidence Interval = 1\n",
      "Statistical Inference = 1\n",
      "Statistical Hypothesis Testing = 1\n",
      "Bayesian Statistics = 1\n",
      "Statistical Model = 1\n",
      "statistical regression = 1\n",
      "Artificial Intelligence (AI) = 1\n",
      "Web Application = 2\n",
      "Application development = 1\n",
      "Flask = 1\n",
      "Seaborn = 1\n",
      "Vim = 1\n",
      "Visual Studio Code = 1\n",
      "Bash (Unix Shell) = 1\n",
      "Data Management = 1\n",
      "Linux = 1\n",
      "MySQL = 1\n",
      "Cloud-Hosted Notebooks = 1\n",
      "Command-Line Interface = 1\n",
      "Jquery = 2\n",
      "JavaScript = 13\n",
      "animations = 1\n",
      "HTML = 6\n",
      "Css Frameworks = 1\n",
      "Cascading Style Sheets (CSS) = 7\n",
      "Test-Driven Development = 1\n",
      "Front-End Web Development = 2\n",
      "Web Development = 4\n",
      "javascript syntax = 1\n",
      "Web Design = 3\n",
      "Web Accessibility = 1\n",
      "Html5 = 2\n",
      "Style Sheets = 1\n",
      "Document Object Model (DOM) = 1\n",
      "Bootstrap (Front-End Framework) = 1\n",
      "Responsive Web Design = 2\n",
      "Mongodb = 3\n",
      "Meteor = 3\n",
      "Routing = 2\n",
      "Workflow of Machine Learning projects\n",
      " = 1\n",
      "AI terminology\n",
      " = 1\n",
      "AI strategy\n",
      " = 1\n",
      "Workflow of Data Science projects\n",
      " = 1\n",
      "Artificial Intelligence (AI)\n",
      " = 1\n",
      "machine learning models\n",
      " = 1\n",
      "Machine Learning\n",
      " = 1\n",
      "Deep Learning\n",
      " = 1\n"
     ]
    }
   ],
   "source": [
    "array = coursera['skills']\n",
    "skillsDict = {}\n",
    "\n",
    "for i in range(len(array)):\n",
    "    for j in range(len(array[i])):\n",
    "        if not (array[i][j] in skillsDict):\n",
    "            skillsDict[array[i][j]] = 1\n",
    "        else:\n",
    "            skillsDict[array[i][j]] += 1 \n",
    "\n",
    "uniqueSkillsValue = len(skillsDict)\n",
    "print(f'''Unique Skills: {uniqueSkillsValue}\\n-----------------\\n''')\n",
    "\n",
    "for keys, value in skillsDict.items():\n",
    "    print(f'''{keys} = {value}''')\n",
    "    "
   ]
  },
  {
   "cell_type": "markdown",
   "metadata": {},
   "source": [
    "We printed every skill found and the number of occurences it has in our dataset."
   ]
  },
  {
   "cell_type": "markdown",
   "metadata": {},
   "source": [
    "### Bar Graph For Skills"
   ]
  },
  {
   "cell_type": "markdown",
   "metadata": {},
   "source": [
    "The code below creates a bar graph that graphs the skill vs the # of occurences in code. In order to see the skills that are prominent, we only graphed the skills that occured more than 5 times. "
   ]
  },
  {
   "cell_type": "code",
   "execution_count": 122,
   "metadata": {},
   "outputs": [
    {
     "data": {
      "text/plain": [
       "Text(0.5, 0, 'Occurences')"
      ]
     },
     "execution_count": 122,
     "metadata": {},
     "output_type": "execute_result"
    },
    {
     "data": {
      "image/png": "[encoded data removed]",
      "text/plain": [
       "<Figure size 640x480 with 1 Axes>"
      ]
     },
     "metadata": {},
     "output_type": "display_data"
    }
   ],
   "source": [
    "x = []\n",
    "y = []\n",
    "\n",
    "#Sort list\n",
    "sortedList = sorted(skillsDict.items(), key=lambda x:x[1], reverse=True)\n",
    "sortedSkillsDict = dict(sortedList)\n",
    "\n",
    "# Create List of Skills that Occur Significantly (>5)\n",
    "for keys, values in sortedSkillsDict.items():\n",
    "    if(values > 5):\n",
    "        x.append(keys)\n",
    "        y.append(values)\n",
    "\n",
    "ax = plt.barh(x, y)\n",
    "\n",
    "# Add Annotation \n",
    "for i in ax.patches:\n",
    "    plt.text(i.get_width()+0.2, i.get_y() + 0.25,\n",
    "             str(round((i.get_width()), 2)),\n",
    "             fontsize = 10, fontweight ='bold',\n",
    "             color ='grey')\n",
    " \n",
    "plt.title(\"Skills that Occur Significantly (>5 Occurences)\")\n",
    "plt.ylabel(\"Skills\")\n",
    "plt.xlabel(\"Occurences\")"
   ]
  },
  {
   "cell_type": "markdown",
   "metadata": {},
   "source": [
    "### Skills Bar Graph Using Plotly"
   ]
  },
  {
   "cell_type": "code",
   "execution_count": 121,
   "metadata": {},
   "outputs": [
    {
     "data": {
      "application/vnd.plotly.v1+json": {
       "config": {
        "plotlyServerURL": "https://plot.ly"
       },
       "data": [
        {
         "alignmentgroup": "True",
         "hovertemplate": "x=%{x}<br>y=%{y}<extra></extra>",
         "legendgroup": "",
         "marker": {
          "color": "#636efa",
          "pattern": {
           "shape": ""
          }
         },
         "name": "",
         "offsetgroup": "",
         "orientation": "h",
         "showlegend": false,
         "textposition": "auto",
         "type": "bar",
         "x": [
          42,
          13,
          11,
          10,
          7,
          7,
          6,
          6,
          6,
          5
         ],
         "xaxis": "x",
         "y": [
          "Python Programming",
          "JavaScript",
          "Machine Learning",
          "Computer Programming",
          "Data Visualization (DataViz)",
          "Cascading Style Sheets (CSS)",
          "Python Syntax And Semantics",
          "Computer Science",
          "HTML",
          "Deep Learning"
         ],
         "yaxis": "y"
        }
       ],
       "layout": {
        "barmode": "relative",
        "legend": {
         "tracegroupgap": 0
        },
        "margin": {
         "t": 60
        },
        "template": {
         "data": {
          "bar": [
           {
            "error_x": {
             "color": "#2a3f5f"
            },
            "error_y": {
             "color": "#2a3f5f"
            },
            "marker": {
             "line": {
              "color": "#E5ECF6",
              "width": 0.5
             },
             "pattern": {
              "fillmode": "overlay",
              "size": 10,
              "solidity": 0.2
             }
            },
            "type": "bar"
           }
          ],
          "barpolar": [
           {
            "marker": {
             "line": {
              "color": "#E5ECF6",
              "width": 0.5
             },
             "pattern": {
              "fillmode": "overlay",
              "size": 10,
              "solidity": 0.2
             }
            },
            "type": "barpolar"
           }
          ],
          "carpet": [
           {
            "aaxis": {
             "endlinecolor": "#2a3f5f",
             "gridcolor": "white",
             "linecolor": "white",
             "minorgridcolor": "white",
             "startlinecolor": "#2a3f5f"
            },
            "baxis": {
             "endlinecolor": "#2a3f5f",
             "gridcolor": "white",
             "linecolor": "white",
             "minorgridcolor": "white",
             "startlinecolor": "#2a3f5f"
            },
            "type": "carpet"
           }
          ],
          "choropleth": [
           {
            "colorbar": {
             "outlinewidth": 0,
             "ticks": ""
            },
            "type": "choropleth"
           }
          ],
          "contour": [
           {
            "colorbar": {
             "outlinewidth": 0,
             "ticks": ""
            },
            "colorscale": [
             [
              0,
              "#0d0887"
             ],
             [
              0.1111111111111111,
              "#46039f"
             ],
             [
              0.2222222222222222,
              "#7201a8"
             ],
             [
              0.3333333333333333,
              "#9c179e"
             ],
             [
              0.4444444444444444,
              "#bd3786"
             ],
             [
              0.5555555555555556,
              "#d8576b"
             ],
             [
              0.6666666666666666,
              "#ed7953"
             ],
             [
              0.7777777777777778,
              "#fb9f3a"
             ],
             [
              0.8888888888888888,
              "#fdca26"
             ],
             [
              1,
              "#f0f921"
             ]
            ],
            "type": "contour"
           }
          ],
          "contourcarpet": [
           {
            "colorbar": {
             "outlinewidth": 0,
             "ticks": ""
            },
            "type": "contourcarpet"
           }
          ],
          "heatmap": [
           {
            "colorbar": {
             "outlinewidth": 0,
             "ticks": ""
            },
            "colorscale": [
             [
              0,
              "#0d0887"
             ],
             [
              0.1111111111111111,
              "#46039f"
             ],
             [
              0.2222222222222222,
              "#7201a8"
             ],
             [
              0.3333333333333333,
              "#9c179e"
             ],
             [
              0.4444444444444444,
              "#bd3786"
             ],
             [
              0.5555555555555556,
              "#d8576b"
             ],
             [
              0.6666666666666666,
              "#ed7953"
             ],
             [
              0.7777777777777778,
              "#fb9f3a"
             ],
             [
              0.8888888888888888,
              "#fdca26"
             ],
             [
              1,
              "#f0f921"
             ]
            ],
            "type": "heatmap"
           }
          ],
          "heatmapgl": [
           {
            "colorbar": {
             "outlinewidth": 0,
             "ticks": ""
            },
            "colorscale": [
             [
              0,
              "#0d0887"
             ],
             [
              0.1111111111111111,
              "#46039f"
             ],
             [
              0.2222222222222222,
              "#7201a8"
             ],
             [
              0.3333333333333333,
              "#9c179e"
             ],
             [
              0.4444444444444444,
              "#bd3786"
             ],
             [
              0.5555555555555556,
              "#d8576b"
             ],
             [
              0.6666666666666666,
              "#ed7953"
             ],
             [
              0.7777777777777778,
              "#fb9f3a"
             ],
             [
              0.8888888888888888,
              "#fdca26"
             ],
             [
              1,
              "#f0f921"
             ]
            ],
            "type": "heatmapgl"
           }
          ],
          "histogram": [
           {
            "marker": {
             "pattern": {
              "fillmode": "overlay",
              "size": 10,
              "solidity": 0.2
             }
            },
            "type": "histogram"
           }
          ],
          "histogram2d": [
           {
            "colorbar": {
             "outlinewidth": 0,
             "ticks": ""
            },
            "colorscale": [
             [
              0,
              "#0d0887"
             ],
             [
              0.1111111111111111,
              "#46039f"
             ],
             [
              0.2222222222222222,
              "#7201a8"
             ],
             [
              0.3333333333333333,
              "#9c179e"
             ],
             [
              0.4444444444444444,
              "#bd3786"
             ],
             [
              0.5555555555555556,
              "#d8576b"
             ],
             [
              0.6666666666666666,
              "#ed7953"
             ],
             [
              0.7777777777777778,
              "#fb9f3a"
             ],
             [
              0.8888888888888888,
              "#fdca26"
             ],
             [
              1,
              "#f0f921"
             ]
            ],
            "type": "histogram2d"
           }
          ],
          "histogram2dcontour": [
           {
            "colorbar": {
             "outlinewidth": 0,
             "ticks": ""
            },
            "colorscale": [
             [
              0,
              "#0d0887"
             ],
             [
              0.1111111111111111,
              "#46039f"
             ],
             [
              0.2222222222222222,
              "#7201a8"
             ],
             [
              0.3333333333333333,
              "#9c179e"
             ],
             [
              0.4444444444444444,
              "#bd3786"
             ],
             [
              0.5555555555555556,
              "#d8576b"
             ],
             [
              0.6666666666666666,
              "#ed7953"
             ],
             [
              0.7777777777777778,
              "#fb9f3a"
             ],
             [
              0.8888888888888888,
              "#fdca26"
             ],
             [
              1,
              "#f0f921"
             ]
            ],
            "type": "histogram2dcontour"
           }
          ],
          "mesh3d": [
           {
            "colorbar": {
             "outlinewidth": 0,
             "ticks": ""
            },
            "type": "mesh3d"
           }
          ],
          "parcoords": [
           {
            "line": {
             "colorbar": {
              "outlinewidth": 0,
              "ticks": ""
             }
            },
            "type": "parcoords"
           }
          ],
          "pie": [
           {
            "automargin": true,
            "type": "pie"
           }
          ],
          "scatter": [
           {
            "fillpattern": {
             "fillmode": "overlay",
             "size": 10,
             "solidity": 0.2
            },
            "type": "scatter"
           }
          ],
          "scatter3d": [
           {
            "line": {
             "colorbar": {
              "outlinewidth": 0,
              "ticks": ""
             }
            },
            "marker": {
             "colorbar": {
              "outlinewidth": 0,
              "ticks": ""
             }
            },
            "type": "scatter3d"
           }
          ],
          "scattercarpet": [
           {
            "marker": {
             "colorbar": {
              "outlinewidth": 0,
              "ticks": ""
             }
            },
            "type": "scattercarpet"
           }
          ],
          "scattergeo": [
           {
            "marker": {
             "colorbar": {
              "outlinewidth": 0,
              "ticks": ""
             }
            },
            "type": "scattergeo"
           }
          ],
          "scattergl": [
           {
            "marker": {
             "colorbar": {
              "outlinewidth": 0,
              "ticks": ""
             }
            },
            "type": "scattergl"
           }
          ],
          "scattermapbox": [
           {
            "marker": {
             "colorbar": {
              "outlinewidth": 0,
              "ticks": ""
             }
            },
            "type": "scattermapbox"
           }
          ],
          "scatterpolar": [
           {
            "marker": {
             "colorbar": {
              "outlinewidth": 0,
              "ticks": ""
             }
            },
            "type": "scatterpolar"
           }
          ],
          "scatterpolargl": [
           {
            "marker": {
             "colorbar": {
              "outlinewidth": 0,
              "ticks": ""
             }
            },
            "type": "scatterpolargl"
           }
          ],
          "scatterternary": [
           {
            "marker": {
             "colorbar": {
              "outlinewidth": 0,
              "ticks": ""
             }
            },
            "type": "scatterternary"
           }
          ],
          "surface": [
           {
            "colorbar": {
             "outlinewidth": 0,
             "ticks": ""
            },
            "colorscale": [
             [
              0,
              "#0d0887"
             ],
             [
              0.1111111111111111,
              "#46039f"
             ],
             [
              0.2222222222222222,
              "#7201a8"
             ],
             [
              0.3333333333333333,
              "#9c179e"
             ],
             [
              0.4444444444444444,
              "#bd3786"
             ],
             [
              0.5555555555555556,
              "#d8576b"
             ],
             [
              0.6666666666666666,
              "#ed7953"
             ],
             [
              0.7777777777777778,
              "#fb9f3a"
             ],
             [
              0.8888888888888888,
              "#fdca26"
             ],
             [
              1,
              "#f0f921"
             ]
            ],
            "type": "surface"
           }
          ],
          "table": [
           {
            "cells": {
             "fill": {
              "color": "#EBF0F8"
             },
             "line": {
              "color": "white"
             }
            },
            "header": {
             "fill": {
              "color": "#C8D4E3"
             },
             "line": {
              "color": "white"
             }
            },
            "type": "table"
           }
          ]
         },
         "layout": {
          "annotationdefaults": {
           "arrowcolor": "#2a3f5f",
           "arrowhead": 0,
           "arrowwidth": 1
          },
          "autotypenumbers": "strict",
          "coloraxis": {
           "colorbar": {
            "outlinewidth": 0,
            "ticks": ""
           }
          },
          "colorscale": {
           "diverging": [
            [
             0,
             "#8e0152"
            ],
            [
             0.1,
             "#c51b7d"
            ],
            [
             0.2,
             "#de77ae"
            ],
            [
             0.3,
             "#f1b6da"
            ],
            [
             0.4,
             "#fde0ef"
            ],
            [
             0.5,
             "#f7f7f7"
            ],
            [
             0.6,
             "#e6f5d0"
            ],
            [
             0.7,
             "#b8e186"
            ],
            [
             0.8,
             "#7fbc41"
            ],
            [
             0.9,
             "#4d9221"
            ],
            [
             1,
             "#276419"
            ]
           ],
           "sequential": [
            [
             0,
             "#0d0887"
            ],
            [
             0.1111111111111111,
             "#46039f"
            ],
            [
             0.2222222222222222,
             "#7201a8"
            ],
            [
             0.3333333333333333,
             "#9c179e"
            ],
            [
             0.4444444444444444,
             "#bd3786"
            ],
            [
             0.5555555555555556,
             "#d8576b"
            ],
            [
             0.6666666666666666,
             "#ed7953"
            ],
            [
             0.7777777777777778,
             "#fb9f3a"
            ],
            [
             0.8888888888888888,
             "#fdca26"
            ],
            [
             1,
             "#f0f921"
            ]
           ],
           "sequentialminus": [
            [
             0,
             "#0d0887"
            ],
            [
             0.1111111111111111,
             "#46039f"
            ],
            [
             0.2222222222222222,
             "#7201a8"
            ],
            [
             0.3333333333333333,
             "#9c179e"
            ],
            [
             0.4444444444444444,
             "#bd3786"
            ],
            [
             0.5555555555555556,
             "#d8576b"
            ],
            [
             0.6666666666666666,
             "#ed7953"
            ],
            [
             0.7777777777777778,
             "#fb9f3a"
            ],
            [
             0.8888888888888888,
             "#fdca26"
            ],
            [
             1,
             "#f0f921"
            ]
           ]
          },
          "colorway": [
           "#636efa",
           "#EF553B",
           "#00cc96",
           "#ab63fa",
           "#FFA15A",
           "#19d3f3",
           "#FF6692",
           "#B6E880",
           "#FF97FF",
           "#FECB52"
          ],
          "font": {
           "color": "#2a3f5f"
          },
          "geo": {
           "bgcolor": "white",
           "lakecolor": "white",
           "landcolor": "#E5ECF6",
           "showlakes": true,
           "showland": true,
           "subunitcolor": "white"
          },
          "hoverlabel": {
           "align": "left"
          },
          "hovermode": "closest",
          "mapbox": {
           "style": "light"
          },
          "paper_bgcolor": "white",
          "plot_bgcolor": "#E5ECF6",
          "polar": {
           "angularaxis": {
            "gridcolor": "white",
            "linecolor": "white",
            "ticks": ""
           },
           "bgcolor": "#E5ECF6",
           "radialaxis": {
            "gridcolor": "white",
            "linecolor": "white",
            "ticks": ""
           }
          },
          "scene": {
           "xaxis": {
            "backgroundcolor": "#E5ECF6",
            "gridcolor": "white",
            "gridwidth": 2,
            "linecolor": "white",
            "showbackground": true,
            "ticks": "",
            "zerolinecolor": "white"
           },
           "yaxis": {
            "backgroundcolor": "#E5ECF6",
            "gridcolor": "white",
            "gridwidth": 2,
            "linecolor": "white",
            "showbackground": true,
            "ticks": "",
            "zerolinecolor": "white"
           },
           "zaxis": {
            "backgroundcolor": "#E5ECF6",
            "gridcolor": "white",
            "gridwidth": 2,
            "linecolor": "white",
            "showbackground": true,
            "ticks": "",
            "zerolinecolor": "white"
           }
          },
          "shapedefaults": {
           "line": {
            "color": "#2a3f5f"
           }
          },
          "ternary": {
           "aaxis": {
            "gridcolor": "white",
            "linecolor": "white",
            "ticks": ""
           },
           "baxis": {
            "gridcolor": "white",
            "linecolor": "white",
            "ticks": ""
           },
           "bgcolor": "#E5ECF6",
           "caxis": {
            "gridcolor": "white",
            "linecolor": "white",
            "ticks": ""
           }
          },
          "title": {
           "x": 0.05
          },
          "xaxis": {
           "automargin": true,
           "gridcolor": "white",
           "linecolor": "white",
           "ticks": "",
           "title": {
            "standoff": 15
           },
           "zerolinecolor": "white",
           "zerolinewidth": 2
          },
          "yaxis": {
           "automargin": true,
           "gridcolor": "white",
           "linecolor": "white",
           "ticks": "",
           "title": {
            "standoff": 15
           },
           "zerolinecolor": "white",
           "zerolinewidth": 2
          }
         }
        },
        "xaxis": {
         "anchor": "y",
         "domain": [
          0,
          1
         ],
         "title": {
          "text": "x"
         }
        },
        "yaxis": {
         "anchor": "x",
         "domain": [
          0,
          1
         ],
         "title": {
          "text": "y"
         }
        }
       }
      }
     },
     "metadata": {},
     "output_type": "display_data"
    }
   ],
   "source": [
    "sortedList = sorted(skillsDict.items(), key=lambda x:x[1], reverse=True)\n",
    "sortedSkillsDict = dict(sortedList)\n",
    "\n",
    "# skillsdf = pd.DataFrame.from_dict(sortedSkillsDict)\n",
    "\n",
    "fig = px.bar(y=[key for key in sortedSkillsDict.keys()][0:10], x=[value for value in sortedSkillsDict.values()][0:10])\n",
    "\n",
    "fig.show()\n"
   ]
  },
  {
   "cell_type": "code",
   "execution_count": 124,
   "metadata": {},
   "outputs": [
    {
     "data": {
      "text/html": [
       "<div>\n",
       "<style scoped>\n",
       "    .dataframe tbody tr th:only-of-type {\n",
       "        vertical-align: middle;\n",
       "    }\n",
       "\n",
       "    .dataframe tbody tr th {\n",
       "        vertical-align: top;\n",
       "    }\n",
       "\n",
       "    .dataframe thead th {\n",
       "        text-align: right;\n",
       "    }\n",
       "</style>\n",
       "<table border=\"1\" class=\"dataframe\">\n",
       "  <thead>\n",
       "    <tr style=\"text-align: right;\">\n",
       "      <th></th>\n",
       "      <th>link</th>\n",
       "      <th>title</th>\n",
       "      <th>ratingPercentage</th>\n",
       "      <th>ratingCount</th>\n",
       "      <th>enrolledCount</th>\n",
       "      <th>recentViews</th>\n",
       "      <th>instructorRatingCount</th>\n",
       "      <th>instructorRating</th>\n",
       "      <th>reviewCount</th>\n",
       "      <th>reviewRating</th>\n",
       "      <th>...</th>\n",
       "      <th>instructors</th>\n",
       "      <th>reviewStarPercentage</th>\n",
       "      <th>enrollInformation</th>\n",
       "      <th>learnerCareerOutcomes</th>\n",
       "      <th>fiveStarReviewPercentage</th>\n",
       "      <th>fourStarReviewPercentage</th>\n",
       "      <th>threeStarReviewPercentage</th>\n",
       "      <th>twoStarReviewPercentage</th>\n",
       "      <th>oneStarReviewPercentage</th>\n",
       "      <th>hasPython</th>\n",
       "    </tr>\n",
       "  </thead>\n",
       "  <tbody>\n",
       "    <tr>\n",
       "      <th>0</th>\n",
       "      <td>https://www.coursera.org/learn/machine-learning?</td>\n",
       "      <td>Supervised Machine Learning: Regression and Cl...</td>\n",
       "      <td>98</td>\n",
       "      <td>11187</td>\n",
       "      <td>365621</td>\n",
       "      <td>2816756</td>\n",
       "      <td>4494</td>\n",
       "      <td>4.95</td>\n",
       "      <td>2507</td>\n",
       "      <td>4.9</td>\n",
       "      <td>...</td>\n",
       "      <td>[[Andrew Ng, TOP INSTRUCTOR, Instructor, Found...</td>\n",
       "      <td>[[5 stars, 91.73%], [4 stars, 7.22%], [3 stars...</td>\n",
       "      <td>[Financial aid available, This Course Plus the...</td>\n",
       "      <td>NaN</td>\n",
       "      <td>91.73</td>\n",
       "      <td>7.22</td>\n",
       "      <td>0.59</td>\n",
       "      <td>0.21</td>\n",
       "      <td>0.22</td>\n",
       "      <td>False</td>\n",
       "    </tr>\n",
       "    <tr>\n",
       "      <th>1</th>\n",
       "      <td>https://www.coursera.org/learn/advanced-learni...</td>\n",
       "      <td>Advanced Learning Algorithms</td>\n",
       "      <td>98</td>\n",
       "      <td>2813</td>\n",
       "      <td>129874</td>\n",
       "      <td>1274781</td>\n",
       "      <td>981</td>\n",
       "      <td>4.97</td>\n",
       "      <td>487</td>\n",
       "      <td>4.9</td>\n",
       "      <td>...</td>\n",
       "      <td>[[Andrew Ng, TOP INSTRUCTOR, Instructor, Found...</td>\n",
       "      <td>[[5 stars, 93.04%], [4 stars, 6.22%], [3 stars...</td>\n",
       "      <td>[Financial aid available, This Course Plus the...</td>\n",
       "      <td>NaN</td>\n",
       "      <td>93.04</td>\n",
       "      <td>6.22</td>\n",
       "      <td>0.41</td>\n",
       "      <td>0.13</td>\n",
       "      <td>0.17</td>\n",
       "      <td>False</td>\n",
       "    </tr>\n",
       "    <tr>\n",
       "      <th>2</th>\n",
       "      <td>https://www.coursera.org/learn/unsupervised-le...</td>\n",
       "      <td>Unsupervised Learning, Recommenders, Reinforce...</td>\n",
       "      <td>97</td>\n",
       "      <td>1379</td>\n",
       "      <td>97661</td>\n",
       "      <td>620545</td>\n",
       "      <td>477</td>\n",
       "      <td>4.96</td>\n",
       "      <td>279</td>\n",
       "      <td>4.9</td>\n",
       "      <td>...</td>\n",
       "      <td>[[Andrew Ng, TOP INSTRUCTOR, Instructor, Found...</td>\n",
       "      <td>[[5 stars, 92.21%], [4 stars, 6.78%], [3 stars...</td>\n",
       "      <td>[Financial aid available, This Course Plus the...</td>\n",
       "      <td>NaN</td>\n",
       "      <td>92.21</td>\n",
       "      <td>6.78</td>\n",
       "      <td>0.71</td>\n",
       "      <td>0.28</td>\n",
       "      <td>NaN</td>\n",
       "      <td>False</td>\n",
       "    </tr>\n",
       "    <tr>\n",
       "      <th>3</th>\n",
       "      <td>https://www.coursera.org/learn/ml-foundations?...</td>\n",
       "      <td>Machine Learning Foundations: A Case Study App...</td>\n",
       "      <td>93</td>\n",
       "      <td>13277</td>\n",
       "      <td>375689</td>\n",
       "      <td>85579</td>\n",
       "      <td>1161</td>\n",
       "      <td>4.68</td>\n",
       "      <td>3183</td>\n",
       "      <td>4.6</td>\n",
       "      <td>...</td>\n",
       "      <td>[[Emily Fox, 0, Amazon Professor of Machine Le...</td>\n",
       "      <td>[[5 stars, 72.43%], [4 stars, 20.94%], [3 star...</td>\n",
       "      <td>[Financial aid available, This Course Plus the...</td>\n",
       "      <td>NaN</td>\n",
       "      <td>72.43</td>\n",
       "      <td>20.94</td>\n",
       "      <td>3.72</td>\n",
       "      <td>1.09</td>\n",
       "      <td>1.79</td>\n",
       "      <td>True</td>\n",
       "    </tr>\n",
       "    <tr>\n",
       "      <th>4</th>\n",
       "      <td>https://www.coursera.org/learn/ml-regression?s...</td>\n",
       "      <td>Machine Learning: Regression</td>\n",
       "      <td>94</td>\n",
       "      <td>5518</td>\n",
       "      <td>153704</td>\n",
       "      <td>32744</td>\n",
       "      <td>163</td>\n",
       "      <td>4.78</td>\n",
       "      <td>1022</td>\n",
       "      <td>4.8</td>\n",
       "      <td>...</td>\n",
       "      <td>[[Emily Fox, 0, Amazon Professor of Machine Le...</td>\n",
       "      <td>[[5 stars, 80.92%], [4 stars, 15.92%], [3 star...</td>\n",
       "      <td>[Financial aid available, This Course Plus the...</td>\n",
       "      <td>NaN</td>\n",
       "      <td>80.92</td>\n",
       "      <td>15.92</td>\n",
       "      <td>1.88</td>\n",
       "      <td>0.45</td>\n",
       "      <td>0.81</td>\n",
       "      <td>False</td>\n",
       "    </tr>\n",
       "  </tbody>\n",
       "</table>\n",
       "<p>5 rows × 28 columns</p>\n",
       "</div>"
      ],
      "text/plain": [
       "                                                link  \\\n",
       "0   https://www.coursera.org/learn/machine-learning?   \n",
       "1  https://www.coursera.org/learn/advanced-learni...   \n",
       "2  https://www.coursera.org/learn/unsupervised-le...   \n",
       "3  https://www.coursera.org/learn/ml-foundations?...   \n",
       "4  https://www.coursera.org/learn/ml-regression?s...   \n",
       "\n",
       "                                               title ratingPercentage  \\\n",
       "0  Supervised Machine Learning: Regression and Cl...               98   \n",
       "1                       Advanced Learning Algorithms               98   \n",
       "2  Unsupervised Learning, Recommenders, Reinforce...               97   \n",
       "3  Machine Learning Foundations: A Case Study App...               93   \n",
       "4                       Machine Learning: Regression               94   \n",
       "\n",
       "  ratingCount enrolledCount recentViews instructorRatingCount  \\\n",
       "0       11187        365621     2816756                  4494   \n",
       "1        2813        129874     1274781                   981   \n",
       "2        1379         97661      620545                   477   \n",
       "3       13277        375689       85579                  1161   \n",
       "4        5518        153704       32744                   163   \n",
       "\n",
       "  instructorRating reviewCount  reviewRating  ...  \\\n",
       "0             4.95        2507           4.9  ...   \n",
       "1             4.97         487           4.9  ...   \n",
       "2             4.96         279           4.9  ...   \n",
       "3             4.68        3183           4.6  ...   \n",
       "4             4.78        1022           4.8  ...   \n",
       "\n",
       "                                         instructors  \\\n",
       "0  [[Andrew Ng, TOP INSTRUCTOR, Instructor, Found...   \n",
       "1  [[Andrew Ng, TOP INSTRUCTOR, Instructor, Found...   \n",
       "2  [[Andrew Ng, TOP INSTRUCTOR, Instructor, Found...   \n",
       "3  [[Emily Fox, 0, Amazon Professor of Machine Le...   \n",
       "4  [[Emily Fox, 0, Amazon Professor of Machine Le...   \n",
       "\n",
       "                                reviewStarPercentage  \\\n",
       "0  [[5 stars, 91.73%], [4 stars, 7.22%], [3 stars...   \n",
       "1  [[5 stars, 93.04%], [4 stars, 6.22%], [3 stars...   \n",
       "2  [[5 stars, 92.21%], [4 stars, 6.78%], [3 stars...   \n",
       "3  [[5 stars, 72.43%], [4 stars, 20.94%], [3 star...   \n",
       "4  [[5 stars, 80.92%], [4 stars, 15.92%], [3 star...   \n",
       "\n",
       "                                   enrollInformation learnerCareerOutcomes  \\\n",
       "0  [Financial aid available, This Course Plus the...                   NaN   \n",
       "1  [Financial aid available, This Course Plus the...                   NaN   \n",
       "2  [Financial aid available, This Course Plus the...                   NaN   \n",
       "3  [Financial aid available, This Course Plus the...                   NaN   \n",
       "4  [Financial aid available, This Course Plus the...                   NaN   \n",
       "\n",
       "  fiveStarReviewPercentage fourStarReviewPercentage threeStarReviewPercentage  \\\n",
       "0                    91.73                     7.22                      0.59   \n",
       "1                    93.04                     6.22                      0.41   \n",
       "2                    92.21                     6.78                      0.71   \n",
       "3                    72.43                    20.94                      3.72   \n",
       "4                    80.92                    15.92                      1.88   \n",
       "\n",
       "  twoStarReviewPercentage oneStarReviewPercentage hasPython  \n",
       "0                    0.21                    0.22     False  \n",
       "1                    0.13                    0.17     False  \n",
       "2                    0.28                     NaN     False  \n",
       "3                    1.09                    1.79      True  \n",
       "4                    0.45                    0.81     False  \n",
       "\n",
       "[5 rows x 28 columns]"
      ]
     },
     "execution_count": 124,
     "metadata": {},
     "output_type": "execute_result"
    }
   ],
   "source": [
    "def keywordCheck(keyword, column):\n",
    "    myList = []\n",
    "    for i in column:\n",
    "        try:\n",
    "            if keyword in i:\n",
    "                myList.append(True)\n",
    "            else:\n",
    "                myList.append(False)\n",
    "        except: continue\n",
    "    return myList\n",
    "\n",
    "coursera[\"hasPython\"] = keywordCheck(\"Python Programming\", coursera[\"skills\"])\n",
    "\n",
    "coursera.head()"
   ]
  },
  {
   "cell_type": "code",
   "execution_count": 114,
   "metadata": {},
   "outputs": [
    {
     "data": {
      "text/plain": [
       "{'Python Programming': 42,\n",
       " 'JavaScript': 13,\n",
       " 'Machine Learning': 11,\n",
       " 'Computer Programming': 10,\n",
       " 'Data Visualization (DataViz)': 7,\n",
       " 'Cascading Style Sheets (CSS)': 7,\n",
       " 'Python Syntax And Semantics': 6,\n",
       " 'Computer Science': 6,\n",
       " 'HTML': 6,\n",
       " 'Deep Learning': 5,\n",
       " 'Pandas': 5,\n",
       " 'Numpy': 5,\n",
       " 'Linear Algebra': 4,\n",
       " 'Programming Principles': 4,\n",
       " 'Data Science': 4,\n",
       " 'Data Analysis': 4,\n",
       " 'Data Structure': 4,\n",
       " 'Object-Oriented Programming (OOP)': 4,\n",
       " 'Java Programming': 4,\n",
       " 'Web Development': 4,\n",
       " 'Gradient Descent': 3,\n",
       " 'Linear Regression': 3,\n",
       " 'Tensorflow': 3,\n",
       " 'Database (DBMS)': 3,\n",
       " 'Debugging': 3,\n",
       " 'Web Design': 3,\n",
       " 'Mongodb': 3,\n",
       " 'Meteor': 3,\n",
       " 'Artificial Neural Network': 2,\n",
       " 'K-Means Clustering': 2,\n",
       " 'Mathematical Optimization': 2,\n",
       " 'Convolutional Neural Network': 2,\n",
       " 'Eigenvalues And Eigenvectors': 2,\n",
       " 'Natural Language Processing': 2,\n",
       " 'Machine Learning (ML) Algorithms': 2,\n",
       " 'Scikit-Learn': 2,\n",
       " 'Statistical Analysis': 2,\n",
       " 'Python Tools': 2,\n",
       " 'Tuple': 2,\n",
       " 'SQL': 2,\n",
       " 'Coding': 2,\n",
       " 'Matplotlib': 2,\n",
       " 'Unit Testing': 2,\n",
       " 'Inheritance': 2,\n",
       " 'Functions': 2,\n",
       " 'Algorithms': 2,\n",
       " 'Jupyter notebooks': 2,\n",
       " 'Web Scraping': 2,\n",
       " 'Software Engineering': 2,\n",
       " 'Web Application': 2,\n",
       " 'Jquery': 2,\n",
       " 'Front-End Web Development': 2,\n",
       " 'Html5': 2,\n",
       " 'Responsive Web Design': 2,\n",
       " 'Routing': 2,\n",
       " 'Regularization to Avoid Overfitting': 1,\n",
       " 'Supervised Learning': 1,\n",
       " 'Logistic Regression for Classification': 1,\n",
       " 'Xgboost': 1,\n",
       " 'Tree Ensembles': 1,\n",
       " 'Advice for Model Development': 1,\n",
       " 'Collaborative Filtering': 1,\n",
       " 'Unsupervised Learning': 1,\n",
       " 'Recommender Systems': 1,\n",
       " 'Reinforcement Learning': 1,\n",
       " 'Anomaly Detection': 1,\n",
       " 'Machine Learning Concepts': 1,\n",
       " 'Ridge Regression': 1,\n",
       " 'Lasso (Statistics)': 1,\n",
       " 'Regression Analysis': 1,\n",
       " 'Logistic Regression': 1,\n",
       " 'Statistical Classification': 1,\n",
       " 'Classification Algorithms': 1,\n",
       " 'Decision Tree': 1,\n",
       " 'Data Clustering Algorithms': 1,\n",
       " 'K-D Tree': 1,\n",
       " 'Backpropagation': 1,\n",
       " 'Neural Network Architecture': 1,\n",
       " 'hyperparameter tuning': 1,\n",
       " 'Inductive Transfer': 1,\n",
       " 'Multi-Task Learning': 1,\n",
       " 'Decision-Making': 1,\n",
       " 'Facial Recognition System': 1,\n",
       " 'Object Detection and Segmentation': 1,\n",
       " 'Basis (Linear Algebra)': 1,\n",
       " 'Transformation Matrix': 1,\n",
       " 'Vector Calculus': 1,\n",
       " 'Multivariable Calculus': 1,\n",
       " 'Dimensionality Reduction': 1,\n",
       " 'pytorch': 1,\n",
       " 'SciPy and scikit-learn': 1,\n",
       " 'regression': 1,\n",
       " 'classification': 1,\n",
       " 'Hierarchical Clustering': 1,\n",
       " 'Linear Equation': 1,\n",
       " 'Determinants': 1,\n",
       " 'Calculus': 1,\n",
       " \"Newton'S Method\": 1,\n",
       " 'Programming in Python': 1,\n",
       " 'Basic Programming Language': 1,\n",
       " 'Sqlite': 1,\n",
       " 'Basic Python Data Structures': 1,\n",
       " 'Fundamental Programming Concepts': 1,\n",
       " 'Basic Python Syntax': 1,\n",
       " 'Predictive Modelling': 1,\n",
       " 'Model Selection': 1,\n",
       " 'Using Comments to Enhance Code Readability': 1,\n",
       " 'Jupyter Notebook': 1,\n",
       " 'Cloud Hosting': 1,\n",
       " 'Application Programming Interfaces (API)': 1,\n",
       " 'Django (Web Framework)': 1,\n",
       " 'Data Cleansing': 1,\n",
       " 'Data Virtualization': 1,\n",
       " 'Natural Language Toolkit (NLTK)': 1,\n",
       " 'Text Mining': 1,\n",
       " 'Python Libraries': 1,\n",
       " 'Java Tools': 1,\n",
       " 'Java Syntax': 1,\n",
       " 'Problem Solving': 1,\n",
       " 'Idle (Python)': 1,\n",
       " 'Financial Analysis': 1,\n",
       " 'Financial Data Analysis': 1,\n",
       " 'Setting up your Development Environment': 1,\n",
       " 'Regular Expression (REGEX)': 1,\n",
       " 'Testing in Python': 1,\n",
       " 'Automating System Administration Tasks with Python': 1,\n",
       " 'Bash Scripting': 1,\n",
       " 'Wxpython': 1,\n",
       " 'Flow control': 1,\n",
       " 'Persistence': 1,\n",
       " 'privilege escalation and evasion': 1,\n",
       " 'Cybersecurity': 1,\n",
       " 'Execution': 1,\n",
       " 'Iteration': 1,\n",
       " 'Conditionals (Computer Science)': 1,\n",
       " 'variable (computer science)': 1,\n",
       " 'Strings (Python)': 1,\n",
       " 'Files (Python)': 1,\n",
       " 'Lists (Python)': 1,\n",
       " 'Recursion': 1,\n",
       " 'Objects': 1,\n",
       " 'Polymorphism': 1,\n",
       " 'Information Engineering': 1,\n",
       " 'Extract Transform Load (ETL)': 1,\n",
       " 'Codeskulptor': 1,\n",
       " 'List & Label': 1,\n",
       " 'Data Type': 1,\n",
       " 'For Loop': 1,\n",
       " 'Control Flow': 1,\n",
       " 'Programming Tool': 1,\n",
       " 'inheritance (object-oriented programming)': 1,\n",
       " 'Persist': 1,\n",
       " 'Integration Testing (I&T)': 1,\n",
       " 'Manual Testing': 1,\n",
       " 'Use Case': 1,\n",
       " 'Statistics': 1,\n",
       " 'Confidence Interval': 1,\n",
       " 'Statistical Inference': 1,\n",
       " 'Statistical Hypothesis Testing': 1,\n",
       " 'Bayesian Statistics': 1,\n",
       " 'Statistical Model': 1,\n",
       " 'statistical regression': 1,\n",
       " 'Artificial Intelligence (AI)': 1,\n",
       " 'Application development': 1,\n",
       " 'Flask': 1,\n",
       " 'Seaborn': 1,\n",
       " 'Vim': 1,\n",
       " 'Visual Studio Code': 1,\n",
       " 'Bash (Unix Shell)': 1,\n",
       " 'Data Management': 1,\n",
       " 'Linux': 1,\n",
       " 'MySQL': 1,\n",
       " 'Cloud-Hosted Notebooks': 1,\n",
       " 'Command-Line Interface': 1,\n",
       " 'animations': 1,\n",
       " 'Css Frameworks': 1,\n",
       " 'Test-Driven Development': 1,\n",
       " 'javascript syntax': 1,\n",
       " 'Web Accessibility': 1,\n",
       " 'Style Sheets': 1,\n",
       " 'Document Object Model (DOM)': 1,\n",
       " 'Bootstrap (Front-End Framework)': 1,\n",
       " 'Workflow of Machine Learning projects\\n': 1,\n",
       " 'AI terminology\\n': 1,\n",
       " 'AI strategy\\n': 1,\n",
       " 'Workflow of Data Science projects\\n': 1,\n",
       " 'Artificial Intelligence (AI)\\n': 1,\n",
       " 'machine learning models\\n': 1,\n",
       " 'Machine Learning\\n': 1,\n",
       " 'Deep Learning\\n': 1}"
      ]
     },
     "execution_count": 114,
     "metadata": {},
     "output_type": "execute_result"
    }
   ],
   "source": [
    "sortedSkillsDict"
   ]
  },
  {
   "cell_type": "markdown",
   "metadata": {},
   "source": [
    "We must also find the recurring information that appears in Product Glance, Enrollment Information, Partners, and Instructors. For Product Glance, we are looking to see whether information such as \"100% online\" is reoccuring in the courses."
   ]
  },
  {
   "cell_type": "code",
   "execution_count": 79,
   "metadata": {},
   "outputs": [
    {
     "name": "stdout",
     "output_type": "stream",
     "text": [
      "Unique Product Glance: 61\n",
      "-----------------\n",
      "\n",
      "Flexible deadlines = 102\n",
      "Shareable Certificate = 100\n",
      "100% online = 102\n",
      "Coursera Labs = 102\n",
      "Course 1 of 3 in the = 5\n",
      "Beginner Level = 49\n",
      "Approx. 33 hours to complete = 2\n",
      "English = 102\n",
      "Course 2 of 3 in the = 5\n",
      "Approx. 34 hours to complete = 3\n",
      "Course 3 of 3 in the = 4\n",
      "Approx. 27 hours to complete = 3\n",
      "Course 1 of 4 in the = 9\n",
      "Approx. 18 hours to complete = 6\n",
      "Course 2 of 4 in the = 8\n",
      "Approx. 22 hours to complete = 2\n",
      "Course 3 of 4 in the = 8\n",
      "Approx. 21 hours to complete = 4\n",
      "Course 4 of 4 in the = 8\n",
      "Approx. 17 hours to complete = 5\n",
      "Course 1 of 5 in the = 7\n",
      "Intermediate Level = 30\n",
      "Approx. 24 hours to complete = 3\n",
      "Course 2 of 5 in the = 6\n",
      "Approx. 23 hours to complete = 3\n",
      "Course 3 of 5 in the = 6\n",
      "Approx. 6 hours to complete = 4\n",
      "Course 4 of 5 in the = 5\n",
      "Approx. 35 hours to complete = 1\n",
      "Approx. 20 hours to complete = 6\n",
      "Approx. 12 hours to complete = 4\n",
      "Approx. 25 hours to complete = 6\n",
      "Approx. 31 hours to complete = 4\n",
      "Approx. 9 hours to complete = 7\n",
      "Approx. 11 hours to complete = 5\n",
      "Approx. 29 hours to complete = 2\n",
      "Approx. 19 hours to complete = 3\n",
      "Approx. 14 hours to complete = 6\n",
      "Course 1 of 6 in the = 2\n",
      "Approx. 26 hours to complete = 3\n",
      "Approx. 16 hours to complete = 2\n",
      "Course 2 of 7 in the = 1\n",
      "Advanced Level = 1\n",
      "Approx. 44 hours to complete = 1\n",
      "Course 2 of 6 in the = 2\n",
      "Approx. 3 hours to complete = 1\n",
      "Approx. 4 hours to complete = 2\n",
      "Approx. 88 hours to complete = 2\n",
      "Approx. 8 hours to complete = 2\n",
      "Approx. 13 hours to complete = 2\n",
      "Approx. 15 hours to complete = 2\n",
      "Approx. 7 hours to complete = 1\n",
      "Approx. 38 hours to complete = 1\n",
      "Course 4 of 6 in the = 2\n",
      "Approx. 40 hours to complete = 1\n",
      "Approx. 42 hours to complete = 1\n",
      "Approx. 10 hours to complete = 2\n",
      "Course 5 of 5 in the = 1\n",
      "Course 3 of 6 in the = 1\n",
      "Course 5 of 6 in the = 1\n",
      "Course 6 of 6 in the = 1\n"
     ]
    }
   ],
   "source": [
    "array = coursera['productGlance']\n",
    "productGlanceDict = {}\n",
    "\n",
    "for i in range(len(array)):\n",
    "    for j in range(len(array[i])):\n",
    "        if not (array[i][j][0] in productGlanceDict):\n",
    "            productGlanceDict[array[i][j][0]] = 1\n",
    "        else:\n",
    "            productGlanceDict[array[i][j][0]] += 1 \n",
    "\n",
    "uniqueProductGlanceValue = len(productGlanceDict)\n",
    "print(f'''Unique Product Glance: {uniqueProductGlanceValue}\\n-----------------\\n''')\n",
    "\n",
    "for keys, value in productGlanceDict.items():\n",
    "    print(f'''{keys} = {value}''')\n",
    "    "
   ]
  },
  {
   "cell_type": "markdown",
   "metadata": {},
   "source": [
    "### Bar Graph for Product Glance"
   ]
  },
  {
   "cell_type": "code",
   "execution_count": 90,
   "metadata": {},
   "outputs": [
    {
     "data": {
      "text/plain": [
       "Text(0.5, 0, 'Occurences')"
      ]
     },
     "execution_count": 90,
     "metadata": {},
     "output_type": "execute_result"
    },
    {
     "data": {
      "image/png": "[encoded data removed]",
      "text/plain": [
       "<Figure size 640x480 with 1 Axes>"
      ]
     },
     "metadata": {},
     "output_type": "display_data"
    }
   ],
   "source": [
    "x = []\n",
    "y = []\n",
    "\n",
    "#Sort list\n",
    "sortedList = sorted(productGlanceDict.items(), key=lambda x:x[1], reverse=True)\n",
    "sortedProductGlanceDict = dict(sortedList)\n",
    "\n",
    "# Create List of Skills that Occur Significantly (>5)\n",
    "for keys, values in sortedProductGlanceDict.items():\n",
    "    if(values > 10):\n",
    "        x.append(keys)\n",
    "        y.append(values)\n",
    "\n",
    "ax = plt.barh(x, y)\n",
    "plt.rc('ytick', labelsize=5) \n",
    "\n",
    "# Add Annotation \n",
    "for i in ax.patches:\n",
    "    plt.text(i.get_width()+0.2, i.get_y()+0.25,\n",
    "             str(round((i.get_width()), 2)),\n",
    "             fontsize = 7, fontweight ='bold',\n",
    "             color ='grey')\n",
    " \n",
    "plt.title(\"Product Glance Significant Occourences(>10)\")\n",
    "plt.ylabel(\"Product Glance Information\")\n",
    "plt.xlabel(\"Occurences\")"
   ]
  },
  {
   "cell_type": "markdown",
   "metadata": {},
   "source": [
    "It seems that all courses are 100% online, with flexible deadlines and shareable certificates"
   ]
  },
  {
   "cell_type": "markdown",
   "metadata": {},
   "source": [
    "For Enroll  Information, we are looking for data such as \"Financial Aid Available\""
   ]
  },
  {
   "cell_type": "code",
   "execution_count": 81,
   "metadata": {},
   "outputs": [
    {
     "name": "stdout",
     "output_type": "stream",
     "text": [
      "Unique Enroll Information: 33\n",
      "-----------------\n",
      "\n",
      "Financial aid available = 98\n",
      "This Course Plus the Full Specialization = 80\n",
      "Shareable Certificates = 80\n",
      "Self-Paced Learning Option = 80\n",
      "Course Videos & Readings = 80\n",
      "Practice Quizzes = 80\n",
      "Graded Assignments with Peer Feedback = 80\n",
      "Graded Quizzes with Feedback = 80\n",
      "Graded Programming Assignments = 80\n",
      "Enroll for Free\n",
      "Starts Jul 12 = 11\n",
      "150,611 already enrolled = 1\n",
      "182,118 already enrolled = 1\n",
      "Taught by top companies and universities = 9\n",
      "Affordable programs = 9\n",
      "Apply your skills with hands-on projects = 9\n",
      "Learn on your own schedule = 9\n",
      "Course videos and readings = 9\n",
      "Graded quizzes and assignments = 9\n",
      "No degree or experience required for many programs = 9\n",
      "Shareable Certificate upon completion = 9\n",
      "53,152 already enrolled = 1\n",
      "392,122 already enrolled = 1\n",
      "190,956 already enrolled = 1\n",
      "95,087 already enrolled = 1\n",
      "2,921 already enrolled = 1\n",
      " = 2\n",
      "287,831 already enrolled = 2\n",
      "5,895 already enrolled = 1\n",
      "1,914 already enrolled = 1\n",
      "Financial aid available\n",
      " = 2\n",
      "\n",
      "Enroll for Free\n",
      "Starts Jul 18\n",
      " = 2\n",
      "995,162 already enrolled\n",
      " = 1\n",
      "12,124 already enrolled\n",
      " = 1\n"
     ]
    }
   ],
   "source": [
    "array = coursera['enrollInformation']\n",
    "enrollInformationDict = {}\n",
    "\n",
    "for i in range(len(array)):\n",
    "    for j in range(len(array[i])):\n",
    "        if not (array[i][j] in enrollInformationDict):\n",
    "            enrollInformationDict[array[i][j]] = 1\n",
    "        else:\n",
    "            enrollInformationDict[array[i][j]] += 1 \n",
    "\n",
    "uniqueEnrollInformationValue = len(enrollInformationDict)\n",
    "print(f'''Unique Enroll Information: {uniqueEnrollInformationValue}\\n-----------------\\n''')\n",
    "\n",
    "for keys, value in enrollInformationDict.items():\n",
    "    print(f'''{keys} = {value}''')\n",
    "    "
   ]
  },
  {
   "cell_type": "markdown",
   "metadata": {},
   "source": [
    "### Bar Graph for Enroll Information"
   ]
  },
  {
   "cell_type": "code",
   "execution_count": 92,
   "metadata": {},
   "outputs": [
    {
     "data": {
      "text/plain": [
       "Text(0.5, 0, 'Occurences')"
      ]
     },
     "execution_count": 92,
     "metadata": {},
     "output_type": "execute_result"
    },
    {
     "data": {
      "image/png": "[encoded data removed]",
      "text/plain": [
       "<Figure size 640x480 with 1 Axes>"
      ]
     },
     "metadata": {},
     "output_type": "display_data"
    }
   ],
   "source": [
    "x = []\n",
    "y = []\n",
    "\n",
    "#Sort list\n",
    "sortedList = sorted(enrollInformationDict.items(), key=lambda x:x[1], reverse=True)\n",
    "sortedEnrollInformationDict = dict(sortedList)\n",
    "\n",
    "# Create List of Skills that Occur Significantly (>5)\n",
    "for keys, values in sortedEnrollInformationDict.items():\n",
    "    if(values > 5):\n",
    "        x.append(keys)\n",
    "        y.append(values)\n",
    "\n",
    "ax = plt.barh(x, y)\n",
    "\n",
    "# Add Annotation \n",
    "for i in ax.patches:\n",
    "    plt.text(i.get_width()+0.2, i.get_y()+0.25,\n",
    "             str(round((i.get_width()), 2)),\n",
    "             fontsize = 7, fontweight ='bold',\n",
    "             color ='grey')\n",
    " \n",
    "plt.title(\"Enroll Information Significant Occourences(>5)\")\n",
    "plt.ylabel(\"Enroll Information\")\n",
    "plt.xlabel(\"Occurences\")"
   ]
  },
  {
   "cell_type": "code",
   "execution_count": 83,
   "metadata": {},
   "outputs": [
    {
     "name": "stdout",
     "output_type": "stream",
     "text": [
      "Unique Partners: 28\n",
      "-----------------\n",
      "\n",
      "DeepLearning.AI = 9\n",
      "Stanford University = 3\n",
      "University of Washington = 4\n",
      "University of London = 8\n",
      "Imperial College London = 3\n",
      "Duke University = 6\n",
      "IBM = 5\n",
      "University of Michigan = 20\n",
      "Alberta Machine Intelligence Institute = 4\n",
      "Goldsmiths, University of London = 7\n",
      "University of Pennsylvania = 5\n",
      "Google = 3\n",
      "Meta = 2\n",
      "University of Toronto = 1\n",
      "The Hong Kong University of Science and Technology = 1\n",
      "Nanjing University = 1\n",
      "Johns Hopkins University = 2\n",
      "Infosec = 3\n",
      "University of Colorado Boulder = 3\n",
      "Codio = 4\n",
      "Princeton University = 2\n",
      "Rice University = 4\n",
      "LearnQuest = 4\n",
      "Korea Advanced Institute of Science and Technology(KAIST) = 1\n",
      "University of California, Davis = 4\n",
      "Scrimba = 1\n",
      "DeepLearning.AI\n",
      " = 1\n",
      "Amazon Web Services\n",
      " = 1\n"
     ]
    }
   ],
   "source": [
    "array = coursera['partners']\n",
    "partnersDict = {}\n",
    "\n",
    "for i in range(len(array)):\n",
    "    for j in range(len(array[i])):\n",
    "        if not (array[i][j][0] in partnersDict):\n",
    "            partnersDict[array[i][j][0]] = 1\n",
    "        else:\n",
    "            partnersDict[array[i][j][0]] += 1 \n",
    "\n",
    "uniquePartnerValue = len(partnersDict)\n",
    "print(f'''Unique Partners: {uniquePartnerValue}\\n-----------------\\n''')\n",
    "\n",
    "for keys, value in partnersDict.items():\n",
    "    print(f'''{keys} = {value}''')\n",
    "    "
   ]
  },
  {
   "cell_type": "markdown",
   "metadata": {},
   "source": [
    "### Bar Graph For Partners"
   ]
  },
  {
   "cell_type": "code",
   "execution_count": 91,
   "metadata": {},
   "outputs": [
    {
     "data": {
      "text/plain": [
       "Text(0.5, 0, 'Occurences')"
      ]
     },
     "execution_count": 91,
     "metadata": {},
     "output_type": "execute_result"
    },
    {
     "data": {
      "image/png": "[encoded data removed]",
      "text/plain": [
       "<Figure size 640x480 with 1 Axes>"
      ]
     },
     "metadata": {},
     "output_type": "display_data"
    }
   ],
   "source": [
    "x = []\n",
    "y = []\n",
    "\n",
    "#Sort list\n",
    "sortedList = sorted(partnersDict.items(), key=lambda x:x[1], reverse=True)\n",
    "sortedPartnersDict = dict(sortedList)\n",
    "\n",
    "# Create List of Skills that Occur Significantly (>5)\n",
    "for keys, values in sortedPartnersDict.items():\n",
    "    # if(values > 5):\n",
    "        x.append(keys)\n",
    "        y.append(values)\n",
    "\n",
    "ax = plt.barh(x, y)\n",
    "plt.rc('ytick', labelsize=6) \n",
    "\n",
    "# Add Annotation \n",
    "for i in ax.patches:\n",
    "    plt.text(i.get_width()+0.2, i.get_y()+0.25,\n",
    "             str(round((i.get_width()), 2)),\n",
    "             fontsize = 6, fontweight ='bold',\n",
    "             color ='grey')\n",
    " \n",
    "plt.title(\"Partners\")\n",
    "plt.ylabel(\"Partners\")\n",
    "plt.xlabel(\"Occurences\")"
   ]
  },
  {
   "cell_type": "code",
   "execution_count": 85,
   "metadata": {},
   "outputs": [
    {
     "name": "stdout",
     "output_type": "stream",
     "text": [
      "Unique Instructors: 81\n",
      "-----------------\n",
      "\n",
      "Andrew Ng = 8\n",
      "Eddy Shyu = 3\n",
      "Aarti Bagul = 3\n",
      "Geoff Ladwig = 3\n",
      "Emily Fox = 4\n",
      "Carlos Guestrin = 4\n",
      "Prof Marco Gillies = 3\n",
      "Kian Katanforoosh = 4\n",
      "Younes Bensouda Mourri = 4\n",
      "David Dye = 2\n",
      "Samuel J. Cooper = 2\n",
      "A. Freddie Page = 2\n",
      "Marc Peter Deisenroth = 1\n",
      "Lawrence Carin  = 1\n",
      "David Carlson = 1\n",
      "Timothy Dunn = 1\n",
      "Kevin Liang = 1\n",
      "SAEED AGHABOZORGI = 1\n",
      "Joseph Santarcangelo = 5\n",
      "Luis Serrano = 2\n",
      "Elena Sanina = 2\n",
      "Anshuman Singh = 2\n",
      "Magdalena Bouza = 2\n",
      "Kevyn Collins-Thompson = 2\n",
      "Anna Koop = 4\n",
      "Dr Matthew Yee-King = 7\n",
      "Dr Betty Fyn-Sydney = 1\n",
      "Dr Jamie A Ward = 1\n",
      "Dr Larisa Soldatova = 1\n",
      "Brandon Krakowsky = 5\n",
      "Charles Russell Severance = 8\n",
      "Google Career Certificates = 3\n",
      "Paul Resnick = 4\n",
      "Steve Oney = 3\n",
      "Taught by Meta Staff = 2\n",
      "Christopher Brooks = 2\n",
      "V. G. Vinod Vydiswaran = 1\n",
      "Jennifer Campbell = 1\n",
      "Paul Gries = 1\n",
      "Xuhu Wan = 1\n",
      "ZHANG Li = 1\n",
      "Joseph W. Cutrone, PhD = 1\n",
      "Associate Teaching Professor and Director of Online Programs = 1\n",
      "Mathematics = 1\n",
      " 143,642 Learners = 1\n",
      "Howard Poston = 3\n",
      "Di Wu = 3\n",
      "Elise Deitrick = 4\n",
      "Patrick Ester = 4\n",
      "Robert Sedgewick = 2\n",
      "Kevin Wayne = 2\n",
      "Ramesh Sannareddy = 2\n",
      "Scott Rixner = 4\n",
      "Joe Warren = 4\n",
      "Aspen Olmsted = 4\n",
      "Professor and Program Director = 1\n",
      "None = 2\n",
      " 44,514 Learners = 1\n",
      "Brenda Gunderson = 3\n",
      "Brady T. West = 3\n",
      "Kerby Shedden = 3\n",
      "Youngsun Kwon = 1\n",
      "Kennedy Behrman = 4\n",
      "Alfredo Deza = 4\n",
      "Noah Gift = 4\n",
      "William Mead = 4\n",
      "Yaakov Chaikin = 1\n",
      "Per Harald Borgen = 1\n",
      "CEO at Scrimba = 1\n",
      " 4,057 Learners = 1\n",
      "Colleen van Lent, Ph.D. = 5\n",
      "Susan H. Rodger = 1\n",
      "Robert Duvall = 1\n",
      "Owen Astrachan = 1\n",
      "Andrew D. Hilton = 1\n",
      "Dr Kate Devlin = 2\n",
      "Dr Mick Grierson = 1\n",
      "Lecturer = 2\n",
      "Computing Department, Goldsmiths, University of London = 2\n",
      " 358,571 Learners = 2\n",
      "Russell Sayers = 1\n"
     ]
    }
   ],
   "source": [
    "array = coursera['instructors']\n",
    "instructorsDict = {}\n",
    "\n",
    "for i in range(len(array)):\n",
    "    for j in range(len(array[i])):\n",
    "        if not (array[i][j][0] in instructorsDict):\n",
    "            instructorsDict[array[i][j][0]] = 1\n",
    "        else:\n",
    "            instructorsDict[array[i][j][0]] += 1 \n",
    "\n",
    "uniqueInstructorsValue = len(instructorsDict)\n",
    "print(f'''Unique Instructors: {uniqueInstructorsValue}\\n-----------------\\n''')\n",
    "\n",
    "for keys, value in instructorsDict.items():\n",
    "    print(f'''{keys} = {value}''')"
   ]
  },
  {
   "cell_type": "markdown",
   "metadata": {},
   "source": [
    "### Bar Graph For Instructors"
   ]
  },
  {
   "cell_type": "code",
   "execution_count": 86,
   "metadata": {},
   "outputs": [
    {
     "ename": "TypeError",
     "evalue": "'value' must be an instance of str or bytes, not a None",
     "output_type": "error",
     "traceback": [
      "\u001b[0;31m---------------------------------------------------------------------------\u001b[0m",
      "\u001b[0;31mTypeError\u001b[0m                                 Traceback (most recent call last)",
      "Cell \u001b[0;32mIn[86], line 10\u001b[0m\n\u001b[1;32m      7\u001b[0m         x\u001b[39m.\u001b[39mappend(keys)\n\u001b[1;32m      8\u001b[0m         y\u001b[39m.\u001b[39mappend(values)\n\u001b[0;32m---> 10\u001b[0m ax \u001b[39m=\u001b[39m plt\u001b[39m.\u001b[39;49mbarh(x, y)\n\u001b[1;32m     11\u001b[0m plt\u001b[39m.\u001b[39mrc(\u001b[39m'\u001b[39m\u001b[39mytick\u001b[39m\u001b[39m'\u001b[39m, labelsize\u001b[39m=\u001b[39m\u001b[39m6\u001b[39m) \n\u001b[1;32m     13\u001b[0m \u001b[39m# Add Annotation \u001b[39;00m\n",
      "File \u001b[0;32m~/anaconda3/lib/python3.10/site-packages/matplotlib/pyplot.py:2430\u001b[0m, in \u001b[0;36mbarh\u001b[0;34m(y, width, height, left, align, data, **kwargs)\u001b[0m\n\u001b[1;32m   2426\u001b[0m \u001b[39m@_copy_docstring_and_deprecators\u001b[39m(Axes\u001b[39m.\u001b[39mbarh)\n\u001b[1;32m   2427\u001b[0m \u001b[39mdef\u001b[39;00m \u001b[39mbarh\u001b[39m(\n\u001b[1;32m   2428\u001b[0m         y, width, height\u001b[39m=\u001b[39m\u001b[39m0.8\u001b[39m, left\u001b[39m=\u001b[39m\u001b[39mNone\u001b[39;00m, \u001b[39m*\u001b[39m, align\u001b[39m=\u001b[39m\u001b[39m'\u001b[39m\u001b[39mcenter\u001b[39m\u001b[39m'\u001b[39m,\n\u001b[1;32m   2429\u001b[0m         data\u001b[39m=\u001b[39m\u001b[39mNone\u001b[39;00m, \u001b[39m*\u001b[39m\u001b[39m*\u001b[39mkwargs):\n\u001b[0;32m-> 2430\u001b[0m     \u001b[39mreturn\u001b[39;00m gca()\u001b[39m.\u001b[39;49mbarh(\n\u001b[1;32m   2431\u001b[0m         y, width, height\u001b[39m=\u001b[39;49mheight, left\u001b[39m=\u001b[39;49mleft, align\u001b[39m=\u001b[39;49malign,\n\u001b[1;32m   2432\u001b[0m         \u001b[39m*\u001b[39;49m\u001b[39m*\u001b[39;49m({\u001b[39m\"\u001b[39;49m\u001b[39mdata\u001b[39;49m\u001b[39m\"\u001b[39;49m: data} \u001b[39mif\u001b[39;49;00m data \u001b[39mis\u001b[39;49;00m \u001b[39mnot\u001b[39;49;00m \u001b[39mNone\u001b[39;49;00m \u001b[39melse\u001b[39;49;00m {}), \u001b[39m*\u001b[39;49m\u001b[39m*\u001b[39;49mkwargs)\n",
      "File \u001b[0;32m~/anaconda3/lib/python3.10/site-packages/matplotlib/axes/_axes.py:2649\u001b[0m, in \u001b[0;36mAxes.barh\u001b[0;34m(self, y, width, height, left, align, data, **kwargs)\u001b[0m\n\u001b[1;32m   2539\u001b[0m \u001b[39mr\u001b[39m\u001b[39m\"\"\"\u001b[39;00m\n\u001b[1;32m   2540\u001b[0m \u001b[39mMake a horizontal bar plot.\u001b[39;00m\n\u001b[1;32m   2541\u001b[0m \n\u001b[0;32m   (...)\u001b[0m\n\u001b[1;32m   2646\u001b[0m \u001b[39m:doc:`/gallery/lines_bars_and_markers/horizontal_barchart_distribution`.\u001b[39;00m\n\u001b[1;32m   2647\u001b[0m \u001b[39m\"\"\"\u001b[39;00m\n\u001b[1;32m   2648\u001b[0m kwargs\u001b[39m.\u001b[39msetdefault(\u001b[39m'\u001b[39m\u001b[39morientation\u001b[39m\u001b[39m'\u001b[39m, \u001b[39m'\u001b[39m\u001b[39mhorizontal\u001b[39m\u001b[39m'\u001b[39m)\n\u001b[0;32m-> 2649\u001b[0m patches \u001b[39m=\u001b[39m \u001b[39mself\u001b[39;49m\u001b[39m.\u001b[39;49mbar(x\u001b[39m=\u001b[39;49mleft, height\u001b[39m=\u001b[39;49mheight, width\u001b[39m=\u001b[39;49mwidth, bottom\u001b[39m=\u001b[39;49my,\n\u001b[1;32m   2650\u001b[0m                    align\u001b[39m=\u001b[39;49malign, data\u001b[39m=\u001b[39;49mdata, \u001b[39m*\u001b[39;49m\u001b[39m*\u001b[39;49mkwargs)\n\u001b[1;32m   2651\u001b[0m \u001b[39mreturn\u001b[39;00m patches\n",
      "File \u001b[0;32m~/anaconda3/lib/python3.10/site-packages/matplotlib/__init__.py:1442\u001b[0m, in \u001b[0;36m_preprocess_data.<locals>.inner\u001b[0;34m(ax, data, *args, **kwargs)\u001b[0m\n\u001b[1;32m   1439\u001b[0m \u001b[39m@functools\u001b[39m\u001b[39m.\u001b[39mwraps(func)\n\u001b[1;32m   1440\u001b[0m \u001b[39mdef\u001b[39;00m \u001b[39minner\u001b[39m(ax, \u001b[39m*\u001b[39margs, data\u001b[39m=\u001b[39m\u001b[39mNone\u001b[39;00m, \u001b[39m*\u001b[39m\u001b[39m*\u001b[39mkwargs):\n\u001b[1;32m   1441\u001b[0m     \u001b[39mif\u001b[39;00m data \u001b[39mis\u001b[39;00m \u001b[39mNone\u001b[39;00m:\n\u001b[0;32m-> 1442\u001b[0m         \u001b[39mreturn\u001b[39;00m func(ax, \u001b[39m*\u001b[39;49m\u001b[39mmap\u001b[39;49m(sanitize_sequence, args), \u001b[39m*\u001b[39;49m\u001b[39m*\u001b[39;49mkwargs)\n\u001b[1;32m   1444\u001b[0m     bound \u001b[39m=\u001b[39m new_sig\u001b[39m.\u001b[39mbind(ax, \u001b[39m*\u001b[39margs, \u001b[39m*\u001b[39m\u001b[39m*\u001b[39mkwargs)\n\u001b[1;32m   1445\u001b[0m     auto_label \u001b[39m=\u001b[39m (bound\u001b[39m.\u001b[39marguments\u001b[39m.\u001b[39mget(label_namer)\n\u001b[1;32m   1446\u001b[0m                   \u001b[39mor\u001b[39;00m bound\u001b[39m.\u001b[39mkwargs\u001b[39m.\u001b[39mget(label_namer))\n",
      "File \u001b[0;32m~/anaconda3/lib/python3.10/site-packages/matplotlib/axes/_axes.py:2397\u001b[0m, in \u001b[0;36mAxes.bar\u001b[0;34m(self, x, height, width, bottom, align, **kwargs)\u001b[0m\n\u001b[1;32m   2395\u001b[0m         \u001b[39mself\u001b[39m\u001b[39m.\u001b[39mset_yscale(\u001b[39m'\u001b[39m\u001b[39mlog\u001b[39m\u001b[39m'\u001b[39m, nonpositive\u001b[39m=\u001b[39m\u001b[39m'\u001b[39m\u001b[39mclip\u001b[39m\u001b[39m'\u001b[39m)\n\u001b[1;32m   2396\u001b[0m \u001b[39melse\u001b[39;00m:  \u001b[39m# horizontal\u001b[39;00m\n\u001b[0;32m-> 2397\u001b[0m     \u001b[39mself\u001b[39;49m\u001b[39m.\u001b[39;49m_process_unit_info(\n\u001b[1;32m   2398\u001b[0m         [(\u001b[39m\"\u001b[39;49m\u001b[39mx\u001b[39;49m\u001b[39m\"\u001b[39;49m, width), (\u001b[39m\"\u001b[39;49m\u001b[39my\u001b[39;49m\u001b[39m\"\u001b[39;49m, y)], kwargs, convert\u001b[39m=\u001b[39;49m\u001b[39mFalse\u001b[39;49;00m)\n\u001b[1;32m   2399\u001b[0m     \u001b[39mif\u001b[39;00m log:\n\u001b[1;32m   2400\u001b[0m         \u001b[39mself\u001b[39m\u001b[39m.\u001b[39mset_xscale(\u001b[39m'\u001b[39m\u001b[39mlog\u001b[39m\u001b[39m'\u001b[39m, nonpositive\u001b[39m=\u001b[39m\u001b[39m'\u001b[39m\u001b[39mclip\u001b[39m\u001b[39m'\u001b[39m)\n",
      "File \u001b[0;32m~/anaconda3/lib/python3.10/site-packages/matplotlib/axes/_base.py:2551\u001b[0m, in \u001b[0;36m_AxesBase._process_unit_info\u001b[0;34m(self, datasets, kwargs, convert)\u001b[0m\n\u001b[1;32m   2547\u001b[0m     \u001b[39m# Update from data if axis is already set but no unit is set yet.\u001b[39;00m\n\u001b[1;32m   2548\u001b[0m     \u001b[39mif\u001b[39;00m (axis \u001b[39mis\u001b[39;00m \u001b[39mnot\u001b[39;00m \u001b[39mNone\u001b[39;00m \u001b[39mand\u001b[39;00m\n\u001b[1;32m   2549\u001b[0m             data \u001b[39mis\u001b[39;00m \u001b[39mnot\u001b[39;00m \u001b[39mNone\u001b[39;00m \u001b[39mand\u001b[39;00m\n\u001b[1;32m   2550\u001b[0m             \u001b[39mnot\u001b[39;00m axis\u001b[39m.\u001b[39m_have_units_and_converter()):\n\u001b[0;32m-> 2551\u001b[0m         axis\u001b[39m.\u001b[39;49mupdate_units(data)\n\u001b[1;32m   2552\u001b[0m \u001b[39mfor\u001b[39;00m axis_name, axis \u001b[39min\u001b[39;00m axis_map\u001b[39m.\u001b[39mitems():\n\u001b[1;32m   2553\u001b[0m     \u001b[39m# Return if no axis is set.\u001b[39;00m\n\u001b[1;32m   2554\u001b[0m     \u001b[39mif\u001b[39;00m axis \u001b[39mis\u001b[39;00m \u001b[39mNone\u001b[39;00m:\n",
      "File \u001b[0;32m~/anaconda3/lib/python3.10/site-packages/matplotlib/axis.py:1670\u001b[0m, in \u001b[0;36mAxis.update_units\u001b[0;34m(self, data)\u001b[0m\n\u001b[1;32m   1668\u001b[0m neednew \u001b[39m=\u001b[39m \u001b[39mself\u001b[39m\u001b[39m.\u001b[39mconverter \u001b[39m!=\u001b[39m converter\n\u001b[1;32m   1669\u001b[0m \u001b[39mself\u001b[39m\u001b[39m.\u001b[39mconverter \u001b[39m=\u001b[39m converter\n\u001b[0;32m-> 1670\u001b[0m default \u001b[39m=\u001b[39m \u001b[39mself\u001b[39;49m\u001b[39m.\u001b[39;49mconverter\u001b[39m.\u001b[39;49mdefault_units(data, \u001b[39mself\u001b[39;49m)\n\u001b[1;32m   1671\u001b[0m \u001b[39mif\u001b[39;00m default \u001b[39mis\u001b[39;00m \u001b[39mnot\u001b[39;00m \u001b[39mNone\u001b[39;00m \u001b[39mand\u001b[39;00m \u001b[39mself\u001b[39m\u001b[39m.\u001b[39munits \u001b[39mis\u001b[39;00m \u001b[39mNone\u001b[39;00m:\n\u001b[1;32m   1672\u001b[0m     \u001b[39mself\u001b[39m\u001b[39m.\u001b[39mset_units(default)\n",
      "File \u001b[0;32m~/anaconda3/lib/python3.10/site-packages/matplotlib/category.py:105\u001b[0m, in \u001b[0;36mStrCategoryConverter.default_units\u001b[0;34m(data, axis)\u001b[0m\n\u001b[1;32m    103\u001b[0m \u001b[39m# the conversion call stack is default_units -> axis_info -> convert\u001b[39;00m\n\u001b[1;32m    104\u001b[0m \u001b[39mif\u001b[39;00m axis\u001b[39m.\u001b[39munits \u001b[39mis\u001b[39;00m \u001b[39mNone\u001b[39;00m:\n\u001b[0;32m--> 105\u001b[0m     axis\u001b[39m.\u001b[39mset_units(UnitData(data))\n\u001b[1;32m    106\u001b[0m \u001b[39melse\u001b[39;00m:\n\u001b[1;32m    107\u001b[0m     axis\u001b[39m.\u001b[39munits\u001b[39m.\u001b[39mupdate(data)\n",
      "File \u001b[0;32m~/anaconda3/lib/python3.10/site-packages/matplotlib/category.py:181\u001b[0m, in \u001b[0;36mUnitData.__init__\u001b[0;34m(self, data)\u001b[0m\n\u001b[1;32m    179\u001b[0m \u001b[39mself\u001b[39m\u001b[39m.\u001b[39m_counter \u001b[39m=\u001b[39m itertools\u001b[39m.\u001b[39mcount()\n\u001b[1;32m    180\u001b[0m \u001b[39mif\u001b[39;00m data \u001b[39mis\u001b[39;00m \u001b[39mnot\u001b[39;00m \u001b[39mNone\u001b[39;00m:\n\u001b[0;32m--> 181\u001b[0m     \u001b[39mself\u001b[39;49m\u001b[39m.\u001b[39;49mupdate(data)\n",
      "File \u001b[0;32m~/anaconda3/lib/python3.10/site-packages/matplotlib/category.py:216\u001b[0m, in \u001b[0;36mUnitData.update\u001b[0;34m(self, data)\u001b[0m\n\u001b[1;32m    213\u001b[0m convertible \u001b[39m=\u001b[39m \u001b[39mTrue\u001b[39;00m\n\u001b[1;32m    214\u001b[0m \u001b[39mfor\u001b[39;00m val \u001b[39min\u001b[39;00m OrderedDict\u001b[39m.\u001b[39mfromkeys(data):\n\u001b[1;32m    215\u001b[0m     \u001b[39m# OrderedDict just iterates over unique values in data.\u001b[39;00m\n\u001b[0;32m--> 216\u001b[0m     _api\u001b[39m.\u001b[39;49mcheck_isinstance((\u001b[39mstr\u001b[39;49m, \u001b[39mbytes\u001b[39;49m), value\u001b[39m=\u001b[39;49mval)\n\u001b[1;32m    217\u001b[0m     \u001b[39mif\u001b[39;00m convertible:\n\u001b[1;32m    218\u001b[0m         \u001b[39m# this will only be called so long as convertible is True.\u001b[39;00m\n\u001b[1;32m    219\u001b[0m         convertible \u001b[39m=\u001b[39m \u001b[39mself\u001b[39m\u001b[39m.\u001b[39m_str_is_convertible(val)\n",
      "File \u001b[0;32m~/anaconda3/lib/python3.10/site-packages/matplotlib/_api/__init__.py:93\u001b[0m, in \u001b[0;36mcheck_isinstance\u001b[0;34m(_types, **kwargs)\u001b[0m\n\u001b[1;32m     91\u001b[0m     names\u001b[39m.\u001b[39mremove(\u001b[39m\"\u001b[39m\u001b[39mNone\u001b[39m\u001b[39m\"\u001b[39m)\n\u001b[1;32m     92\u001b[0m     names\u001b[39m.\u001b[39mappend(\u001b[39m\"\u001b[39m\u001b[39mNone\u001b[39m\u001b[39m\"\u001b[39m)\n\u001b[0;32m---> 93\u001b[0m \u001b[39mraise\u001b[39;00m \u001b[39mTypeError\u001b[39;00m(\n\u001b[1;32m     94\u001b[0m     \u001b[39m\"\u001b[39m\u001b[39m{!r}\u001b[39;00m\u001b[39m must be an instance of \u001b[39m\u001b[39m{}\u001b[39;00m\u001b[39m, not a \u001b[39m\u001b[39m{}\u001b[39;00m\u001b[39m\"\u001b[39m\u001b[39m.\u001b[39mformat(\n\u001b[1;32m     95\u001b[0m         k,\n\u001b[1;32m     96\u001b[0m         \u001b[39m\"\u001b[39m\u001b[39m, \u001b[39m\u001b[39m\"\u001b[39m\u001b[39m.\u001b[39mjoin(names[:\u001b[39m-\u001b[39m\u001b[39m1\u001b[39m]) \u001b[39m+\u001b[39m \u001b[39m\"\u001b[39m\u001b[39m or \u001b[39m\u001b[39m\"\u001b[39m \u001b[39m+\u001b[39m names[\u001b[39m-\u001b[39m\u001b[39m1\u001b[39m]\n\u001b[1;32m     97\u001b[0m         \u001b[39mif\u001b[39;00m \u001b[39mlen\u001b[39m(names) \u001b[39m>\u001b[39m \u001b[39m1\u001b[39m \u001b[39melse\u001b[39;00m names[\u001b[39m0\u001b[39m],\n\u001b[1;32m     98\u001b[0m         type_name(\u001b[39mtype\u001b[39m(v))))\n",
      "\u001b[0;31mTypeError\u001b[0m: 'value' must be an instance of str or bytes, not a None"
     ]
    },
    {
     "data": {
      "image/png": "[encoded data removed]",
      "text/plain": [
       "<Figure size 640x480 with 1 Axes>"
      ]
     },
     "metadata": {},
     "output_type": "display_data"
    }
   ],
   "source": [
    "x = []\n",
    "y = []\n",
    "# Create List of Skills that Occur Significantly (>5)\n",
    "for keys, values in instructorsDict.items():\n",
    "    # if(values > 5):\n",
    "    if values != None:\n",
    "        x.append(keys)\n",
    "        y.append(values)\n",
    "\n",
    "ax = plt.barh(x, y)\n",
    "plt.rc('ytick', labelsize=6) \n",
    "\n",
    "# Add Annotation \n",
    "for i in ax.patches:\n",
    "    plt.text(i.get_width()+0.2, i.get_y()+0.25,\n",
    "             str(round((i.get_width()), 2)),\n",
    "             fontsize = 6, fontweight ='bold',\n",
    "             color ='grey')\n",
    " \n",
    "plt.title(\"Instructor Occurences\")\n",
    "plt.ylabel(\"Instructors\")\n",
    "plt.xlabel(\"Occurences\")"
   ]
  },
  {
   "cell_type": "markdown",
   "metadata": {},
   "source": [
    "# Keyword Checker\n",
    "\n",
    "Checks if a keyword is contained in one of the columns"
   ]
  },
  {
   "cell_type": "code",
   "execution_count": 87,
   "metadata": {},
   "outputs": [],
   "source": [
    "def keywordCheck(keyword, column):\n",
    "    myList = []\n",
    "    for i in column:\n",
    "        try:\n",
    "            if keyword in i:\n",
    "                myList.append(True)\n",
    "            else:\n",
    "                myList.append(False)\n",
    "        except: continue\n",
    "    return myList"
   ]
  },
  {
   "cell_type": "markdown",
   "metadata": {},
   "source": [
    "Testing"
   ]
  },
  {
   "cell_type": "code",
   "execution_count": 88,
   "metadata": {},
   "outputs": [
    {
     "name": "stdout",
     "output_type": "stream",
     "text": [
      "True\n",
      "False\n",
      "False\n",
      "True\n",
      "True\n",
      "True\n",
      "True\n",
      "True\n",
      "False\n",
      "False\n",
      "True\n",
      "False\n",
      "True\n",
      "True\n",
      "True\n",
      "True\n",
      "True\n",
      "True\n",
      "True\n",
      "True\n",
      "True\n",
      "True\n",
      "True\n",
      "True\n",
      "False\n",
      "False\n",
      "False\n",
      "False\n",
      "False\n",
      "False\n",
      "False\n",
      "False\n",
      "False\n",
      "False\n",
      "False\n",
      "False\n",
      "False\n",
      "False\n",
      "False\n",
      "False\n",
      "False\n",
      "True\n",
      "False\n",
      "False\n",
      "False\n",
      "False\n",
      "False\n",
      "False\n",
      "False\n",
      "False\n",
      "False\n",
      "False\n",
      "False\n",
      "False\n",
      "False\n",
      "False\n",
      "False\n",
      "False\n",
      "False\n",
      "False\n",
      "False\n",
      "False\n",
      "False\n",
      "False\n",
      "False\n",
      "False\n",
      "False\n",
      "False\n",
      "False\n",
      "False\n",
      "False\n",
      "False\n",
      "False\n",
      "False\n",
      "False\n",
      "False\n",
      "False\n",
      "False\n",
      "False\n",
      "False\n",
      "False\n",
      "False\n",
      "False\n",
      "False\n",
      "False\n",
      "False\n",
      "False\n",
      "False\n",
      "False\n",
      "False\n",
      "False\n",
      "False\n",
      "False\n",
      "False\n",
      "False\n",
      "False\n",
      "False\n",
      "False\n",
      "False\n",
      "False\n",
      "False\n",
      "True\n"
     ]
    }
   ],
   "source": [
    "array = keywordCheck('Machine Learning', coursera['title'])\n",
    "\n",
    "for i in array:\n",
    "    print(i)"
   ]
  },
  {
   "cell_type": "markdown",
   "metadata": {},
   "source": [
    "Violin Plots"
   ]
  },
  {
   "cell_type": "code",
   "execution_count": 129,
   "metadata": {},
   "outputs": [
    {
     "data": {
      "application/vnd.plotly.v1+json": {
       "config": {
        "plotlyServerURL": "https://plot.ly"
       },
       "data": [
        {
         "alignmentgroup": "True",
         "box": {
          "visible": true
         },
         "hovertemplate": "hasPython=%{x}<br>enrolledCount=%{y}<extra></extra>",
         "legendgroup": "",
         "marker": {
          "color": "#636efa"
         },
         "name": "",
         "offsetgroup": "",
         "orientation": "v",
         "scalegroup": "True",
         "showlegend": false,
         "type": "violin",
         "x": [
          false,
          false,
          false,
          true,
          false,
          false,
          false,
          false,
          true,
          false,
          false,
          false,
          false,
          false,
          true,
          true,
          false,
          false,
          false,
          true,
          false,
          false,
          true,
          false,
          false,
          true,
          true,
          true,
          true,
          true,
          true,
          false,
          false,
          false,
          false,
          true,
          true,
          true,
          true,
          true,
          true,
          true,
          true,
          true,
          false,
          false,
          true,
          true,
          false,
          true,
          false,
          false,
          true,
          true,
          false,
          true,
          true,
          true,
          true,
          false,
          true,
          true,
          true,
          false,
          false,
          false,
          false,
          true,
          false,
          true,
          true,
          true,
          false,
          true,
          true,
          false,
          true,
          false,
          true,
          true,
          false,
          false,
          false,
          false,
          false,
          false,
          false,
          false,
          false,
          false,
          false,
          false,
          false,
          false,
          false,
          false,
          false,
          false,
          false,
          false,
          false,
          false
         ],
         "x0": " ",
         "xaxis": "x",
         "y": [
          365621,
          129874,
          97661,
          375689,
          153704,
          120010,
          93657,
          150611,
          1204179,
          501308,
          421341,
          459965,
          337883,
          126103,
          81583,
          182118,
          344472,
          42560,
          16546,
          280064,
          23006,
          15669,
          7745,
          6441,
          53152,
          59484,
          592016,
          2892552,
          967464,
          462848,
          875753,
          379543,
          104266,
          76223,
          91046,
          338698,
          20723,
          47242,
          59484,
          739647,
          181199,
          280064,
          133685,
          20341,
          23125,
          6264,
          392122,
          190956,
          198940,
          95087,
          null,
          15849,
          4918,
          3706,
          2421,
          5929,
          3106,
          2698,
          5235,
          287831,
          26340,
          87000,
          24971,
          36468,
          35265,
          6132,
          2097,
          1765,
          3029,
          122243,
          39911,
          31241,
          5895,
          34157,
          11589,
          1504,
          12833,
          5355,
          7215,
          2141,
          51827,
          7231,
          5353,
          5007,
          970365,
          91941,
          1914,
          522361,
          196685,
          188889,
          108835,
          50897,
          544965,
          287831,
          185828,
          84381,
          43802,
          62244,
          36041,
          8824,
          995162,
          12124
         ],
         "y0": " ",
         "yaxis": "y"
        }
       ],
       "layout": {
        "legend": {
         "tracegroupgap": 0
        },
        "margin": {
         "t": 60
        },
        "template": {
         "data": {
          "bar": [
           {
            "error_x": {
             "color": "#2a3f5f"
            },
            "error_y": {
             "color": "#2a3f5f"
            },
            "marker": {
             "line": {
              "color": "#E5ECF6",
              "width": 0.5
             },
             "pattern": {
              "fillmode": "overlay",
              "size": 10,
              "solidity": 0.2
             }
            },
            "type": "bar"
           }
          ],
          "barpolar": [
           {
            "marker": {
             "line": {
              "color": "#E5ECF6",
              "width": 0.5
             },
             "pattern": {
              "fillmode": "overlay",
              "size": 10,
              "solidity": 0.2
             }
            },
            "type": "barpolar"
           }
          ],
          "carpet": [
           {
            "aaxis": {
             "endlinecolor": "#2a3f5f",
             "gridcolor": "white",
             "linecolor": "white",
             "minorgridcolor": "white",
             "startlinecolor": "#2a3f5f"
            },
            "baxis": {
             "endlinecolor": "#2a3f5f",
             "gridcolor": "white",
             "linecolor": "white",
             "minorgridcolor": "white",
             "startlinecolor": "#2a3f5f"
            },
            "type": "carpet"
           }
          ],
          "choropleth": [
           {
            "colorbar": {
             "outlinewidth": 0,
             "ticks": ""
            },
            "type": "choropleth"
           }
          ],
          "contour": [
           {
            "colorbar": {
             "outlinewidth": 0,
             "ticks": ""
            },
            "colorscale": [
             [
              0,
              "#0d0887"
             ],
             [
              0.1111111111111111,
              "#46039f"
             ],
             [
              0.2222222222222222,
              "#7201a8"
             ],
             [
              0.3333333333333333,
              "#9c179e"
             ],
             [
              0.4444444444444444,
              "#bd3786"
             ],
             [
              0.5555555555555556,
              "#d8576b"
             ],
             [
              0.6666666666666666,
              "#ed7953"
             ],
             [
              0.7777777777777778,
              "#fb9f3a"
             ],
             [
              0.8888888888888888,
              "#fdca26"
             ],
             [
              1,
              "#f0f921"
             ]
            ],
            "type": "contour"
           }
          ],
          "contourcarpet": [
           {
            "colorbar": {
             "outlinewidth": 0,
             "ticks": ""
            },
            "type": "contourcarpet"
           }
          ],
          "heatmap": [
           {
            "colorbar": {
             "outlinewidth": 0,
             "ticks": ""
            },
            "colorscale": [
             [
              0,
              "#0d0887"
             ],
             [
              0.1111111111111111,
              "#46039f"
             ],
             [
              0.2222222222222222,
              "#7201a8"
             ],
             [
              0.3333333333333333,
              "#9c179e"
             ],
             [
              0.4444444444444444,
              "#bd3786"
             ],
             [
              0.5555555555555556,
              "#d8576b"
             ],
             [
              0.6666666666666666,
              "#ed7953"
             ],
             [
              0.7777777777777778,
              "#fb9f3a"
             ],
             [
              0.8888888888888888,
              "#fdca26"
             ],
             [
              1,
              "#f0f921"
             ]
            ],
            "type": "heatmap"
           }
          ],
          "heatmapgl": [
           {
            "colorbar": {
             "outlinewidth": 0,
             "ticks": ""
            },
            "colorscale": [
             [
              0,
              "#0d0887"
             ],
             [
              0.1111111111111111,
              "#46039f"
             ],
             [
              0.2222222222222222,
              "#7201a8"
             ],
             [
              0.3333333333333333,
              "#9c179e"
             ],
             [
              0.4444444444444444,
              "#bd3786"
             ],
             [
              0.5555555555555556,
              "#d8576b"
             ],
             [
              0.6666666666666666,
              "#ed7953"
             ],
             [
              0.7777777777777778,
              "#fb9f3a"
             ],
             [
              0.8888888888888888,
              "#fdca26"
             ],
             [
              1,
              "#f0f921"
             ]
            ],
            "type": "heatmapgl"
           }
          ],
          "histogram": [
           {
            "marker": {
             "pattern": {
              "fillmode": "overlay",
              "size": 10,
              "solidity": 0.2
             }
            },
            "type": "histogram"
           }
          ],
          "histogram2d": [
           {
            "colorbar": {
             "outlinewidth": 0,
             "ticks": ""
            },
            "colorscale": [
             [
              0,
              "#0d0887"
             ],
             [
              0.1111111111111111,
              "#46039f"
             ],
             [
              0.2222222222222222,
              "#7201a8"
             ],
             [
              0.3333333333333333,
              "#9c179e"
             ],
             [
              0.4444444444444444,
              "#bd3786"
             ],
             [
              0.5555555555555556,
              "#d8576b"
             ],
             [
              0.6666666666666666,
              "#ed7953"
             ],
             [
              0.7777777777777778,
              "#fb9f3a"
             ],
             [
              0.8888888888888888,
              "#fdca26"
             ],
             [
              1,
              "#f0f921"
             ]
            ],
            "type": "histogram2d"
           }
          ],
          "histogram2dcontour": [
           {
            "colorbar": {
             "outlinewidth": 0,
             "ticks": ""
            },
            "colorscale": [
             [
              0,
              "#0d0887"
             ],
             [
              0.1111111111111111,
              "#46039f"
             ],
             [
              0.2222222222222222,
              "#7201a8"
             ],
             [
              0.3333333333333333,
              "#9c179e"
             ],
             [
              0.4444444444444444,
              "#bd3786"
             ],
             [
              0.5555555555555556,
              "#d8576b"
             ],
             [
              0.6666666666666666,
              "#ed7953"
             ],
             [
              0.7777777777777778,
              "#fb9f3a"
             ],
             [
              0.8888888888888888,
              "#fdca26"
             ],
             [
              1,
              "#f0f921"
             ]
            ],
            "type": "histogram2dcontour"
           }
          ],
          "mesh3d": [
           {
            "colorbar": {
             "outlinewidth": 0,
             "ticks": ""
            },
            "type": "mesh3d"
           }
          ],
          "parcoords": [
           {
            "line": {
             "colorbar": {
              "outlinewidth": 0,
              "ticks": ""
             }
            },
            "type": "parcoords"
           }
          ],
          "pie": [
           {
            "automargin": true,
            "type": "pie"
           }
          ],
          "scatter": [
           {
            "fillpattern": {
             "fillmode": "overlay",
             "size": 10,
             "solidity": 0.2
            },
            "type": "scatter"
           }
          ],
          "scatter3d": [
           {
            "line": {
             "colorbar": {
              "outlinewidth": 0,
              "ticks": ""
             }
            },
            "marker": {
             "colorbar": {
              "outlinewidth": 0,
              "ticks": ""
             }
            },
            "type": "scatter3d"
           }
          ],
          "scattercarpet": [
           {
            "marker": {
             "colorbar": {
              "outlinewidth": 0,
              "ticks": ""
             }
            },
            "type": "scattercarpet"
           }
          ],
          "scattergeo": [
           {
            "marker": {
             "colorbar": {
              "outlinewidth": 0,
              "ticks": ""
             }
            },
            "type": "scattergeo"
           }
          ],
          "scattergl": [
           {
            "marker": {
             "colorbar": {
              "outlinewidth": 0,
              "ticks": ""
             }
            },
            "type": "scattergl"
           }
          ],
          "scattermapbox": [
           {
            "marker": {
             "colorbar": {
              "outlinewidth": 0,
              "ticks": ""
             }
            },
            "type": "scattermapbox"
           }
          ],
          "scatterpolar": [
           {
            "marker": {
             "colorbar": {
              "outlinewidth": 0,
              "ticks": ""
             }
            },
            "type": "scatterpolar"
           }
          ],
          "scatterpolargl": [
           {
            "marker": {
             "colorbar": {
              "outlinewidth": 0,
              "ticks": ""
             }
            },
            "type": "scatterpolargl"
           }
          ],
          "scatterternary": [
           {
            "marker": {
             "colorbar": {
              "outlinewidth": 0,
              "ticks": ""
             }
            },
            "type": "scatterternary"
           }
          ],
          "surface": [
           {
            "colorbar": {
             "outlinewidth": 0,
             "ticks": ""
            },
            "colorscale": [
             [
              0,
              "#0d0887"
             ],
             [
              0.1111111111111111,
              "#46039f"
             ],
             [
              0.2222222222222222,
              "#7201a8"
             ],
             [
              0.3333333333333333,
              "#9c179e"
             ],
             [
              0.4444444444444444,
              "#bd3786"
             ],
             [
              0.5555555555555556,
              "#d8576b"
             ],
             [
              0.6666666666666666,
              "#ed7953"
             ],
             [
              0.7777777777777778,
              "#fb9f3a"
             ],
             [
              0.8888888888888888,
              "#fdca26"
             ],
             [
              1,
              "#f0f921"
             ]
            ],
            "type": "surface"
           }
          ],
          "table": [
           {
            "cells": {
             "fill": {
              "color": "#EBF0F8"
             },
             "line": {
              "color": "white"
             }
            },
            "header": {
             "fill": {
              "color": "#C8D4E3"
             },
             "line": {
              "color": "white"
             }
            },
            "type": "table"
           }
          ]
         },
         "layout": {
          "annotationdefaults": {
           "arrowcolor": "#2a3f5f",
           "arrowhead": 0,
           "arrowwidth": 1
          },
          "autotypenumbers": "strict",
          "coloraxis": {
           "colorbar": {
            "outlinewidth": 0,
            "ticks": ""
           }
          },
          "colorscale": {
           "diverging": [
            [
             0,
             "#8e0152"
            ],
            [
             0.1,
             "#c51b7d"
            ],
            [
             0.2,
             "#de77ae"
            ],
            [
             0.3,
             "#f1b6da"
            ],
            [
             0.4,
             "#fde0ef"
            ],
            [
             0.5,
             "#f7f7f7"
            ],
            [
             0.6,
             "#e6f5d0"
            ],
            [
             0.7,
             "#b8e186"
            ],
            [
             0.8,
             "#7fbc41"
            ],
            [
             0.9,
             "#4d9221"
            ],
            [
             1,
             "#276419"
            ]
           ],
           "sequential": [
            [
             0,
             "#0d0887"
            ],
            [
             0.1111111111111111,
             "#46039f"
            ],
            [
             0.2222222222222222,
             "#7201a8"
            ],
            [
             0.3333333333333333,
             "#9c179e"
            ],
            [
             0.4444444444444444,
             "#bd3786"
            ],
            [
             0.5555555555555556,
             "#d8576b"
            ],
            [
             0.6666666666666666,
             "#ed7953"
            ],
            [
             0.7777777777777778,
             "#fb9f3a"
            ],
            [
             0.8888888888888888,
             "#fdca26"
            ],
            [
             1,
             "#f0f921"
            ]
           ],
           "sequentialminus": [
            [
             0,
             "#0d0887"
            ],
            [
             0.1111111111111111,
             "#46039f"
            ],
            [
             0.2222222222222222,
             "#7201a8"
            ],
            [
             0.3333333333333333,
             "#9c179e"
            ],
            [
             0.4444444444444444,
             "#bd3786"
            ],
            [
             0.5555555555555556,
             "#d8576b"
            ],
            [
             0.6666666666666666,
             "#ed7953"
            ],
            [
             0.7777777777777778,
             "#fb9f3a"
            ],
            [
             0.8888888888888888,
             "#fdca26"
            ],
            [
             1,
             "#f0f921"
            ]
           ]
          },
          "colorway": [
           "#636efa",
           "#EF553B",
           "#00cc96",
           "#ab63fa",
           "#FFA15A",
           "#19d3f3",
           "#FF6692",
           "#B6E880",
           "#FF97FF",
           "#FECB52"
          ],
          "font": {
           "color": "#2a3f5f"
          },
          "geo": {
           "bgcolor": "white",
           "lakecolor": "white",
           "landcolor": "#E5ECF6",
           "showlakes": true,
           "showland": true,
           "subunitcolor": "white"
          },
          "hoverlabel": {
           "align": "left"
          },
          "hovermode": "closest",
          "mapbox": {
           "style": "light"
          },
          "paper_bgcolor": "white",
          "plot_bgcolor": "#E5ECF6",
          "polar": {
           "angularaxis": {
            "gridcolor": "white",
            "linecolor": "white",
            "ticks": ""
           },
           "bgcolor": "#E5ECF6",
           "radialaxis": {
            "gridcolor": "white",
            "linecolor": "white",
            "ticks": ""
           }
          },
          "scene": {
           "xaxis": {
            "backgroundcolor": "#E5ECF6",
            "gridcolor": "white",
            "gridwidth": 2,
            "linecolor": "white",
            "showbackground": true,
            "ticks": "",
            "zerolinecolor": "white"
           },
           "yaxis": {
            "backgroundcolor": "#E5ECF6",
            "gridcolor": "white",
            "gridwidth": 2,
            "linecolor": "white",
            "showbackground": true,
            "ticks": "",
            "zerolinecolor": "white"
           },
           "zaxis": {
            "backgroundcolor": "#E5ECF6",
            "gridcolor": "white",
            "gridwidth": 2,
            "linecolor": "white",
            "showbackground": true,
            "ticks": "",
            "zerolinecolor": "white"
           }
          },
          "shapedefaults": {
           "line": {
            "color": "#2a3f5f"
           }
          },
          "ternary": {
           "aaxis": {
            "gridcolor": "white",
            "linecolor": "white",
            "ticks": ""
           },
           "baxis": {
            "gridcolor": "white",
            "linecolor": "white",
            "ticks": ""
           },
           "bgcolor": "#E5ECF6",
           "caxis": {
            "gridcolor": "white",
            "linecolor": "white",
            "ticks": ""
           }
          },
          "title": {
           "x": 0.05
          },
          "xaxis": {
           "automargin": true,
           "gridcolor": "white",
           "linecolor": "white",
           "ticks": "",
           "title": {
            "standoff": 15
           },
           "zerolinecolor": "white",
           "zerolinewidth": 2
          },
          "yaxis": {
           "automargin": true,
           "gridcolor": "white",
           "linecolor": "white",
           "ticks": "",
           "title": {
            "standoff": 15
           },
           "zerolinecolor": "white",
           "zerolinewidth": 2
          }
         }
        },
        "violinmode": "group",
        "xaxis": {
         "anchor": "y",
         "domain": [
          0,
          1
         ],
         "title": {
          "text": "hasPython"
         }
        },
        "yaxis": {
         "anchor": "x",
         "domain": [
          0,
          1
         ],
         "title": {
          "text": "enrolledCount"
         }
        }
       }
      }
     },
     "metadata": {},
     "output_type": "display_data"
    }
   ],
   "source": [
    "fig = px.violin(coursera, x=\"hasPython\", y=\"enrolledCount\",box=True)\n",
    "\n",
    "fig.show()\n"
   ]
  }
 ],
 "metadata": {
  "kernelspec": {
   "display_name": "myenv",
   "language": "python",
   "name": "python3"
  },
  "language_info": {
   "codemirror_mode": {
    "name": "ipython",
    "version": 3
   },
   "file_extension": ".py",
   "mimetype": "text/x-python",
   "name": "python",
   "nbconvert_exporter": "python",
   "pygments_lexer": "ipython3",
   "version": "3.10.9"
  },
  "orig_nbformat": 4
 },
 "nbformat": 4,
 "nbformat_minor": 2
}
