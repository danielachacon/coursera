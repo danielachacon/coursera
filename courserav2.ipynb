{
 "cells": [
  {
   "cell_type": "code",
   "execution_count": 1,
   "metadata": {},
   "outputs": [],
   "source": [
    "import numpy as np\n",
    "import pandas as pd \n",
    "from matplotlib import pyplot as plt\n",
    "import plotly.express as px"
   ]
  },
  {
   "cell_type": "code",
   "execution_count": 2,
   "metadata": {},
   "outputs": [
    {
     "data": {
      "text/html": [
       "<div>\n",
       "<style scoped>\n",
       "    .dataframe tbody tr th:only-of-type {\n",
       "        vertical-align: middle;\n",
       "    }\n",
       "\n",
       "    .dataframe tbody tr th {\n",
       "        vertical-align: top;\n",
       "    }\n",
       "\n",
       "    .dataframe thead th {\n",
       "        text-align: right;\n",
       "    }\n",
       "</style>\n",
       "<table border=\"1\" class=\"dataframe\">\n",
       "  <thead>\n",
       "    <tr style=\"text-align: right;\">\n",
       "      <th></th>\n",
       "      <th>link</th>\n",
       "      <th>date</th>\n",
       "      <th>title</th>\n",
       "      <th>subheading</th>\n",
       "      <th>ratingPercentage</th>\n",
       "      <th>rating</th>\n",
       "      <th>ratingCount</th>\n",
       "      <th>enrolledCount</th>\n",
       "      <th>recentViews</th>\n",
       "      <th>instructorRatingCount</th>\n",
       "      <th>instructorRating</th>\n",
       "      <th>reviewCount</th>\n",
       "      <th>reviewRating</th>\n",
       "      <th>aboutThisCourse</th>\n",
       "      <th>contentRating</th>\n",
       "      <th>contentRatingCount</th>\n",
       "      <th>syllabus</th>\n",
       "      <th>partners</th>\n",
       "      <th>whatYouWillLearn</th>\n",
       "      <th>skills</th>\n",
       "      <th>productGlance</th>\n",
       "      <th>instructors</th>\n",
       "      <th>reviewStarPercentage</th>\n",
       "      <th>learnerCareerOutcomes</th>\n",
       "      <th>detailsToKnow</th>\n",
       "      <th>courseraPlus</th>\n",
       "    </tr>\n",
       "  </thead>\n",
       "  <tbody>\n",
       "    <tr>\n",
       "      <th>0</th>\n",
       "      <td>https://www.coursera.org/learn/introduction-to...</td>\n",
       "      <td>2023-08-05</td>\n",
       "      <td>Introduction to Computer Programming</td>\n",
       "      <td>This course is part of Introduction to Compute...</td>\n",
       "      <td>91%</td>\n",
       "      <td>4.1</td>\n",
       "      <td>(805 reviews)</td>\n",
       "      <td>69,167</td>\n",
       "      <td>-1</td>\n",
       "      <td>202 ratings</td>\n",
       "      <td>4.3</td>\n",
       "      <td>-1</td>\n",
       "      <td>4.1</td>\n",
       "      <td>There are 3 modules in this course\\n\\nThis MOO...</td>\n",
       "      <td>-1</td>\n",
       "      <td>-1</td>\n",
       "      <td>[[Your development environment, 9 hours to com...</td>\n",
       "      <td>[University of London, Goldsmiths, University ...</td>\n",
       "      <td>[]</td>\n",
       "      <td>[]</td>\n",
       "      <td>[[Beginner level, No previous experience neces...</td>\n",
       "      <td>[[Dr Edward Anstead, University of London, 2 C...</td>\n",
       "      <td>[[5 stars, 60.12%], [4 stars, 16.52%], [3 star...</td>\n",
       "      <td>[Build your subject-matter expertise, This cou...</td>\n",
       "      <td>[[Shareable certificate, Add to your LinkedIn ...</td>\n",
       "      <td>True</td>\n",
       "    </tr>\n",
       "    <tr>\n",
       "      <th>1</th>\n",
       "      <td>https://www.coursera.org/learn/how-computers-w...</td>\n",
       "      <td>2023-08-05</td>\n",
       "      <td>How Computers Work</td>\n",
       "      <td>This course is part of Introduction to Compute...</td>\n",
       "      <td>94%</td>\n",
       "      <td>4.6</td>\n",
       "      <td>(508 reviews)</td>\n",
       "      <td>32,711</td>\n",
       "      <td>-1</td>\n",
       "      <td>122 ratings</td>\n",
       "      <td>4.7</td>\n",
       "      <td>-1</td>\n",
       "      <td>4.6</td>\n",
       "      <td>There are 4 modules in this course\\n\\nComputer...</td>\n",
       "      <td>-1</td>\n",
       "      <td>-1</td>\n",
       "      <td>[[Abstraction, 1 hour to complete, This week s...</td>\n",
       "      <td>[University of London, Goldsmiths, University ...</td>\n",
       "      <td>[]</td>\n",
       "      <td>[]</td>\n",
       "      <td>[[Beginner level, No previous experience neces...</td>\n",
       "      <td>[[Prof Marco Gillies, University of London, [1...</td>\n",
       "      <td>[[5 stars, 72.63%], [4 stars, 19.88%], [3 star...</td>\n",
       "      <td>[Build your subject-matter expertise, This cou...</td>\n",
       "      <td>[[Shareable certificate, Add to your LinkedIn ...</td>\n",
       "      <td>True</td>\n",
       "    </tr>\n",
       "    <tr>\n",
       "      <th>2</th>\n",
       "      <td>https://www.coursera.org/learn/mathematics-for...</td>\n",
       "      <td>2023-08-05</td>\n",
       "      <td>Mathematics for Computer Science</td>\n",
       "      <td>This course is part of Introduction to Compute...</td>\n",
       "      <td>82%</td>\n",
       "      <td>4.1</td>\n",
       "      <td>(203 reviews)</td>\n",
       "      <td>30,138</td>\n",
       "      <td>-1</td>\n",
       "      <td>51 ratings</td>\n",
       "      <td>4.6</td>\n",
       "      <td>-1</td>\n",
       "      <td>4.1</td>\n",
       "      <td>There are 6 modules in this course\\n\\n“Welcome...</td>\n",
       "      <td>-1</td>\n",
       "      <td>-1</td>\n",
       "      <td>[[Number bases - binary, 7 hours to complete, ...</td>\n",
       "      <td>[University of London, Goldsmiths, University ...</td>\n",
       "      <td>[1.     Transform numbers between number bases...</td>\n",
       "      <td>[]</td>\n",
       "      <td>[[Beginner level, No previous experience neces...</td>\n",
       "      <td>[[Omar Karakchi, University of London, 1 Cours...</td>\n",
       "      <td>[[5 stars, 58.12%], [4 stars, 17.24%], [3 star...</td>\n",
       "      <td>[Build your subject-matter expertise, This cou...</td>\n",
       "      <td>[[Shareable certificate, Add to your LinkedIn ...</td>\n",
       "      <td>True</td>\n",
       "    </tr>\n",
       "    <tr>\n",
       "      <th>3</th>\n",
       "      <td>https://www.coursera.org/learn/python-for-appl...</td>\n",
       "      <td>2023-08-05</td>\n",
       "      <td>Python for Data Science, AI &amp; Development</td>\n",
       "      <td>This course is part of multiple programs. \\nLe...</td>\n",
       "      <td>93%</td>\n",
       "      <td>4.6</td>\n",
       "      <td>(32,545 reviews)</td>\n",
       "      <td>608,517</td>\n",
       "      <td>-1</td>\n",
       "      <td>6,493 ratings</td>\n",
       "      <td>4.5</td>\n",
       "      <td>-1</td>\n",
       "      <td>4.6</td>\n",
       "      <td>There are 5 modules in this course\\n\\nKickstar...</td>\n",
       "      <td>-1</td>\n",
       "      <td>-1</td>\n",
       "      <td>[[Python Basics, 2 hours to complete, This mod...</td>\n",
       "      <td>[IBM]</td>\n",
       "      <td>[Describe Python Basics including Data Types, ...</td>\n",
       "      <td>[Data Science, Python Programming, Data Analys...</td>\n",
       "      <td>[[Beginner level, Recommended experience], [23...</td>\n",
       "      <td>[[Joseph Santarcangelo, IBM, [25 Courses, 1,03...</td>\n",
       "      <td>[[5 stars, 71.96%], [4 stars, 20.82%], [3 star...</td>\n",
       "      <td>[Build your subject-matter expertise, This cou...</td>\n",
       "      <td>[[Shareable certificate, Add to your LinkedIn ...</td>\n",
       "      <td>False</td>\n",
       "    </tr>\n",
       "    <tr>\n",
       "      <th>4</th>\n",
       "      <td>https://www.coursera.org/learn/what-is-datasci...</td>\n",
       "      <td>2023-08-05</td>\n",
       "      <td>What is Data Science?</td>\n",
       "      <td>This course is part of multiple programs. \\nLe...</td>\n",
       "      <td>97%</td>\n",
       "      <td>4.7</td>\n",
       "      <td>(64,199 reviews)</td>\n",
       "      <td>817,744</td>\n",
       "      <td>-1</td>\n",
       "      <td>16,960 ratings</td>\n",
       "      <td>4.7</td>\n",
       "      <td>-1</td>\n",
       "      <td>4.7</td>\n",
       "      <td>There are 3 modules in this course\\n\\nDo you w...</td>\n",
       "      <td>-1</td>\n",
       "      <td>-1</td>\n",
       "      <td>[[Defining Data Science and What Data Scientis...</td>\n",
       "      <td>[IBM]</td>\n",
       "      <td>[Define data science and its importance in tod...</td>\n",
       "      <td>[Data Science, Deep Learning, Machine Learning...</td>\n",
       "      <td>[[Beginner level, Recommended experience], [7 ...</td>\n",
       "      <td>[[Rav Ahuja, IBM, [37 Courses, 1,785,449 learn...</td>\n",
       "      <td>[[5 stars, 76.12%], [4 stars, 19.12%], [3 star...</td>\n",
       "      <td>[Build your subject-matter expertise, This cou...</td>\n",
       "      <td>[[Shareable certificate, Add to your LinkedIn ...</td>\n",
       "      <td>False</td>\n",
       "    </tr>\n",
       "  </tbody>\n",
       "</table>\n",
       "</div>"
      ],
      "text/plain": [
       "                                                link       date  \\\n",
       "0  https://www.coursera.org/learn/introduction-to... 2023-08-05   \n",
       "1  https://www.coursera.org/learn/how-computers-w... 2023-08-05   \n",
       "2  https://www.coursera.org/learn/mathematics-for... 2023-08-05   \n",
       "3  https://www.coursera.org/learn/python-for-appl... 2023-08-05   \n",
       "4  https://www.coursera.org/learn/what-is-datasci... 2023-08-05   \n",
       "\n",
       "                                       title  \\\n",
       "0       Introduction to Computer Programming   \n",
       "1                         How Computers Work   \n",
       "2           Mathematics for Computer Science   \n",
       "3  Python for Data Science, AI & Development   \n",
       "4                      What is Data Science?   \n",
       "\n",
       "                                          subheading ratingPercentage rating  \\\n",
       "0  This course is part of Introduction to Compute...              91%    4.1   \n",
       "1  This course is part of Introduction to Compute...              94%    4.6   \n",
       "2  This course is part of Introduction to Compute...              82%    4.1   \n",
       "3  This course is part of multiple programs. \\nLe...              93%    4.6   \n",
       "4  This course is part of multiple programs. \\nLe...              97%    4.7   \n",
       "\n",
       "        ratingCount enrolledCount  recentViews instructorRatingCount  \\\n",
       "0     (805 reviews)        69,167           -1           202 ratings   \n",
       "1     (508 reviews)        32,711           -1           122 ratings   \n",
       "2     (203 reviews)        30,138           -1            51 ratings   \n",
       "3  (32,545 reviews)       608,517           -1         6,493 ratings   \n",
       "4  (64,199 reviews)       817,744           -1        16,960 ratings   \n",
       "\n",
       "   instructorRating  reviewCount  reviewRating  \\\n",
       "0               4.3           -1           4.1   \n",
       "1               4.7           -1           4.6   \n",
       "2               4.6           -1           4.1   \n",
       "3               4.5           -1           4.6   \n",
       "4               4.7           -1           4.7   \n",
       "\n",
       "                                     aboutThisCourse  contentRating  \\\n",
       "0  There are 3 modules in this course\\n\\nThis MOO...             -1   \n",
       "1  There are 4 modules in this course\\n\\nComputer...             -1   \n",
       "2  There are 6 modules in this course\\n\\n“Welcome...             -1   \n",
       "3  There are 5 modules in this course\\n\\nKickstar...             -1   \n",
       "4  There are 3 modules in this course\\n\\nDo you w...             -1   \n",
       "\n",
       "   contentRatingCount                                           syllabus  \\\n",
       "0                  -1  [[Your development environment, 9 hours to com...   \n",
       "1                  -1  [[Abstraction, 1 hour to complete, This week s...   \n",
       "2                  -1  [[Number bases - binary, 7 hours to complete, ...   \n",
       "3                  -1  [[Python Basics, 2 hours to complete, This mod...   \n",
       "4                  -1  [[Defining Data Science and What Data Scientis...   \n",
       "\n",
       "                                            partners  \\\n",
       "0  [University of London, Goldsmiths, University ...   \n",
       "1  [University of London, Goldsmiths, University ...   \n",
       "2  [University of London, Goldsmiths, University ...   \n",
       "3                                              [IBM]   \n",
       "4                                              [IBM]   \n",
       "\n",
       "                                    whatYouWillLearn  \\\n",
       "0                                                 []   \n",
       "1                                                 []   \n",
       "2  [1.     Transform numbers between number bases...   \n",
       "3  [Describe Python Basics including Data Types, ...   \n",
       "4  [Define data science and its importance in tod...   \n",
       "\n",
       "                                              skills  \\\n",
       "0                                                 []   \n",
       "1                                                 []   \n",
       "2                                                 []   \n",
       "3  [Data Science, Python Programming, Data Analys...   \n",
       "4  [Data Science, Deep Learning, Machine Learning...   \n",
       "\n",
       "                                       productGlance  \\\n",
       "0  [[Beginner level, No previous experience neces...   \n",
       "1  [[Beginner level, No previous experience neces...   \n",
       "2  [[Beginner level, No previous experience neces...   \n",
       "3  [[Beginner level, Recommended experience], [23...   \n",
       "4  [[Beginner level, Recommended experience], [7 ...   \n",
       "\n",
       "                                         instructors  \\\n",
       "0  [[Dr Edward Anstead, University of London, 2 C...   \n",
       "1  [[Prof Marco Gillies, University of London, [1...   \n",
       "2  [[Omar Karakchi, University of London, 1 Cours...   \n",
       "3  [[Joseph Santarcangelo, IBM, [25 Courses, 1,03...   \n",
       "4  [[Rav Ahuja, IBM, [37 Courses, 1,785,449 learn...   \n",
       "\n",
       "                                reviewStarPercentage  \\\n",
       "0  [[5 stars, 60.12%], [4 stars, 16.52%], [3 star...   \n",
       "1  [[5 stars, 72.63%], [4 stars, 19.88%], [3 star...   \n",
       "2  [[5 stars, 58.12%], [4 stars, 17.24%], [3 star...   \n",
       "3  [[5 stars, 71.96%], [4 stars, 20.82%], [3 star...   \n",
       "4  [[5 stars, 76.12%], [4 stars, 19.12%], [3 star...   \n",
       "\n",
       "                               learnerCareerOutcomes  \\\n",
       "0  [Build your subject-matter expertise, This cou...   \n",
       "1  [Build your subject-matter expertise, This cou...   \n",
       "2  [Build your subject-matter expertise, This cou...   \n",
       "3  [Build your subject-matter expertise, This cou...   \n",
       "4  [Build your subject-matter expertise, This cou...   \n",
       "\n",
       "                                       detailsToKnow  courseraPlus  \n",
       "0  [[Shareable certificate, Add to your LinkedIn ...          True  \n",
       "1  [[Shareable certificate, Add to your LinkedIn ...          True  \n",
       "2  [[Shareable certificate, Add to your LinkedIn ...          True  \n",
       "3  [[Shareable certificate, Add to your LinkedIn ...         False  \n",
       "4  [[Shareable certificate, Add to your LinkedIn ...         False  "
      ]
     },
     "execution_count": 2,
     "metadata": {},
     "output_type": "execute_result"
    }
   ],
   "source": [
    "raw_coursera = pd.read_json('courseInfov2.JSON')\n",
    "pd.set_option('display.max_columns', None)\n",
    "\n",
    "raw_coursera.head()"
   ]
  },
  {
   "cell_type": "code",
   "execution_count": 6,
   "metadata": {},
   "outputs": [],
   "source": [
    "myDict = {\n",
    "    'reviewStarPercentage': raw_coursera['reviewStarPercentage']\n",
    "}\n",
    "fiveStarList = []\n",
    "fourStarList = []\n",
    "threeStarList = []\n",
    "twoStarList = []\n",
    "oneStarList = []\n",
    "\n",
    "for i in myDict['reviewStarPercentage']:\n",
    "    try:\n",
    "        fiveStarList.append(i[0][1]) \n",
    "    except:\n",
    "        fiveStarList.append(0)\n",
    "    try:\n",
    "        fourStarList.append(i[1][1])\n",
    "    except:\n",
    "        fourStarList.append(0)\n",
    "    try:\n",
    "        threeStarList.append(i[2][1])\n",
    "    except:\n",
    "        threeStarList.append(0)\n",
    "    try:\n",
    "        twoStarList.append(i[3][1])\n",
    "    except:\n",
    "        twoStarList.append(0)\n",
    "    try:\n",
    "        oneStarList.append(i[4][1])\n",
    "    except:\n",
    "        oneStarList.append(0)\n",
    "        \n",
    "raw_coursera['fiveStarReviewPercentage'] = fiveStarList\n",
    "raw_coursera['fourStarReviewPercentage'] = fourStarList\n",
    "raw_coursera['threeStarReviewPercentage'] = threeStarList\n",
    "raw_coursera['twoStarReviewPercentage'] = twoStarList\n",
    "raw_coursera['oneStarReviewPercentage'] = oneStarList"
   ]
  },
  {
   "cell_type": "code",
   "execution_count": 7,
   "metadata": {},
   "outputs": [
    {
     "data": {
      "text/html": [
       "<div>\n",
       "<style scoped>\n",
       "    .dataframe tbody tr th:only-of-type {\n",
       "        vertical-align: middle;\n",
       "    }\n",
       "\n",
       "    .dataframe tbody tr th {\n",
       "        vertical-align: top;\n",
       "    }\n",
       "\n",
       "    .dataframe thead th {\n",
       "        text-align: right;\n",
       "    }\n",
       "</style>\n",
       "<table border=\"1\" class=\"dataframe\">\n",
       "  <thead>\n",
       "    <tr style=\"text-align: right;\">\n",
       "      <th></th>\n",
       "      <th>link</th>\n",
       "      <th>date</th>\n",
       "      <th>title</th>\n",
       "      <th>subheading</th>\n",
       "      <th>ratingPercentage</th>\n",
       "      <th>rating</th>\n",
       "      <th>ratingCount</th>\n",
       "      <th>enrolledCount</th>\n",
       "      <th>recentViews</th>\n",
       "      <th>instructorRatingCount</th>\n",
       "      <th>instructorRating</th>\n",
       "      <th>reviewCount</th>\n",
       "      <th>reviewRating</th>\n",
       "      <th>aboutThisCourse</th>\n",
       "      <th>contentRating</th>\n",
       "      <th>contentRatingCount</th>\n",
       "      <th>syllabus</th>\n",
       "      <th>partners</th>\n",
       "      <th>whatYouWillLearn</th>\n",
       "      <th>skills</th>\n",
       "      <th>productGlance</th>\n",
       "      <th>instructors</th>\n",
       "      <th>reviewStarPercentage</th>\n",
       "      <th>learnerCareerOutcomes</th>\n",
       "      <th>detailsToKnow</th>\n",
       "      <th>courseraPlus</th>\n",
       "      <th>fiveStarReviewPercentage</th>\n",
       "      <th>fourStarReviewPercentage</th>\n",
       "      <th>threeStarReviewPercentage</th>\n",
       "      <th>twoStarReviewPercentage</th>\n",
       "      <th>oneStarReviewPercentage</th>\n",
       "    </tr>\n",
       "  </thead>\n",
       "  <tbody>\n",
       "    <tr>\n",
       "      <th>0</th>\n",
       "      <td>https://www.coursera.org/learn/introduction-to...</td>\n",
       "      <td>2023-08-05</td>\n",
       "      <td>Introduction to Computer Programming</td>\n",
       "      <td>This course is part of Introduction to Compute...</td>\n",
       "      <td>91</td>\n",
       "      <td>4.1</td>\n",
       "      <td>805</td>\n",
       "      <td>69167</td>\n",
       "      <td>-1</td>\n",
       "      <td>202</td>\n",
       "      <td>4.3</td>\n",
       "      <td>-1</td>\n",
       "      <td>4.1</td>\n",
       "      <td>There are 3 modules in this course\\n\\nThis MOO...</td>\n",
       "      <td>-1</td>\n",
       "      <td>-1</td>\n",
       "      <td>[[Your development environment, 9 hours to com...</td>\n",
       "      <td>[University of London, Goldsmiths, University ...</td>\n",
       "      <td>[]</td>\n",
       "      <td>[]</td>\n",
       "      <td>[[Beginner level, No previous experience neces...</td>\n",
       "      <td>[[Dr Edward Anstead, University of London, 2 C...</td>\n",
       "      <td>[[5 stars, 60.12%], [4 stars, 16.52%], [3 star...</td>\n",
       "      <td>[Build your subject-matter expertise, This cou...</td>\n",
       "      <td>[[Shareable certificate, Add to your LinkedIn ...</td>\n",
       "      <td>True</td>\n",
       "      <td>60.12</td>\n",
       "      <td>16.52</td>\n",
       "      <td>8.07</td>\n",
       "      <td>2.73</td>\n",
       "      <td>12.54</td>\n",
       "    </tr>\n",
       "    <tr>\n",
       "      <th>1</th>\n",
       "      <td>https://www.coursera.org/learn/how-computers-w...</td>\n",
       "      <td>2023-08-05</td>\n",
       "      <td>How Computers Work</td>\n",
       "      <td>This course is part of Introduction to Compute...</td>\n",
       "      <td>94</td>\n",
       "      <td>4.6</td>\n",
       "      <td>508</td>\n",
       "      <td>32711</td>\n",
       "      <td>-1</td>\n",
       "      <td>122</td>\n",
       "      <td>4.7</td>\n",
       "      <td>-1</td>\n",
       "      <td>4.6</td>\n",
       "      <td>There are 4 modules in this course\\n\\nComputer...</td>\n",
       "      <td>-1</td>\n",
       "      <td>-1</td>\n",
       "      <td>[[Abstraction, 1 hour to complete, This week s...</td>\n",
       "      <td>[University of London, Goldsmiths, University ...</td>\n",
       "      <td>[]</td>\n",
       "      <td>[]</td>\n",
       "      <td>[[Beginner level, No previous experience neces...</td>\n",
       "      <td>[[Prof Marco Gillies, University of London, [1...</td>\n",
       "      <td>[[5 stars, 72.63%], [4 stars, 19.88%], [3 star...</td>\n",
       "      <td>[Build your subject-matter expertise, This cou...</td>\n",
       "      <td>[[Shareable certificate, Add to your LinkedIn ...</td>\n",
       "      <td>True</td>\n",
       "      <td>72.63</td>\n",
       "      <td>19.88</td>\n",
       "      <td>4.33</td>\n",
       "      <td>1.57</td>\n",
       "      <td>1.57</td>\n",
       "    </tr>\n",
       "    <tr>\n",
       "      <th>2</th>\n",
       "      <td>https://www.coursera.org/learn/mathematics-for...</td>\n",
       "      <td>2023-08-05</td>\n",
       "      <td>Mathematics for Computer Science</td>\n",
       "      <td>This course is part of Introduction to Compute...</td>\n",
       "      <td>82</td>\n",
       "      <td>4.1</td>\n",
       "      <td>203</td>\n",
       "      <td>30138</td>\n",
       "      <td>-1</td>\n",
       "      <td>51</td>\n",
       "      <td>4.6</td>\n",
       "      <td>-1</td>\n",
       "      <td>4.1</td>\n",
       "      <td>There are 6 modules in this course\\n\\n“Welcome...</td>\n",
       "      <td>-1</td>\n",
       "      <td>-1</td>\n",
       "      <td>[[Number bases - binary, 7 hours to complete, ...</td>\n",
       "      <td>[University of London, Goldsmiths, University ...</td>\n",
       "      <td>[1.     Transform numbers between number bases...</td>\n",
       "      <td>[]</td>\n",
       "      <td>[[Beginner level, No previous experience neces...</td>\n",
       "      <td>[[Omar Karakchi, University of London, 1 Cours...</td>\n",
       "      <td>[[5 stars, 58.12%], [4 stars, 17.24%], [3 star...</td>\n",
       "      <td>[Build your subject-matter expertise, This cou...</td>\n",
       "      <td>[[Shareable certificate, Add to your LinkedIn ...</td>\n",
       "      <td>True</td>\n",
       "      <td>58.12</td>\n",
       "      <td>17.24</td>\n",
       "      <td>10.83</td>\n",
       "      <td>5.41</td>\n",
       "      <td>8.37</td>\n",
       "    </tr>\n",
       "    <tr>\n",
       "      <th>3</th>\n",
       "      <td>https://www.coursera.org/learn/python-for-appl...</td>\n",
       "      <td>2023-08-05</td>\n",
       "      <td>Python for Data Science, AI &amp; Development</td>\n",
       "      <td>This course is part of multiple programs. \\nLe...</td>\n",
       "      <td>93</td>\n",
       "      <td>4.6</td>\n",
       "      <td>32545</td>\n",
       "      <td>608517</td>\n",
       "      <td>-1</td>\n",
       "      <td>6493</td>\n",
       "      <td>4.5</td>\n",
       "      <td>-1</td>\n",
       "      <td>4.6</td>\n",
       "      <td>There are 5 modules in this course\\n\\nKickstar...</td>\n",
       "      <td>-1</td>\n",
       "      <td>-1</td>\n",
       "      <td>[[Python Basics, 2 hours to complete, This mod...</td>\n",
       "      <td>[IBM]</td>\n",
       "      <td>[Describe Python Basics including Data Types, ...</td>\n",
       "      <td>[Data Science, Python Programming, Data Analys...</td>\n",
       "      <td>[[Beginner level, Recommended experience], [23...</td>\n",
       "      <td>[[Joseph Santarcangelo, IBM, [25 Courses, 1,03...</td>\n",
       "      <td>[[5 stars, 71.96%], [4 stars, 20.82%], [3 star...</td>\n",
       "      <td>[Build your subject-matter expertise, This cou...</td>\n",
       "      <td>[[Shareable certificate, Add to your LinkedIn ...</td>\n",
       "      <td>False</td>\n",
       "      <td>71.96</td>\n",
       "      <td>20.82</td>\n",
       "      <td>4.60</td>\n",
       "      <td>1.47</td>\n",
       "      <td>1.29</td>\n",
       "    </tr>\n",
       "    <tr>\n",
       "      <th>4</th>\n",
       "      <td>https://www.coursera.org/learn/what-is-datasci...</td>\n",
       "      <td>2023-08-05</td>\n",
       "      <td>What is Data Science?</td>\n",
       "      <td>This course is part of multiple programs. \\nLe...</td>\n",
       "      <td>97</td>\n",
       "      <td>4.7</td>\n",
       "      <td>64199</td>\n",
       "      <td>817744</td>\n",
       "      <td>-1</td>\n",
       "      <td>16960</td>\n",
       "      <td>4.7</td>\n",
       "      <td>-1</td>\n",
       "      <td>4.7</td>\n",
       "      <td>There are 3 modules in this course\\n\\nDo you w...</td>\n",
       "      <td>-1</td>\n",
       "      <td>-1</td>\n",
       "      <td>[[Defining Data Science and What Data Scientis...</td>\n",
       "      <td>[IBM]</td>\n",
       "      <td>[Define data science and its importance in tod...</td>\n",
       "      <td>[Data Science, Deep Learning, Machine Learning...</td>\n",
       "      <td>[[Beginner level, Recommended experience], [7 ...</td>\n",
       "      <td>[[Rav Ahuja, IBM, [37 Courses, 1,785,449 learn...</td>\n",
       "      <td>[[5 stars, 76.12%], [4 stars, 19.12%], [3 star...</td>\n",
       "      <td>[Build your subject-matter expertise, This cou...</td>\n",
       "      <td>[[Shareable certificate, Add to your LinkedIn ...</td>\n",
       "      <td>False</td>\n",
       "      <td>76.12</td>\n",
       "      <td>19.12</td>\n",
       "      <td>3.26</td>\n",
       "      <td>0.80</td>\n",
       "      <td>0.84</td>\n",
       "    </tr>\n",
       "  </tbody>\n",
       "</table>\n",
       "</div>"
      ],
      "text/plain": [
       "                                                link       date  \\\n",
       "0  https://www.coursera.org/learn/introduction-to... 2023-08-05   \n",
       "1  https://www.coursera.org/learn/how-computers-w... 2023-08-05   \n",
       "2  https://www.coursera.org/learn/mathematics-for... 2023-08-05   \n",
       "3  https://www.coursera.org/learn/python-for-appl... 2023-08-05   \n",
       "4  https://www.coursera.org/learn/what-is-datasci... 2023-08-05   \n",
       "\n",
       "                                       title  \\\n",
       "0       Introduction to Computer Programming   \n",
       "1                         How Computers Work   \n",
       "2           Mathematics for Computer Science   \n",
       "3  Python for Data Science, AI & Development   \n",
       "4                      What is Data Science?   \n",
       "\n",
       "                                          subheading ratingPercentage rating  \\\n",
       "0  This course is part of Introduction to Compute...               91    4.1   \n",
       "1  This course is part of Introduction to Compute...               94    4.6   \n",
       "2  This course is part of Introduction to Compute...               82    4.1   \n",
       "3  This course is part of multiple programs. \\nLe...               93    4.6   \n",
       "4  This course is part of multiple programs. \\nLe...               97    4.7   \n",
       "\n",
       "  ratingCount enrolledCount  recentViews instructorRatingCount  \\\n",
       "0         805         69167           -1                   202   \n",
       "1         508         32711           -1                   122   \n",
       "2         203         30138           -1                    51   \n",
       "3       32545        608517           -1                  6493   \n",
       "4       64199        817744           -1                 16960   \n",
       "\n",
       "   instructorRating  reviewCount  reviewRating  \\\n",
       "0               4.3           -1           4.1   \n",
       "1               4.7           -1           4.6   \n",
       "2               4.6           -1           4.1   \n",
       "3               4.5           -1           4.6   \n",
       "4               4.7           -1           4.7   \n",
       "\n",
       "                                     aboutThisCourse  contentRating  \\\n",
       "0  There are 3 modules in this course\\n\\nThis MOO...             -1   \n",
       "1  There are 4 modules in this course\\n\\nComputer...             -1   \n",
       "2  There are 6 modules in this course\\n\\n“Welcome...             -1   \n",
       "3  There are 5 modules in this course\\n\\nKickstar...             -1   \n",
       "4  There are 3 modules in this course\\n\\nDo you w...             -1   \n",
       "\n",
       "   contentRatingCount                                           syllabus  \\\n",
       "0                  -1  [[Your development environment, 9 hours to com...   \n",
       "1                  -1  [[Abstraction, 1 hour to complete, This week s...   \n",
       "2                  -1  [[Number bases - binary, 7 hours to complete, ...   \n",
       "3                  -1  [[Python Basics, 2 hours to complete, This mod...   \n",
       "4                  -1  [[Defining Data Science and What Data Scientis...   \n",
       "\n",
       "                                            partners  \\\n",
       "0  [University of London, Goldsmiths, University ...   \n",
       "1  [University of London, Goldsmiths, University ...   \n",
       "2  [University of London, Goldsmiths, University ...   \n",
       "3                                              [IBM]   \n",
       "4                                              [IBM]   \n",
       "\n",
       "                                    whatYouWillLearn  \\\n",
       "0                                                 []   \n",
       "1                                                 []   \n",
       "2  [1.     Transform numbers between number bases...   \n",
       "3  [Describe Python Basics including Data Types, ...   \n",
       "4  [Define data science and its importance in tod...   \n",
       "\n",
       "                                              skills  \\\n",
       "0                                                 []   \n",
       "1                                                 []   \n",
       "2                                                 []   \n",
       "3  [Data Science, Python Programming, Data Analys...   \n",
       "4  [Data Science, Deep Learning, Machine Learning...   \n",
       "\n",
       "                                       productGlance  \\\n",
       "0  [[Beginner level, No previous experience neces...   \n",
       "1  [[Beginner level, No previous experience neces...   \n",
       "2  [[Beginner level, No previous experience neces...   \n",
       "3  [[Beginner level, Recommended experience], [23...   \n",
       "4  [[Beginner level, Recommended experience], [7 ...   \n",
       "\n",
       "                                         instructors  \\\n",
       "0  [[Dr Edward Anstead, University of London, 2 C...   \n",
       "1  [[Prof Marco Gillies, University of London, [1...   \n",
       "2  [[Omar Karakchi, University of London, 1 Cours...   \n",
       "3  [[Joseph Santarcangelo, IBM, [25 Courses, 1,03...   \n",
       "4  [[Rav Ahuja, IBM, [37 Courses, 1,785,449 learn...   \n",
       "\n",
       "                                reviewStarPercentage  \\\n",
       "0  [[5 stars, 60.12%], [4 stars, 16.52%], [3 star...   \n",
       "1  [[5 stars, 72.63%], [4 stars, 19.88%], [3 star...   \n",
       "2  [[5 stars, 58.12%], [4 stars, 17.24%], [3 star...   \n",
       "3  [[5 stars, 71.96%], [4 stars, 20.82%], [3 star...   \n",
       "4  [[5 stars, 76.12%], [4 stars, 19.12%], [3 star...   \n",
       "\n",
       "                               learnerCareerOutcomes  \\\n",
       "0  [Build your subject-matter expertise, This cou...   \n",
       "1  [Build your subject-matter expertise, This cou...   \n",
       "2  [Build your subject-matter expertise, This cou...   \n",
       "3  [Build your subject-matter expertise, This cou...   \n",
       "4  [Build your subject-matter expertise, This cou...   \n",
       "\n",
       "                                       detailsToKnow  courseraPlus  \\\n",
       "0  [[Shareable certificate, Add to your LinkedIn ...          True   \n",
       "1  [[Shareable certificate, Add to your LinkedIn ...          True   \n",
       "2  [[Shareable certificate, Add to your LinkedIn ...          True   \n",
       "3  [[Shareable certificate, Add to your LinkedIn ...         False   \n",
       "4  [[Shareable certificate, Add to your LinkedIn ...         False   \n",
       "\n",
       "  fiveStarReviewPercentage fourStarReviewPercentage threeStarReviewPercentage  \\\n",
       "0                    60.12                    16.52                      8.07   \n",
       "1                    72.63                    19.88                      4.33   \n",
       "2                    58.12                    17.24                     10.83   \n",
       "3                    71.96                    20.82                      4.60   \n",
       "4                    76.12                    19.12                      3.26   \n",
       "\n",
       "  twoStarReviewPercentage oneStarReviewPercentage  \n",
       "0                    2.73                   12.54  \n",
       "1                    1.57                    1.57  \n",
       "2                    5.41                    8.37  \n",
       "3                    1.47                    1.29  \n",
       "4                    0.80                    0.84  "
      ]
     },
     "execution_count": 7,
     "metadata": {},
     "output_type": "execute_result"
    }
   ],
   "source": [
    "coursera = raw_coursera.copy(deep=True) \n",
    "coursera['enrolledCount'] = raw_coursera['enrolledCount'].str.replace('\\D+', '', regex=True)\n",
    "coursera['ratingCount'] = raw_coursera['ratingCount'].str.replace('\\D+', '', regex=True)\n",
    "coursera['ratingPercentage'] = raw_coursera['ratingPercentage'].str.replace('\\D+', '', regex=True)\n",
    "coursera['instructorRatingCount'] = raw_coursera['instructorRatingCount'].str.replace('\\D+', '', regex=True)  \n",
    "coursera['fiveStarReviewPercentage'] = raw_coursera['fiveStarReviewPercentage'].str.replace('%', '', regex=True)\n",
    "coursera['fourStarReviewPercentage'] = raw_coursera['fourStarReviewPercentage'].str.replace('%', '', regex=True)\n",
    "coursera['threeStarReviewPercentage'] = raw_coursera['threeStarReviewPercentage'].str.replace('%', '', regex=True)\n",
    "coursera['twoStarReviewPercentage'] = raw_coursera['twoStarReviewPercentage'].str.replace('%', '', regex=True)\n",
    "coursera['oneStarReviewPercentage'] = raw_coursera['oneStarReviewPercentage'].str.replace('%', '', regex=True)\n",
    "coursera.head()"
   ]
  },
  {
   "cell_type": "code",
   "execution_count": 9,
   "metadata": {},
   "outputs": [
    {
     "data": {
      "text/html": [
       "<div>\n",
       "<style scoped>\n",
       "    .dataframe tbody tr th:only-of-type {\n",
       "        vertical-align: middle;\n",
       "    }\n",
       "\n",
       "    .dataframe tbody tr th {\n",
       "        vertical-align: top;\n",
       "    }\n",
       "\n",
       "    .dataframe thead th {\n",
       "        text-align: right;\n",
       "    }\n",
       "</style>\n",
       "<table border=\"1\" class=\"dataframe\">\n",
       "  <thead>\n",
       "    <tr style=\"text-align: right;\">\n",
       "      <th></th>\n",
       "      <th>link</th>\n",
       "      <th>date</th>\n",
       "      <th>title</th>\n",
       "      <th>subheading</th>\n",
       "      <th>ratingPercentage</th>\n",
       "      <th>rating</th>\n",
       "      <th>ratingCount</th>\n",
       "      <th>enrolledCount</th>\n",
       "      <th>recentViews</th>\n",
       "      <th>instructorRatingCount</th>\n",
       "      <th>instructorRating</th>\n",
       "      <th>reviewCount</th>\n",
       "      <th>reviewRating</th>\n",
       "      <th>aboutThisCourse</th>\n",
       "      <th>contentRating</th>\n",
       "      <th>contentRatingCount</th>\n",
       "      <th>syllabus</th>\n",
       "      <th>partners</th>\n",
       "      <th>whatYouWillLearn</th>\n",
       "      <th>skills</th>\n",
       "      <th>productGlance</th>\n",
       "      <th>instructors</th>\n",
       "      <th>reviewStarPercentage</th>\n",
       "      <th>learnerCareerOutcomes</th>\n",
       "      <th>detailsToKnow</th>\n",
       "      <th>courseraPlus</th>\n",
       "      <th>fiveStarReviewPercentage</th>\n",
       "      <th>fourStarReviewPercentage</th>\n",
       "      <th>threeStarReviewPercentage</th>\n",
       "      <th>twoStarReviewPercentage</th>\n",
       "      <th>oneStarReviewPercentage</th>\n",
       "    </tr>\n",
       "  </thead>\n",
       "  <tbody>\n",
       "    <tr>\n",
       "      <th>0</th>\n",
       "      <td>https://www.coursera.org/learn/introduction-to...</td>\n",
       "      <td>2023-08-05</td>\n",
       "      <td>Introduction to Computer Programming</td>\n",
       "      <td>This course is part of Introduction to Compute...</td>\n",
       "      <td>91.0</td>\n",
       "      <td>4.1</td>\n",
       "      <td>805</td>\n",
       "      <td>69167.0</td>\n",
       "      <td>-1</td>\n",
       "      <td>202</td>\n",
       "      <td>4.3</td>\n",
       "      <td>-1</td>\n",
       "      <td>4.1</td>\n",
       "      <td>There are 3 modules in this course\\n\\nThis MOO...</td>\n",
       "      <td>-1</td>\n",
       "      <td>-1</td>\n",
       "      <td>[[Your development environment, 9 hours to com...</td>\n",
       "      <td>[University of London, Goldsmiths, University ...</td>\n",
       "      <td>[]</td>\n",
       "      <td>[]</td>\n",
       "      <td>[[Beginner level, No previous experience neces...</td>\n",
       "      <td>[[Dr Edward Anstead, University of London, 2 C...</td>\n",
       "      <td>[[5 stars, 60.12%], [4 stars, 16.52%], [3 star...</td>\n",
       "      <td>[Build your subject-matter expertise, This cou...</td>\n",
       "      <td>[[Shareable certificate, Add to your LinkedIn ...</td>\n",
       "      <td>True</td>\n",
       "      <td>60.12</td>\n",
       "      <td>16.52</td>\n",
       "      <td>8.07</td>\n",
       "      <td>2.73</td>\n",
       "      <td>12.54</td>\n",
       "    </tr>\n",
       "    <tr>\n",
       "      <th>1</th>\n",
       "      <td>https://www.coursera.org/learn/how-computers-w...</td>\n",
       "      <td>2023-08-05</td>\n",
       "      <td>How Computers Work</td>\n",
       "      <td>This course is part of Introduction to Compute...</td>\n",
       "      <td>94.0</td>\n",
       "      <td>4.6</td>\n",
       "      <td>508</td>\n",
       "      <td>32711.0</td>\n",
       "      <td>-1</td>\n",
       "      <td>122</td>\n",
       "      <td>4.7</td>\n",
       "      <td>-1</td>\n",
       "      <td>4.6</td>\n",
       "      <td>There are 4 modules in this course\\n\\nComputer...</td>\n",
       "      <td>-1</td>\n",
       "      <td>-1</td>\n",
       "      <td>[[Abstraction, 1 hour to complete, This week s...</td>\n",
       "      <td>[University of London, Goldsmiths, University ...</td>\n",
       "      <td>[]</td>\n",
       "      <td>[]</td>\n",
       "      <td>[[Beginner level, No previous experience neces...</td>\n",
       "      <td>[[Prof Marco Gillies, University of London, [1...</td>\n",
       "      <td>[[5 stars, 72.63%], [4 stars, 19.88%], [3 star...</td>\n",
       "      <td>[Build your subject-matter expertise, This cou...</td>\n",
       "      <td>[[Shareable certificate, Add to your LinkedIn ...</td>\n",
       "      <td>True</td>\n",
       "      <td>72.63</td>\n",
       "      <td>19.88</td>\n",
       "      <td>4.33</td>\n",
       "      <td>1.57</td>\n",
       "      <td>1.57</td>\n",
       "    </tr>\n",
       "    <tr>\n",
       "      <th>2</th>\n",
       "      <td>https://www.coursera.org/learn/mathematics-for...</td>\n",
       "      <td>2023-08-05</td>\n",
       "      <td>Mathematics for Computer Science</td>\n",
       "      <td>This course is part of Introduction to Compute...</td>\n",
       "      <td>82.0</td>\n",
       "      <td>4.1</td>\n",
       "      <td>203</td>\n",
       "      <td>30138.0</td>\n",
       "      <td>-1</td>\n",
       "      <td>51</td>\n",
       "      <td>4.6</td>\n",
       "      <td>-1</td>\n",
       "      <td>4.1</td>\n",
       "      <td>There are 6 modules in this course\\n\\n“Welcome...</td>\n",
       "      <td>-1</td>\n",
       "      <td>-1</td>\n",
       "      <td>[[Number bases - binary, 7 hours to complete, ...</td>\n",
       "      <td>[University of London, Goldsmiths, University ...</td>\n",
       "      <td>[1.     Transform numbers between number bases...</td>\n",
       "      <td>[]</td>\n",
       "      <td>[[Beginner level, No previous experience neces...</td>\n",
       "      <td>[[Omar Karakchi, University of London, 1 Cours...</td>\n",
       "      <td>[[5 stars, 58.12%], [4 stars, 17.24%], [3 star...</td>\n",
       "      <td>[Build your subject-matter expertise, This cou...</td>\n",
       "      <td>[[Shareable certificate, Add to your LinkedIn ...</td>\n",
       "      <td>True</td>\n",
       "      <td>58.12</td>\n",
       "      <td>17.24</td>\n",
       "      <td>10.83</td>\n",
       "      <td>5.41</td>\n",
       "      <td>8.37</td>\n",
       "    </tr>\n",
       "    <tr>\n",
       "      <th>3</th>\n",
       "      <td>https://www.coursera.org/learn/python-for-appl...</td>\n",
       "      <td>2023-08-05</td>\n",
       "      <td>Python for Data Science, AI &amp; Development</td>\n",
       "      <td>This course is part of multiple programs. \\nLe...</td>\n",
       "      <td>93.0</td>\n",
       "      <td>4.6</td>\n",
       "      <td>32545</td>\n",
       "      <td>608517.0</td>\n",
       "      <td>-1</td>\n",
       "      <td>6493</td>\n",
       "      <td>4.5</td>\n",
       "      <td>-1</td>\n",
       "      <td>4.6</td>\n",
       "      <td>There are 5 modules in this course\\n\\nKickstar...</td>\n",
       "      <td>-1</td>\n",
       "      <td>-1</td>\n",
       "      <td>[[Python Basics, 2 hours to complete, This mod...</td>\n",
       "      <td>[IBM]</td>\n",
       "      <td>[Describe Python Basics including Data Types, ...</td>\n",
       "      <td>[Data Science, Python Programming, Data Analys...</td>\n",
       "      <td>[[Beginner level, Recommended experience], [23...</td>\n",
       "      <td>[[Joseph Santarcangelo, IBM, [25 Courses, 1,03...</td>\n",
       "      <td>[[5 stars, 71.96%], [4 stars, 20.82%], [3 star...</td>\n",
       "      <td>[Build your subject-matter expertise, This cou...</td>\n",
       "      <td>[[Shareable certificate, Add to your LinkedIn ...</td>\n",
       "      <td>False</td>\n",
       "      <td>71.96</td>\n",
       "      <td>20.82</td>\n",
       "      <td>4.60</td>\n",
       "      <td>1.47</td>\n",
       "      <td>1.29</td>\n",
       "    </tr>\n",
       "    <tr>\n",
       "      <th>4</th>\n",
       "      <td>https://www.coursera.org/learn/what-is-datasci...</td>\n",
       "      <td>2023-08-05</td>\n",
       "      <td>What is Data Science?</td>\n",
       "      <td>This course is part of multiple programs. \\nLe...</td>\n",
       "      <td>97.0</td>\n",
       "      <td>4.7</td>\n",
       "      <td>64199</td>\n",
       "      <td>817744.0</td>\n",
       "      <td>-1</td>\n",
       "      <td>16960</td>\n",
       "      <td>4.7</td>\n",
       "      <td>-1</td>\n",
       "      <td>4.7</td>\n",
       "      <td>There are 3 modules in this course\\n\\nDo you w...</td>\n",
       "      <td>-1</td>\n",
       "      <td>-1</td>\n",
       "      <td>[[Defining Data Science and What Data Scientis...</td>\n",
       "      <td>[IBM]</td>\n",
       "      <td>[Define data science and its importance in tod...</td>\n",
       "      <td>[Data Science, Deep Learning, Machine Learning...</td>\n",
       "      <td>[[Beginner level, Recommended experience], [7 ...</td>\n",
       "      <td>[[Rav Ahuja, IBM, [37 Courses, 1,785,449 learn...</td>\n",
       "      <td>[[5 stars, 76.12%], [4 stars, 19.12%], [3 star...</td>\n",
       "      <td>[Build your subject-matter expertise, This cou...</td>\n",
       "      <td>[[Shareable certificate, Add to your LinkedIn ...</td>\n",
       "      <td>False</td>\n",
       "      <td>76.12</td>\n",
       "      <td>19.12</td>\n",
       "      <td>3.26</td>\n",
       "      <td>0.80</td>\n",
       "      <td>0.84</td>\n",
       "    </tr>\n",
       "  </tbody>\n",
       "</table>\n",
       "</div>"
      ],
      "text/plain": [
       "                                                link       date  \\\n",
       "0  https://www.coursera.org/learn/introduction-to... 2023-08-05   \n",
       "1  https://www.coursera.org/learn/how-computers-w... 2023-08-05   \n",
       "2  https://www.coursera.org/learn/mathematics-for... 2023-08-05   \n",
       "3  https://www.coursera.org/learn/python-for-appl... 2023-08-05   \n",
       "4  https://www.coursera.org/learn/what-is-datasci... 2023-08-05   \n",
       "\n",
       "                                       title  \\\n",
       "0       Introduction to Computer Programming   \n",
       "1                         How Computers Work   \n",
       "2           Mathematics for Computer Science   \n",
       "3  Python for Data Science, AI & Development   \n",
       "4                      What is Data Science?   \n",
       "\n",
       "                                          subheading  ratingPercentage rating  \\\n",
       "0  This course is part of Introduction to Compute...              91.0    4.1   \n",
       "1  This course is part of Introduction to Compute...              94.0    4.6   \n",
       "2  This course is part of Introduction to Compute...              82.0    4.1   \n",
       "3  This course is part of multiple programs. \\nLe...              93.0    4.6   \n",
       "4  This course is part of multiple programs. \\nLe...              97.0    4.7   \n",
       "\n",
       "  ratingCount  enrolledCount  recentViews instructorRatingCount  \\\n",
       "0         805        69167.0           -1                   202   \n",
       "1         508        32711.0           -1                   122   \n",
       "2         203        30138.0           -1                    51   \n",
       "3       32545       608517.0           -1                  6493   \n",
       "4       64199       817744.0           -1                 16960   \n",
       "\n",
       "   instructorRating  reviewCount  reviewRating  \\\n",
       "0               4.3           -1           4.1   \n",
       "1               4.7           -1           4.6   \n",
       "2               4.6           -1           4.1   \n",
       "3               4.5           -1           4.6   \n",
       "4               4.7           -1           4.7   \n",
       "\n",
       "                                     aboutThisCourse  contentRating  \\\n",
       "0  There are 3 modules in this course\\n\\nThis MOO...             -1   \n",
       "1  There are 4 modules in this course\\n\\nComputer...             -1   \n",
       "2  There are 6 modules in this course\\n\\n“Welcome...             -1   \n",
       "3  There are 5 modules in this course\\n\\nKickstar...             -1   \n",
       "4  There are 3 modules in this course\\n\\nDo you w...             -1   \n",
       "\n",
       "   contentRatingCount                                           syllabus  \\\n",
       "0                  -1  [[Your development environment, 9 hours to com...   \n",
       "1                  -1  [[Abstraction, 1 hour to complete, This week s...   \n",
       "2                  -1  [[Number bases - binary, 7 hours to complete, ...   \n",
       "3                  -1  [[Python Basics, 2 hours to complete, This mod...   \n",
       "4                  -1  [[Defining Data Science and What Data Scientis...   \n",
       "\n",
       "                                            partners  \\\n",
       "0  [University of London, Goldsmiths, University ...   \n",
       "1  [University of London, Goldsmiths, University ...   \n",
       "2  [University of London, Goldsmiths, University ...   \n",
       "3                                              [IBM]   \n",
       "4                                              [IBM]   \n",
       "\n",
       "                                    whatYouWillLearn  \\\n",
       "0                                                 []   \n",
       "1                                                 []   \n",
       "2  [1.     Transform numbers between number bases...   \n",
       "3  [Describe Python Basics including Data Types, ...   \n",
       "4  [Define data science and its importance in tod...   \n",
       "\n",
       "                                              skills  \\\n",
       "0                                                 []   \n",
       "1                                                 []   \n",
       "2                                                 []   \n",
       "3  [Data Science, Python Programming, Data Analys...   \n",
       "4  [Data Science, Deep Learning, Machine Learning...   \n",
       "\n",
       "                                       productGlance  \\\n",
       "0  [[Beginner level, No previous experience neces...   \n",
       "1  [[Beginner level, No previous experience neces...   \n",
       "2  [[Beginner level, No previous experience neces...   \n",
       "3  [[Beginner level, Recommended experience], [23...   \n",
       "4  [[Beginner level, Recommended experience], [7 ...   \n",
       "\n",
       "                                         instructors  \\\n",
       "0  [[Dr Edward Anstead, University of London, 2 C...   \n",
       "1  [[Prof Marco Gillies, University of London, [1...   \n",
       "2  [[Omar Karakchi, University of London, 1 Cours...   \n",
       "3  [[Joseph Santarcangelo, IBM, [25 Courses, 1,03...   \n",
       "4  [[Rav Ahuja, IBM, [37 Courses, 1,785,449 learn...   \n",
       "\n",
       "                                reviewStarPercentage  \\\n",
       "0  [[5 stars, 60.12%], [4 stars, 16.52%], [3 star...   \n",
       "1  [[5 stars, 72.63%], [4 stars, 19.88%], [3 star...   \n",
       "2  [[5 stars, 58.12%], [4 stars, 17.24%], [3 star...   \n",
       "3  [[5 stars, 71.96%], [4 stars, 20.82%], [3 star...   \n",
       "4  [[5 stars, 76.12%], [4 stars, 19.12%], [3 star...   \n",
       "\n",
       "                               learnerCareerOutcomes  \\\n",
       "0  [Build your subject-matter expertise, This cou...   \n",
       "1  [Build your subject-matter expertise, This cou...   \n",
       "2  [Build your subject-matter expertise, This cou...   \n",
       "3  [Build your subject-matter expertise, This cou...   \n",
       "4  [Build your subject-matter expertise, This cou...   \n",
       "\n",
       "                                       detailsToKnow  courseraPlus  \\\n",
       "0  [[Shareable certificate, Add to your LinkedIn ...          True   \n",
       "1  [[Shareable certificate, Add to your LinkedIn ...          True   \n",
       "2  [[Shareable certificate, Add to your LinkedIn ...          True   \n",
       "3  [[Shareable certificate, Add to your LinkedIn ...         False   \n",
       "4  [[Shareable certificate, Add to your LinkedIn ...         False   \n",
       "\n",
       "  fiveStarReviewPercentage fourStarReviewPercentage threeStarReviewPercentage  \\\n",
       "0                    60.12                    16.52                      8.07   \n",
       "1                    72.63                    19.88                      4.33   \n",
       "2                    58.12                    17.24                     10.83   \n",
       "3                    71.96                    20.82                      4.60   \n",
       "4                    76.12                    19.12                      3.26   \n",
       "\n",
       "  twoStarReviewPercentage oneStarReviewPercentage  \n",
       "0                    2.73                   12.54  \n",
       "1                    1.57                    1.57  \n",
       "2                    5.41                    8.37  \n",
       "3                    1.47                    1.29  \n",
       "4                    0.80                    0.84  "
      ]
     },
     "execution_count": 9,
     "metadata": {},
     "output_type": "execute_result"
    }
   ],
   "source": [
    "try:\n",
    "    coursera[\"enrolledCount\"] = pd.to_numeric(coursera[\"enrolledCount\"])\n",
    "    coursera[\"ratingPercentage\"] = pd.to_numeric(coursera[\"ratingPercentage\"])\n",
    "    coursera[\"rating\"] = pd.to_numeric(coursera[\"rating\"])\n",
    "    coursera[\"ratingCount\"] = pd.to_numeric(coursera[\"ratingCount\"])\n",
    "    coursera[\"instructorRatingCount\"] = pd.to_numeric(coursera[\"instructorRatingCount\"])\n",
    "    coursera[\"instructorRating\"] = pd.to_numeric(coursera[\"instructorRating\"])\n",
    "    coursera[\"reviewRating\"] = pd.to_numeric(coursera[\"reviewRating\"])\n",
    "    coursera[\"fiveStarReviewPercentage\"] = pd.to_numeric(coursera[\"fiveStarReviewPercentage\"])\n",
    "    coursera[\"fourStarReviewPercentage\"] = pd.to_numeric(coursera[\"fourStarReviewPercentage\"])\n",
    "    coursera[\"threeStarReviewPercentage\"] = pd.to_numeric(coursera[\"threeStarReviewPercentage\"])\n",
    "    coursera[\"twoStarReviewPercentage\"] = pd.to_numeric(coursera[\"twoStarReviewPercentage\"])\n",
    "    coursera[\"oneStarReviewPercentage\"] = pd.to_numeric(coursera[\"oneStarReviewPercentage\"])\n",
    "except:\n",
    "    0\n",
    "\n",
    "coursera.head()"
   ]
  },
  {
   "cell_type": "code",
   "execution_count": 10,
   "metadata": {},
   "outputs": [],
   "source": [
    "def keywordCheck(keyword, column):\n",
    "    myList = []\n",
    "    for i in column:\n",
    "        try:\n",
    "            if keyword in i:\n",
    "                myList.append(True)\n",
    "            else:\n",
    "                myList.append(False)\n",
    "        except: continue\n",
    "    return myList"
   ]
  },
  {
   "cell_type": "code",
   "execution_count": 41,
   "metadata": {},
   "outputs": [
    {
     "data": {
      "text/plain": [
       "\"uniqueSkillsValue = len(skillsDict)\\nprint(f'''Unique Skills: {uniqueSkillsValue}\\n-----------------\\n''')\\n\\nfor keys, value in skillsDict.items():\\n    print(f'''{keys} = {value}''')\""
      ]
     },
     "execution_count": 41,
     "metadata": {},
     "output_type": "execute_result"
    }
   ],
   "source": [
    "array = coursera['skills']\n",
    "skillsDict = {}\n",
    "\n",
    "for i in range(len(array)):\n",
    "    for j in range(len(array[i])):\n",
    "        if not (array[i][j] in skillsDict):\n",
    "            skillsDict[array[i][j]] = 1\n",
    "        else:\n",
    "            skillsDict[array[i][j]] += 1 \n",
    "\n",
    "\"\"\"uniqueSkillsValue = len(skillsDict)\n",
    "print(f'''Unique Skills: {uniqueSkillsValue}\\n-----------------\\n''')\n",
    "\n",
    "for keys, value in skillsDict.items():\n",
    "    print(f'''{keys} = {value}''')\"\"\""
   ]
  },
  {
   "cell_type": "code",
   "execution_count": 29,
   "metadata": {},
   "outputs": [
    {
     "data": {
      "application/vnd.plotly.v1+json": {
       "config": {
        "plotlyServerURL": "https://plot.ly"
       },
       "data": [
        {
         "alignmentgroup": "True",
         "hovertemplate": "Occurences=%{marker.color}<br>Skills=%{y}<extra></extra>",
         "legendgroup": "",
         "marker": {
          "color": [
           50,
           30,
           26,
           24,
           20,
           16,
           15,
           12,
           12,
           11
          ],
          "coloraxis": "coloraxis",
          "pattern": {
           "shape": ""
          }
         },
         "name": "",
         "offsetgroup": "",
         "orientation": "h",
         "showlegend": false,
         "textposition": "auto",
         "type": "bar",
         "x": [
          50,
          30,
          26,
          24,
          20,
          16,
          15,
          12,
          12,
          11
         ],
         "xaxis": "x",
         "y": [
          "Python Programming",
          "Data Analysis",
          "Data Science",
          "Machine Learning",
          "Algorithms",
          "R Programming",
          "Data Visualization (DataViz)",
          "JavaScript",
          "Front-End Web Development",
          "Github"
         ],
         "yaxis": "y"
        }
       ],
       "layout": {
        "barmode": "relative",
        "coloraxis": {
         "colorbar": {
          "title": {
           "text": "Occurences"
          }
         },
         "colorscale": [
          [
           0,
           "#0d0887"
          ],
          [
           0.1111111111111111,
           "#46039f"
          ],
          [
           0.2222222222222222,
           "#7201a8"
          ],
          [
           0.3333333333333333,
           "#9c179e"
          ],
          [
           0.4444444444444444,
           "#bd3786"
          ],
          [
           0.5555555555555556,
           "#d8576b"
          ],
          [
           0.6666666666666666,
           "#ed7953"
          ],
          [
           0.7777777777777778,
           "#fb9f3a"
          ],
          [
           0.8888888888888888,
           "#fdca26"
          ],
          [
           1,
           "#f0f921"
          ]
         ]
        },
        "legend": {
         "tracegroupgap": 0
        },
        "margin": {
         "t": 60
        },
        "template": {
         "data": {
          "bar": [
           {
            "error_x": {
             "color": "#2a3f5f"
            },
            "error_y": {
             "color": "#2a3f5f"
            },
            "marker": {
             "line": {
              "color": "#E5ECF6",
              "width": 0.5
             },
             "pattern": {
              "fillmode": "overlay",
              "size": 10,
              "solidity": 0.2
             }
            },
            "type": "bar"
           }
          ],
          "barpolar": [
           {
            "marker": {
             "line": {
              "color": "#E5ECF6",
              "width": 0.5
             },
             "pattern": {
              "fillmode": "overlay",
              "size": 10,
              "solidity": 0.2
             }
            },
            "type": "barpolar"
           }
          ],
          "carpet": [
           {
            "aaxis": {
             "endlinecolor": "#2a3f5f",
             "gridcolor": "white",
             "linecolor": "white",
             "minorgridcolor": "white",
             "startlinecolor": "#2a3f5f"
            },
            "baxis": {
             "endlinecolor": "#2a3f5f",
             "gridcolor": "white",
             "linecolor": "white",
             "minorgridcolor": "white",
             "startlinecolor": "#2a3f5f"
            },
            "type": "carpet"
           }
          ],
          "choropleth": [
           {
            "colorbar": {
             "outlinewidth": 0,
             "ticks": ""
            },
            "type": "choropleth"
           }
          ],
          "contour": [
           {
            "colorbar": {
             "outlinewidth": 0,
             "ticks": ""
            },
            "colorscale": [
             [
              0,
              "#0d0887"
             ],
             [
              0.1111111111111111,
              "#46039f"
             ],
             [
              0.2222222222222222,
              "#7201a8"
             ],
             [
              0.3333333333333333,
              "#9c179e"
             ],
             [
              0.4444444444444444,
              "#bd3786"
             ],
             [
              0.5555555555555556,
              "#d8576b"
             ],
             [
              0.6666666666666666,
              "#ed7953"
             ],
             [
              0.7777777777777778,
              "#fb9f3a"
             ],
             [
              0.8888888888888888,
              "#fdca26"
             ],
             [
              1,
              "#f0f921"
             ]
            ],
            "type": "contour"
           }
          ],
          "contourcarpet": [
           {
            "colorbar": {
             "outlinewidth": 0,
             "ticks": ""
            },
            "type": "contourcarpet"
           }
          ],
          "heatmap": [
           {
            "colorbar": {
             "outlinewidth": 0,
             "ticks": ""
            },
            "colorscale": [
             [
              0,
              "#0d0887"
             ],
             [
              0.1111111111111111,
              "#46039f"
             ],
             [
              0.2222222222222222,
              "#7201a8"
             ],
             [
              0.3333333333333333,
              "#9c179e"
             ],
             [
              0.4444444444444444,
              "#bd3786"
             ],
             [
              0.5555555555555556,
              "#d8576b"
             ],
             [
              0.6666666666666666,
              "#ed7953"
             ],
             [
              0.7777777777777778,
              "#fb9f3a"
             ],
             [
              0.8888888888888888,
              "#fdca26"
             ],
             [
              1,
              "#f0f921"
             ]
            ],
            "type": "heatmap"
           }
          ],
          "heatmapgl": [
           {
            "colorbar": {
             "outlinewidth": 0,
             "ticks": ""
            },
            "colorscale": [
             [
              0,
              "#0d0887"
             ],
             [
              0.1111111111111111,
              "#46039f"
             ],
             [
              0.2222222222222222,
              "#7201a8"
             ],
             [
              0.3333333333333333,
              "#9c179e"
             ],
             [
              0.4444444444444444,
              "#bd3786"
             ],
             [
              0.5555555555555556,
              "#d8576b"
             ],
             [
              0.6666666666666666,
              "#ed7953"
             ],
             [
              0.7777777777777778,
              "#fb9f3a"
             ],
             [
              0.8888888888888888,
              "#fdca26"
             ],
             [
              1,
              "#f0f921"
             ]
            ],
            "type": "heatmapgl"
           }
          ],
          "histogram": [
           {
            "marker": {
             "pattern": {
              "fillmode": "overlay",
              "size": 10,
              "solidity": 0.2
             }
            },
            "type": "histogram"
           }
          ],
          "histogram2d": [
           {
            "colorbar": {
             "outlinewidth": 0,
             "ticks": ""
            },
            "colorscale": [
             [
              0,
              "#0d0887"
             ],
             [
              0.1111111111111111,
              "#46039f"
             ],
             [
              0.2222222222222222,
              "#7201a8"
             ],
             [
              0.3333333333333333,
              "#9c179e"
             ],
             [
              0.4444444444444444,
              "#bd3786"
             ],
             [
              0.5555555555555556,
              "#d8576b"
             ],
             [
              0.6666666666666666,
              "#ed7953"
             ],
             [
              0.7777777777777778,
              "#fb9f3a"
             ],
             [
              0.8888888888888888,
              "#fdca26"
             ],
             [
              1,
              "#f0f921"
             ]
            ],
            "type": "histogram2d"
           }
          ],
          "histogram2dcontour": [
           {
            "colorbar": {
             "outlinewidth": 0,
             "ticks": ""
            },
            "colorscale": [
             [
              0,
              "#0d0887"
             ],
             [
              0.1111111111111111,
              "#46039f"
             ],
             [
              0.2222222222222222,
              "#7201a8"
             ],
             [
              0.3333333333333333,
              "#9c179e"
             ],
             [
              0.4444444444444444,
              "#bd3786"
             ],
             [
              0.5555555555555556,
              "#d8576b"
             ],
             [
              0.6666666666666666,
              "#ed7953"
             ],
             [
              0.7777777777777778,
              "#fb9f3a"
             ],
             [
              0.8888888888888888,
              "#fdca26"
             ],
             [
              1,
              "#f0f921"
             ]
            ],
            "type": "histogram2dcontour"
           }
          ],
          "mesh3d": [
           {
            "colorbar": {
             "outlinewidth": 0,
             "ticks": ""
            },
            "type": "mesh3d"
           }
          ],
          "parcoords": [
           {
            "line": {
             "colorbar": {
              "outlinewidth": 0,
              "ticks": ""
             }
            },
            "type": "parcoords"
           }
          ],
          "pie": [
           {
            "automargin": true,
            "type": "pie"
           }
          ],
          "scatter": [
           {
            "fillpattern": {
             "fillmode": "overlay",
             "size": 10,
             "solidity": 0.2
            },
            "type": "scatter"
           }
          ],
          "scatter3d": [
           {
            "line": {
             "colorbar": {
              "outlinewidth": 0,
              "ticks": ""
             }
            },
            "marker": {
             "colorbar": {
              "outlinewidth": 0,
              "ticks": ""
             }
            },
            "type": "scatter3d"
           }
          ],
          "scattercarpet": [
           {
            "marker": {
             "colorbar": {
              "outlinewidth": 0,
              "ticks": ""
             }
            },
            "type": "scattercarpet"
           }
          ],
          "scattergeo": [
           {
            "marker": {
             "colorbar": {
              "outlinewidth": 0,
              "ticks": ""
             }
            },
            "type": "scattergeo"
           }
          ],
          "scattergl": [
           {
            "marker": {
             "colorbar": {
              "outlinewidth": 0,
              "ticks": ""
             }
            },
            "type": "scattergl"
           }
          ],
          "scattermapbox": [
           {
            "marker": {
             "colorbar": {
              "outlinewidth": 0,
              "ticks": ""
             }
            },
            "type": "scattermapbox"
           }
          ],
          "scatterpolar": [
           {
            "marker": {
             "colorbar": {
              "outlinewidth": 0,
              "ticks": ""
             }
            },
            "type": "scatterpolar"
           }
          ],
          "scatterpolargl": [
           {
            "marker": {
             "colorbar": {
              "outlinewidth": 0,
              "ticks": ""
             }
            },
            "type": "scatterpolargl"
           }
          ],
          "scatterternary": [
           {
            "marker": {
             "colorbar": {
              "outlinewidth": 0,
              "ticks": ""
             }
            },
            "type": "scatterternary"
           }
          ],
          "surface": [
           {
            "colorbar": {
             "outlinewidth": 0,
             "ticks": ""
            },
            "colorscale": [
             [
              0,
              "#0d0887"
             ],
             [
              0.1111111111111111,
              "#46039f"
             ],
             [
              0.2222222222222222,
              "#7201a8"
             ],
             [
              0.3333333333333333,
              "#9c179e"
             ],
             [
              0.4444444444444444,
              "#bd3786"
             ],
             [
              0.5555555555555556,
              "#d8576b"
             ],
             [
              0.6666666666666666,
              "#ed7953"
             ],
             [
              0.7777777777777778,
              "#fb9f3a"
             ],
             [
              0.8888888888888888,
              "#fdca26"
             ],
             [
              1,
              "#f0f921"
             ]
            ],
            "type": "surface"
           }
          ],
          "table": [
           {
            "cells": {
             "fill": {
              "color": "#EBF0F8"
             },
             "line": {
              "color": "white"
             }
            },
            "header": {
             "fill": {
              "color": "#C8D4E3"
             },
             "line": {
              "color": "white"
             }
            },
            "type": "table"
           }
          ]
         },
         "layout": {
          "annotationdefaults": {
           "arrowcolor": "#2a3f5f",
           "arrowhead": 0,
           "arrowwidth": 1
          },
          "autotypenumbers": "strict",
          "coloraxis": {
           "colorbar": {
            "outlinewidth": 0,
            "ticks": ""
           }
          },
          "colorscale": {
           "diverging": [
            [
             0,
             "#8e0152"
            ],
            [
             0.1,
             "#c51b7d"
            ],
            [
             0.2,
             "#de77ae"
            ],
            [
             0.3,
             "#f1b6da"
            ],
            [
             0.4,
             "#fde0ef"
            ],
            [
             0.5,
             "#f7f7f7"
            ],
            [
             0.6,
             "#e6f5d0"
            ],
            [
             0.7,
             "#b8e186"
            ],
            [
             0.8,
             "#7fbc41"
            ],
            [
             0.9,
             "#4d9221"
            ],
            [
             1,
             "#276419"
            ]
           ],
           "sequential": [
            [
             0,
             "#0d0887"
            ],
            [
             0.1111111111111111,
             "#46039f"
            ],
            [
             0.2222222222222222,
             "#7201a8"
            ],
            [
             0.3333333333333333,
             "#9c179e"
            ],
            [
             0.4444444444444444,
             "#bd3786"
            ],
            [
             0.5555555555555556,
             "#d8576b"
            ],
            [
             0.6666666666666666,
             "#ed7953"
            ],
            [
             0.7777777777777778,
             "#fb9f3a"
            ],
            [
             0.8888888888888888,
             "#fdca26"
            ],
            [
             1,
             "#f0f921"
            ]
           ],
           "sequentialminus": [
            [
             0,
             "#0d0887"
            ],
            [
             0.1111111111111111,
             "#46039f"
            ],
            [
             0.2222222222222222,
             "#7201a8"
            ],
            [
             0.3333333333333333,
             "#9c179e"
            ],
            [
             0.4444444444444444,
             "#bd3786"
            ],
            [
             0.5555555555555556,
             "#d8576b"
            ],
            [
             0.6666666666666666,
             "#ed7953"
            ],
            [
             0.7777777777777778,
             "#fb9f3a"
            ],
            [
             0.8888888888888888,
             "#fdca26"
            ],
            [
             1,
             "#f0f921"
            ]
           ]
          },
          "colorway": [
           "#636efa",
           "#EF553B",
           "#00cc96",
           "#ab63fa",
           "#FFA15A",
           "#19d3f3",
           "#FF6692",
           "#B6E880",
           "#FF97FF",
           "#FECB52"
          ],
          "font": {
           "color": "#2a3f5f"
          },
          "geo": {
           "bgcolor": "white",
           "lakecolor": "white",
           "landcolor": "#E5ECF6",
           "showlakes": true,
           "showland": true,
           "subunitcolor": "white"
          },
          "hoverlabel": {
           "align": "left"
          },
          "hovermode": "closest",
          "mapbox": {
           "style": "light"
          },
          "paper_bgcolor": "white",
          "plot_bgcolor": "#E5ECF6",
          "polar": {
           "angularaxis": {
            "gridcolor": "white",
            "linecolor": "white",
            "ticks": ""
           },
           "bgcolor": "#E5ECF6",
           "radialaxis": {
            "gridcolor": "white",
            "linecolor": "white",
            "ticks": ""
           }
          },
          "scene": {
           "xaxis": {
            "backgroundcolor": "#E5ECF6",
            "gridcolor": "white",
            "gridwidth": 2,
            "linecolor": "white",
            "showbackground": true,
            "ticks": "",
            "zerolinecolor": "white"
           },
           "yaxis": {
            "backgroundcolor": "#E5ECF6",
            "gridcolor": "white",
            "gridwidth": 2,
            "linecolor": "white",
            "showbackground": true,
            "ticks": "",
            "zerolinecolor": "white"
           },
           "zaxis": {
            "backgroundcolor": "#E5ECF6",
            "gridcolor": "white",
            "gridwidth": 2,
            "linecolor": "white",
            "showbackground": true,
            "ticks": "",
            "zerolinecolor": "white"
           }
          },
          "shapedefaults": {
           "line": {
            "color": "#2a3f5f"
           }
          },
          "ternary": {
           "aaxis": {
            "gridcolor": "white",
            "linecolor": "white",
            "ticks": ""
           },
           "baxis": {
            "gridcolor": "white",
            "linecolor": "white",
            "ticks": ""
           },
           "bgcolor": "#E5ECF6",
           "caxis": {
            "gridcolor": "white",
            "linecolor": "white",
            "ticks": ""
           }
          },
          "title": {
           "x": 0.05
          },
          "xaxis": {
           "automargin": true,
           "gridcolor": "white",
           "linecolor": "white",
           "ticks": "",
           "title": {
            "standoff": 15
           },
           "zerolinecolor": "white",
           "zerolinewidth": 2
          },
          "yaxis": {
           "automargin": true,
           "gridcolor": "white",
           "linecolor": "white",
           "ticks": "",
           "title": {
            "standoff": 15
           },
           "zerolinecolor": "white",
           "zerolinewidth": 2
          }
         }
        },
        "title": {
         "text": "Top 10 Most Occuring Skills"
        },
        "xaxis": {
         "anchor": "y",
         "domain": [
          0,
          1
         ],
         "title": {
          "text": "Occurences"
         }
        },
        "yaxis": {
         "anchor": "x",
         "domain": [
          0,
          1
         ],
         "title": {
          "text": "Skills"
         }
        }
       }
      }
     },
     "metadata": {},
     "output_type": "display_data"
    }
   ],
   "source": [
    "sortedList = sorted(skillsDict.items(), key=lambda x:x[1], reverse=True)\n",
    "sortedSkillsDict = dict(sortedList)\n",
    "\n",
    "skillsdf = pd.DataFrame.from_dict({\"Skills\": [key for key in sortedSkillsDict.keys()][0:10], \"Occurences\": [value for value in sortedSkillsDict.values()][0:10]})\n",
    "\n",
    "fig = px.bar(skillsdf, y='Skills', x='Occurences', color='Occurences')\n",
    "fig.update_layout(title_text='Top 10 Most Occuring Skills')\n",
    "\n",
    "fig.show()"
   ]
  },
  {
   "cell_type": "code",
   "execution_count": 40,
   "metadata": {},
   "outputs": [
    {
     "data": {
      "text/plain": [
       "\"uniqueProductGlanceValue = len(productGlanceDict)\\nprint(f'''Unique Product Glance: {uniqueProductGlanceValue}\\n-----------------\\n''')\\n\\nfor keys, value in sortedProductGlanceDict.items():\\n    print(f'''{keys} = {value}''')\""
      ]
     },
     "execution_count": 40,
     "metadata": {},
     "output_type": "execute_result"
    }
   ],
   "source": [
    "array = coursera['productGlance']\n",
    "productGlanceDict = {}\n",
    "\n",
    "for i in range(len(array)):\n",
    "    for j in range(len(array[i])):\n",
    "        if not (array[i][j][0] in productGlanceDict):\n",
    "            productGlanceDict[array[i][j][0]] = 1\n",
    "        else:\n",
    "            productGlanceDict[array[i][j][0]] += 1 \n",
    "\n",
    "sortedList = sorted(productGlanceDict.items(), key=lambda x:x[1], reverse=True)\n",
    "sortedProductGlanceDict = dict(sortedList)\n",
    "\n",
    "\"\"\"uniqueProductGlanceValue = len(productGlanceDict)\n",
    "print(f'''Unique Product Glance: {uniqueProductGlanceValue}\\n-----------------\\n''')\n",
    "\n",
    "for keys, value in sortedProductGlanceDict.items():\n",
    "    print(f'''{keys} = {value}''')\"\"\"\n",
    "    "
   ]
  },
  {
   "cell_type": "code",
   "execution_count": 34,
   "metadata": {},
   "outputs": [
    {
     "data": {
      "application/vnd.plotly.v1+json": {
       "config": {
        "plotlyServerURL": "https://plot.ly"
       },
       "data": [
        {
         "alignmentgroup": "True",
         "hovertemplate": "Occurences=%{marker.color}<br>Product Glance=%{y}<extra></extra>",
         "legendgroup": "",
         "marker": {
          "color": [
           290,
           141,
           97,
           33,
           22,
           20,
           19,
           17,
           17,
           16
          ],
          "coloraxis": "coloraxis",
          "pattern": {
           "shape": ""
          }
         },
         "name": "",
         "offsetgroup": "",
         "orientation": "h",
         "showlegend": false,
         "textposition": "auto",
         "type": "bar",
         "x": [
          290,
          141,
          97,
          33,
          22,
          20,
          19,
          17,
          17,
          16
         ],
         "xaxis": "x",
         "y": [
          "Flexible schedule",
          "Beginner level",
          "Intermediate level",
          "Progress towards a degree",
          "9 hours (approximately)",
          "16 hours (approximately)",
          "8 hours (approximately)",
          "Prepare for a degree",
          "14 hours (approximately)",
          "15 hours (approximately)"
         ],
         "yaxis": "y"
        }
       ],
       "layout": {
        "barmode": "relative",
        "coloraxis": {
         "colorbar": {
          "title": {
           "text": "Occurences"
          }
         },
         "colorscale": [
          [
           0,
           "#0d0887"
          ],
          [
           0.1111111111111111,
           "#46039f"
          ],
          [
           0.2222222222222222,
           "#7201a8"
          ],
          [
           0.3333333333333333,
           "#9c179e"
          ],
          [
           0.4444444444444444,
           "#bd3786"
          ],
          [
           0.5555555555555556,
           "#d8576b"
          ],
          [
           0.6666666666666666,
           "#ed7953"
          ],
          [
           0.7777777777777778,
           "#fb9f3a"
          ],
          [
           0.8888888888888888,
           "#fdca26"
          ],
          [
           1,
           "#f0f921"
          ]
         ]
        },
        "legend": {
         "tracegroupgap": 0
        },
        "margin": {
         "t": 60
        },
        "template": {
         "data": {
          "bar": [
           {
            "error_x": {
             "color": "#2a3f5f"
            },
            "error_y": {
             "color": "#2a3f5f"
            },
            "marker": {
             "line": {
              "color": "#E5ECF6",
              "width": 0.5
             },
             "pattern": {
              "fillmode": "overlay",
              "size": 10,
              "solidity": 0.2
             }
            },
            "type": "bar"
           }
          ],
          "barpolar": [
           {
            "marker": {
             "line": {
              "color": "#E5ECF6",
              "width": 0.5
             },
             "pattern": {
              "fillmode": "overlay",
              "size": 10,
              "solidity": 0.2
             }
            },
            "type": "barpolar"
           }
          ],
          "carpet": [
           {
            "aaxis": {
             "endlinecolor": "#2a3f5f",
             "gridcolor": "white",
             "linecolor": "white",
             "minorgridcolor": "white",
             "startlinecolor": "#2a3f5f"
            },
            "baxis": {
             "endlinecolor": "#2a3f5f",
             "gridcolor": "white",
             "linecolor": "white",
             "minorgridcolor": "white",
             "startlinecolor": "#2a3f5f"
            },
            "type": "carpet"
           }
          ],
          "choropleth": [
           {
            "colorbar": {
             "outlinewidth": 0,
             "ticks": ""
            },
            "type": "choropleth"
           }
          ],
          "contour": [
           {
            "colorbar": {
             "outlinewidth": 0,
             "ticks": ""
            },
            "colorscale": [
             [
              0,
              "#0d0887"
             ],
             [
              0.1111111111111111,
              "#46039f"
             ],
             [
              0.2222222222222222,
              "#7201a8"
             ],
             [
              0.3333333333333333,
              "#9c179e"
             ],
             [
              0.4444444444444444,
              "#bd3786"
             ],
             [
              0.5555555555555556,
              "#d8576b"
             ],
             [
              0.6666666666666666,
              "#ed7953"
             ],
             [
              0.7777777777777778,
              "#fb9f3a"
             ],
             [
              0.8888888888888888,
              "#fdca26"
             ],
             [
              1,
              "#f0f921"
             ]
            ],
            "type": "contour"
           }
          ],
          "contourcarpet": [
           {
            "colorbar": {
             "outlinewidth": 0,
             "ticks": ""
            },
            "type": "contourcarpet"
           }
          ],
          "heatmap": [
           {
            "colorbar": {
             "outlinewidth": 0,
             "ticks": ""
            },
            "colorscale": [
             [
              0,
              "#0d0887"
             ],
             [
              0.1111111111111111,
              "#46039f"
             ],
             [
              0.2222222222222222,
              "#7201a8"
             ],
             [
              0.3333333333333333,
              "#9c179e"
             ],
             [
              0.4444444444444444,
              "#bd3786"
             ],
             [
              0.5555555555555556,
              "#d8576b"
             ],
             [
              0.6666666666666666,
              "#ed7953"
             ],
             [
              0.7777777777777778,
              "#fb9f3a"
             ],
             [
              0.8888888888888888,
              "#fdca26"
             ],
             [
              1,
              "#f0f921"
             ]
            ],
            "type": "heatmap"
           }
          ],
          "heatmapgl": [
           {
            "colorbar": {
             "outlinewidth": 0,
             "ticks": ""
            },
            "colorscale": [
             [
              0,
              "#0d0887"
             ],
             [
              0.1111111111111111,
              "#46039f"
             ],
             [
              0.2222222222222222,
              "#7201a8"
             ],
             [
              0.3333333333333333,
              "#9c179e"
             ],
             [
              0.4444444444444444,
              "#bd3786"
             ],
             [
              0.5555555555555556,
              "#d8576b"
             ],
             [
              0.6666666666666666,
              "#ed7953"
             ],
             [
              0.7777777777777778,
              "#fb9f3a"
             ],
             [
              0.8888888888888888,
              "#fdca26"
             ],
             [
              1,
              "#f0f921"
             ]
            ],
            "type": "heatmapgl"
           }
          ],
          "histogram": [
           {
            "marker": {
             "pattern": {
              "fillmode": "overlay",
              "size": 10,
              "solidity": 0.2
             }
            },
            "type": "histogram"
           }
          ],
          "histogram2d": [
           {
            "colorbar": {
             "outlinewidth": 0,
             "ticks": ""
            },
            "colorscale": [
             [
              0,
              "#0d0887"
             ],
             [
              0.1111111111111111,
              "#46039f"
             ],
             [
              0.2222222222222222,
              "#7201a8"
             ],
             [
              0.3333333333333333,
              "#9c179e"
             ],
             [
              0.4444444444444444,
              "#bd3786"
             ],
             [
              0.5555555555555556,
              "#d8576b"
             ],
             [
              0.6666666666666666,
              "#ed7953"
             ],
             [
              0.7777777777777778,
              "#fb9f3a"
             ],
             [
              0.8888888888888888,
              "#fdca26"
             ],
             [
              1,
              "#f0f921"
             ]
            ],
            "type": "histogram2d"
           }
          ],
          "histogram2dcontour": [
           {
            "colorbar": {
             "outlinewidth": 0,
             "ticks": ""
            },
            "colorscale": [
             [
              0,
              "#0d0887"
             ],
             [
              0.1111111111111111,
              "#46039f"
             ],
             [
              0.2222222222222222,
              "#7201a8"
             ],
             [
              0.3333333333333333,
              "#9c179e"
             ],
             [
              0.4444444444444444,
              "#bd3786"
             ],
             [
              0.5555555555555556,
              "#d8576b"
             ],
             [
              0.6666666666666666,
              "#ed7953"
             ],
             [
              0.7777777777777778,
              "#fb9f3a"
             ],
             [
              0.8888888888888888,
              "#fdca26"
             ],
             [
              1,
              "#f0f921"
             ]
            ],
            "type": "histogram2dcontour"
           }
          ],
          "mesh3d": [
           {
            "colorbar": {
             "outlinewidth": 0,
             "ticks": ""
            },
            "type": "mesh3d"
           }
          ],
          "parcoords": [
           {
            "line": {
             "colorbar": {
              "outlinewidth": 0,
              "ticks": ""
             }
            },
            "type": "parcoords"
           }
          ],
          "pie": [
           {
            "automargin": true,
            "type": "pie"
           }
          ],
          "scatter": [
           {
            "fillpattern": {
             "fillmode": "overlay",
             "size": 10,
             "solidity": 0.2
            },
            "type": "scatter"
           }
          ],
          "scatter3d": [
           {
            "line": {
             "colorbar": {
              "outlinewidth": 0,
              "ticks": ""
             }
            },
            "marker": {
             "colorbar": {
              "outlinewidth": 0,
              "ticks": ""
             }
            },
            "type": "scatter3d"
           }
          ],
          "scattercarpet": [
           {
            "marker": {
             "colorbar": {
              "outlinewidth": 0,
              "ticks": ""
             }
            },
            "type": "scattercarpet"
           }
          ],
          "scattergeo": [
           {
            "marker": {
             "colorbar": {
              "outlinewidth": 0,
              "ticks": ""
             }
            },
            "type": "scattergeo"
           }
          ],
          "scattergl": [
           {
            "marker": {
             "colorbar": {
              "outlinewidth": 0,
              "ticks": ""
             }
            },
            "type": "scattergl"
           }
          ],
          "scattermapbox": [
           {
            "marker": {
             "colorbar": {
              "outlinewidth": 0,
              "ticks": ""
             }
            },
            "type": "scattermapbox"
           }
          ],
          "scatterpolar": [
           {
            "marker": {
             "colorbar": {
              "outlinewidth": 0,
              "ticks": ""
             }
            },
            "type": "scatterpolar"
           }
          ],
          "scatterpolargl": [
           {
            "marker": {
             "colorbar": {
              "outlinewidth": 0,
              "ticks": ""
             }
            },
            "type": "scatterpolargl"
           }
          ],
          "scatterternary": [
           {
            "marker": {
             "colorbar": {
              "outlinewidth": 0,
              "ticks": ""
             }
            },
            "type": "scatterternary"
           }
          ],
          "surface": [
           {
            "colorbar": {
             "outlinewidth": 0,
             "ticks": ""
            },
            "colorscale": [
             [
              0,
              "#0d0887"
             ],
             [
              0.1111111111111111,
              "#46039f"
             ],
             [
              0.2222222222222222,
              "#7201a8"
             ],
             [
              0.3333333333333333,
              "#9c179e"
             ],
             [
              0.4444444444444444,
              "#bd3786"
             ],
             [
              0.5555555555555556,
              "#d8576b"
             ],
             [
              0.6666666666666666,
              "#ed7953"
             ],
             [
              0.7777777777777778,
              "#fb9f3a"
             ],
             [
              0.8888888888888888,
              "#fdca26"
             ],
             [
              1,
              "#f0f921"
             ]
            ],
            "type": "surface"
           }
          ],
          "table": [
           {
            "cells": {
             "fill": {
              "color": "#EBF0F8"
             },
             "line": {
              "color": "white"
             }
            },
            "header": {
             "fill": {
              "color": "#C8D4E3"
             },
             "line": {
              "color": "white"
             }
            },
            "type": "table"
           }
          ]
         },
         "layout": {
          "annotationdefaults": {
           "arrowcolor": "#2a3f5f",
           "arrowhead": 0,
           "arrowwidth": 1
          },
          "autotypenumbers": "strict",
          "coloraxis": {
           "colorbar": {
            "outlinewidth": 0,
            "ticks": ""
           }
          },
          "colorscale": {
           "diverging": [
            [
             0,
             "#8e0152"
            ],
            [
             0.1,
             "#c51b7d"
            ],
            [
             0.2,
             "#de77ae"
            ],
            [
             0.3,
             "#f1b6da"
            ],
            [
             0.4,
             "#fde0ef"
            ],
            [
             0.5,
             "#f7f7f7"
            ],
            [
             0.6,
             "#e6f5d0"
            ],
            [
             0.7,
             "#b8e186"
            ],
            [
             0.8,
             "#7fbc41"
            ],
            [
             0.9,
             "#4d9221"
            ],
            [
             1,
             "#276419"
            ]
           ],
           "sequential": [
            [
             0,
             "#0d0887"
            ],
            [
             0.1111111111111111,
             "#46039f"
            ],
            [
             0.2222222222222222,
             "#7201a8"
            ],
            [
             0.3333333333333333,
             "#9c179e"
            ],
            [
             0.4444444444444444,
             "#bd3786"
            ],
            [
             0.5555555555555556,
             "#d8576b"
            ],
            [
             0.6666666666666666,
             "#ed7953"
            ],
            [
             0.7777777777777778,
             "#fb9f3a"
            ],
            [
             0.8888888888888888,
             "#fdca26"
            ],
            [
             1,
             "#f0f921"
            ]
           ],
           "sequentialminus": [
            [
             0,
             "#0d0887"
            ],
            [
             0.1111111111111111,
             "#46039f"
            ],
            [
             0.2222222222222222,
             "#7201a8"
            ],
            [
             0.3333333333333333,
             "#9c179e"
            ],
            [
             0.4444444444444444,
             "#bd3786"
            ],
            [
             0.5555555555555556,
             "#d8576b"
            ],
            [
             0.6666666666666666,
             "#ed7953"
            ],
            [
             0.7777777777777778,
             "#fb9f3a"
            ],
            [
             0.8888888888888888,
             "#fdca26"
            ],
            [
             1,
             "#f0f921"
            ]
           ]
          },
          "colorway": [
           "#636efa",
           "#EF553B",
           "#00cc96",
           "#ab63fa",
           "#FFA15A",
           "#19d3f3",
           "#FF6692",
           "#B6E880",
           "#FF97FF",
           "#FECB52"
          ],
          "font": {
           "color": "#2a3f5f"
          },
          "geo": {
           "bgcolor": "white",
           "lakecolor": "white",
           "landcolor": "#E5ECF6",
           "showlakes": true,
           "showland": true,
           "subunitcolor": "white"
          },
          "hoverlabel": {
           "align": "left"
          },
          "hovermode": "closest",
          "mapbox": {
           "style": "light"
          },
          "paper_bgcolor": "white",
          "plot_bgcolor": "#E5ECF6",
          "polar": {
           "angularaxis": {
            "gridcolor": "white",
            "linecolor": "white",
            "ticks": ""
           },
           "bgcolor": "#E5ECF6",
           "radialaxis": {
            "gridcolor": "white",
            "linecolor": "white",
            "ticks": ""
           }
          },
          "scene": {
           "xaxis": {
            "backgroundcolor": "#E5ECF6",
            "gridcolor": "white",
            "gridwidth": 2,
            "linecolor": "white",
            "showbackground": true,
            "ticks": "",
            "zerolinecolor": "white"
           },
           "yaxis": {
            "backgroundcolor": "#E5ECF6",
            "gridcolor": "white",
            "gridwidth": 2,
            "linecolor": "white",
            "showbackground": true,
            "ticks": "",
            "zerolinecolor": "white"
           },
           "zaxis": {
            "backgroundcolor": "#E5ECF6",
            "gridcolor": "white",
            "gridwidth": 2,
            "linecolor": "white",
            "showbackground": true,
            "ticks": "",
            "zerolinecolor": "white"
           }
          },
          "shapedefaults": {
           "line": {
            "color": "#2a3f5f"
           }
          },
          "ternary": {
           "aaxis": {
            "gridcolor": "white",
            "linecolor": "white",
            "ticks": ""
           },
           "baxis": {
            "gridcolor": "white",
            "linecolor": "white",
            "ticks": ""
           },
           "bgcolor": "#E5ECF6",
           "caxis": {
            "gridcolor": "white",
            "linecolor": "white",
            "ticks": ""
           }
          },
          "title": {
           "x": 0.05
          },
          "xaxis": {
           "automargin": true,
           "gridcolor": "white",
           "linecolor": "white",
           "ticks": "",
           "title": {
            "standoff": 15
           },
           "zerolinecolor": "white",
           "zerolinewidth": 2
          },
          "yaxis": {
           "automargin": true,
           "gridcolor": "white",
           "linecolor": "white",
           "ticks": "",
           "title": {
            "standoff": 15
           },
           "zerolinecolor": "white",
           "zerolinewidth": 2
          }
         }
        },
        "title": {
         "text": "Top 10 Most Occuring Product Glance"
        },
        "xaxis": {
         "anchor": "y",
         "domain": [
          0,
          1
         ],
         "title": {
          "text": "Occurences"
         }
        },
        "yaxis": {
         "anchor": "x",
         "domain": [
          0,
          1
         ],
         "title": {
          "text": "Product Glance"
         }
        }
       }
      }
     },
     "metadata": {},
     "output_type": "display_data"
    }
   ],
   "source": [
    "skillsdf = pd.DataFrame.from_dict({\"Product Glance\": [key for key in sortedProductGlanceDict.keys()][0:10], \"Occurences\": [value for value in sortedProductGlanceDict.values()][0:10]})\n",
    "\n",
    "fig = px.bar(skillsdf, y='Product Glance', x='Occurences', color='Occurences')\n",
    "fig.update_layout(title_text='Top 10 Most Occuring Product Glance')\n",
    "\n",
    "fig.show()"
   ]
  },
  {
   "cell_type": "code",
   "execution_count": 39,
   "metadata": {},
   "outputs": [
    {
     "data": {
      "text/plain": [
       "\"uniqueLearnerCareerOutcomesValue = len(learnerCareerOutcomesDict)\\nprint(f'''Unique Learner Career Outcomes: {uniqueLearnerCareerOutcomesValue}\\n-----------------\\n''')\\n\\nfor keys, value in sortedLearnerCareerOutcomesDict.items():\\n    print(f'''{keys} = {value}''')\""
      ]
     },
     "execution_count": 39,
     "metadata": {},
     "output_type": "execute_result"
    }
   ],
   "source": [
    "array = coursera['learnerCareerOutcomes']\n",
    "learnerCareerOutcomesDict = {}\n",
    "\n",
    "for i in range(len(array)):\n",
    "    for j in range(len(array[i])):\n",
    "        if not (array[i][j] in learnerCareerOutcomesDict):\n",
    "            learnerCareerOutcomesDict[array[i][j]] = 1\n",
    "        else:\n",
    "            learnerCareerOutcomesDict[array[i][j]] += 1 \n",
    "\n",
    "sortedList = sorted(learnerCareerOutcomesDict.items(), key=lambda x:x[1], reverse=True)\n",
    "sortedLearnerCareerOutcomesDict = dict(sortedList)\n",
    "\n",
    "\"\"\"uniqueLearnerCareerOutcomesValue = len(learnerCareerOutcomesDict)\n",
    "print(f'''Unique Learner Career Outcomes: {uniqueLearnerCareerOutcomesValue}\\n-----------------\\n''')\n",
    "\n",
    "for keys, value in sortedLearnerCareerOutcomesDict.items():\n",
    "    print(f'''{keys} = {value}''')\"\"\"\n",
    "    "
   ]
  },
  {
   "cell_type": "code",
   "execution_count": 38,
   "metadata": {},
   "outputs": [
    {
     "data": {
      "application/vnd.plotly.v1+json": {
       "config": {
        "plotlyServerURL": "https://plot.ly"
       },
       "data": [
        {
         "alignmentgroup": "True",
         "hovertemplate": "Occurences=%{marker.color}<br>Learner Career Outcomes=%{y}<extra></extra>",
         "legendgroup": "",
         "marker": {
          "color": [
           290,
           290,
           290,
           237,
           217,
           116,
           27,
           22,
           19,
           14
          ],
          "coloraxis": "coloraxis",
          "pattern": {
           "shape": ""
          }
         },
         "name": "",
         "offsetgroup": "",
         "orientation": "h",
         "showlegend": false,
         "textposition": "auto",
         "type": "bar",
         "x": [
          290,
          290,
          290,
          237,
          217,
          116,
          27,
          22,
          19,
          14
         ],
         "xaxis": "x",
         "y": [
          "Learn new concepts from industry experts",
          "Gain a foundational understanding of a subject or tool",
          "Develop job-relevant skills with hands-on projects",
          "Build your subject-matter expertise",
          "Earn a shareable career certificate",
          "This course is available as part of \nmultiple programs\nWhen you enroll in this course, you'll also be asked to select a specific program.",
          "Earn a shareable career certificate from Meta",
          "Earn a shareable career certificate from Google",
          "Earn a shareable career certificate from IBM",
          "Build your Mobile and Web Development expertise"
         ],
         "yaxis": "y"
        }
       ],
       "layout": {
        "barmode": "relative",
        "coloraxis": {
         "colorbar": {
          "title": {
           "text": "Occurences"
          }
         },
         "colorscale": [
          [
           0,
           "#0d0887"
          ],
          [
           0.1111111111111111,
           "#46039f"
          ],
          [
           0.2222222222222222,
           "#7201a8"
          ],
          [
           0.3333333333333333,
           "#9c179e"
          ],
          [
           0.4444444444444444,
           "#bd3786"
          ],
          [
           0.5555555555555556,
           "#d8576b"
          ],
          [
           0.6666666666666666,
           "#ed7953"
          ],
          [
           0.7777777777777778,
           "#fb9f3a"
          ],
          [
           0.8888888888888888,
           "#fdca26"
          ],
          [
           1,
           "#f0f921"
          ]
         ]
        },
        "legend": {
         "tracegroupgap": 0
        },
        "margin": {
         "t": 60
        },
        "template": {
         "data": {
          "bar": [
           {
            "error_x": {
             "color": "#2a3f5f"
            },
            "error_y": {
             "color": "#2a3f5f"
            },
            "marker": {
             "line": {
              "color": "#E5ECF6",
              "width": 0.5
             },
             "pattern": {
              "fillmode": "overlay",
              "size": 10,
              "solidity": 0.2
             }
            },
            "type": "bar"
           }
          ],
          "barpolar": [
           {
            "marker": {
             "line": {
              "color": "#E5ECF6",
              "width": 0.5
             },
             "pattern": {
              "fillmode": "overlay",
              "size": 10,
              "solidity": 0.2
             }
            },
            "type": "barpolar"
           }
          ],
          "carpet": [
           {
            "aaxis": {
             "endlinecolor": "#2a3f5f",
             "gridcolor": "white",
             "linecolor": "white",
             "minorgridcolor": "white",
             "startlinecolor": "#2a3f5f"
            },
            "baxis": {
             "endlinecolor": "#2a3f5f",
             "gridcolor": "white",
             "linecolor": "white",
             "minorgridcolor": "white",
             "startlinecolor": "#2a3f5f"
            },
            "type": "carpet"
           }
          ],
          "choropleth": [
           {
            "colorbar": {
             "outlinewidth": 0,
             "ticks": ""
            },
            "type": "choropleth"
           }
          ],
          "contour": [
           {
            "colorbar": {
             "outlinewidth": 0,
             "ticks": ""
            },
            "colorscale": [
             [
              0,
              "#0d0887"
             ],
             [
              0.1111111111111111,
              "#46039f"
             ],
             [
              0.2222222222222222,
              "#7201a8"
             ],
             [
              0.3333333333333333,
              "#9c179e"
             ],
             [
              0.4444444444444444,
              "#bd3786"
             ],
             [
              0.5555555555555556,
              "#d8576b"
             ],
             [
              0.6666666666666666,
              "#ed7953"
             ],
             [
              0.7777777777777778,
              "#fb9f3a"
             ],
             [
              0.8888888888888888,
              "#fdca26"
             ],
             [
              1,
              "#f0f921"
             ]
            ],
            "type": "contour"
           }
          ],
          "contourcarpet": [
           {
            "colorbar": {
             "outlinewidth": 0,
             "ticks": ""
            },
            "type": "contourcarpet"
           }
          ],
          "heatmap": [
           {
            "colorbar": {
             "outlinewidth": 0,
             "ticks": ""
            },
            "colorscale": [
             [
              0,
              "#0d0887"
             ],
             [
              0.1111111111111111,
              "#46039f"
             ],
             [
              0.2222222222222222,
              "#7201a8"
             ],
             [
              0.3333333333333333,
              "#9c179e"
             ],
             [
              0.4444444444444444,
              "#bd3786"
             ],
             [
              0.5555555555555556,
              "#d8576b"
             ],
             [
              0.6666666666666666,
              "#ed7953"
             ],
             [
              0.7777777777777778,
              "#fb9f3a"
             ],
             [
              0.8888888888888888,
              "#fdca26"
             ],
             [
              1,
              "#f0f921"
             ]
            ],
            "type": "heatmap"
           }
          ],
          "heatmapgl": [
           {
            "colorbar": {
             "outlinewidth": 0,
             "ticks": ""
            },
            "colorscale": [
             [
              0,
              "#0d0887"
             ],
             [
              0.1111111111111111,
              "#46039f"
             ],
             [
              0.2222222222222222,
              "#7201a8"
             ],
             [
              0.3333333333333333,
              "#9c179e"
             ],
             [
              0.4444444444444444,
              "#bd3786"
             ],
             [
              0.5555555555555556,
              "#d8576b"
             ],
             [
              0.6666666666666666,
              "#ed7953"
             ],
             [
              0.7777777777777778,
              "#fb9f3a"
             ],
             [
              0.8888888888888888,
              "#fdca26"
             ],
             [
              1,
              "#f0f921"
             ]
            ],
            "type": "heatmapgl"
           }
          ],
          "histogram": [
           {
            "marker": {
             "pattern": {
              "fillmode": "overlay",
              "size": 10,
              "solidity": 0.2
             }
            },
            "type": "histogram"
           }
          ],
          "histogram2d": [
           {
            "colorbar": {
             "outlinewidth": 0,
             "ticks": ""
            },
            "colorscale": [
             [
              0,
              "#0d0887"
             ],
             [
              0.1111111111111111,
              "#46039f"
             ],
             [
              0.2222222222222222,
              "#7201a8"
             ],
             [
              0.3333333333333333,
              "#9c179e"
             ],
             [
              0.4444444444444444,
              "#bd3786"
             ],
             [
              0.5555555555555556,
              "#d8576b"
             ],
             [
              0.6666666666666666,
              "#ed7953"
             ],
             [
              0.7777777777777778,
              "#fb9f3a"
             ],
             [
              0.8888888888888888,
              "#fdca26"
             ],
             [
              1,
              "#f0f921"
             ]
            ],
            "type": "histogram2d"
           }
          ],
          "histogram2dcontour": [
           {
            "colorbar": {
             "outlinewidth": 0,
             "ticks": ""
            },
            "colorscale": [
             [
              0,
              "#0d0887"
             ],
             [
              0.1111111111111111,
              "#46039f"
             ],
             [
              0.2222222222222222,
              "#7201a8"
             ],
             [
              0.3333333333333333,
              "#9c179e"
             ],
             [
              0.4444444444444444,
              "#bd3786"
             ],
             [
              0.5555555555555556,
              "#d8576b"
             ],
             [
              0.6666666666666666,
              "#ed7953"
             ],
             [
              0.7777777777777778,
              "#fb9f3a"
             ],
             [
              0.8888888888888888,
              "#fdca26"
             ],
             [
              1,
              "#f0f921"
             ]
            ],
            "type": "histogram2dcontour"
           }
          ],
          "mesh3d": [
           {
            "colorbar": {
             "outlinewidth": 0,
             "ticks": ""
            },
            "type": "mesh3d"
           }
          ],
          "parcoords": [
           {
            "line": {
             "colorbar": {
              "outlinewidth": 0,
              "ticks": ""
             }
            },
            "type": "parcoords"
           }
          ],
          "pie": [
           {
            "automargin": true,
            "type": "pie"
           }
          ],
          "scatter": [
           {
            "fillpattern": {
             "fillmode": "overlay",
             "size": 10,
             "solidity": 0.2
            },
            "type": "scatter"
           }
          ],
          "scatter3d": [
           {
            "line": {
             "colorbar": {
              "outlinewidth": 0,
              "ticks": ""
             }
            },
            "marker": {
             "colorbar": {
              "outlinewidth": 0,
              "ticks": ""
             }
            },
            "type": "scatter3d"
           }
          ],
          "scattercarpet": [
           {
            "marker": {
             "colorbar": {
              "outlinewidth": 0,
              "ticks": ""
             }
            },
            "type": "scattercarpet"
           }
          ],
          "scattergeo": [
           {
            "marker": {
             "colorbar": {
              "outlinewidth": 0,
              "ticks": ""
             }
            },
            "type": "scattergeo"
           }
          ],
          "scattergl": [
           {
            "marker": {
             "colorbar": {
              "outlinewidth": 0,
              "ticks": ""
             }
            },
            "type": "scattergl"
           }
          ],
          "scattermapbox": [
           {
            "marker": {
             "colorbar": {
              "outlinewidth": 0,
              "ticks": ""
             }
            },
            "type": "scattermapbox"
           }
          ],
          "scatterpolar": [
           {
            "marker": {
             "colorbar": {
              "outlinewidth": 0,
              "ticks": ""
             }
            },
            "type": "scatterpolar"
           }
          ],
          "scatterpolargl": [
           {
            "marker": {
             "colorbar": {
              "outlinewidth": 0,
              "ticks": ""
             }
            },
            "type": "scatterpolargl"
           }
          ],
          "scatterternary": [
           {
            "marker": {
             "colorbar": {
              "outlinewidth": 0,
              "ticks": ""
             }
            },
            "type": "scatterternary"
           }
          ],
          "surface": [
           {
            "colorbar": {
             "outlinewidth": 0,
             "ticks": ""
            },
            "colorscale": [
             [
              0,
              "#0d0887"
             ],
             [
              0.1111111111111111,
              "#46039f"
             ],
             [
              0.2222222222222222,
              "#7201a8"
             ],
             [
              0.3333333333333333,
              "#9c179e"
             ],
             [
              0.4444444444444444,
              "#bd3786"
             ],
             [
              0.5555555555555556,
              "#d8576b"
             ],
             [
              0.6666666666666666,
              "#ed7953"
             ],
             [
              0.7777777777777778,
              "#fb9f3a"
             ],
             [
              0.8888888888888888,
              "#fdca26"
             ],
             [
              1,
              "#f0f921"
             ]
            ],
            "type": "surface"
           }
          ],
          "table": [
           {
            "cells": {
             "fill": {
              "color": "#EBF0F8"
             },
             "line": {
              "color": "white"
             }
            },
            "header": {
             "fill": {
              "color": "#C8D4E3"
             },
             "line": {
              "color": "white"
             }
            },
            "type": "table"
           }
          ]
         },
         "layout": {
          "annotationdefaults": {
           "arrowcolor": "#2a3f5f",
           "arrowhead": 0,
           "arrowwidth": 1
          },
          "autotypenumbers": "strict",
          "coloraxis": {
           "colorbar": {
            "outlinewidth": 0,
            "ticks": ""
           }
          },
          "colorscale": {
           "diverging": [
            [
             0,
             "#8e0152"
            ],
            [
             0.1,
             "#c51b7d"
            ],
            [
             0.2,
             "#de77ae"
            ],
            [
             0.3,
             "#f1b6da"
            ],
            [
             0.4,
             "#fde0ef"
            ],
            [
             0.5,
             "#f7f7f7"
            ],
            [
             0.6,
             "#e6f5d0"
            ],
            [
             0.7,
             "#b8e186"
            ],
            [
             0.8,
             "#7fbc41"
            ],
            [
             0.9,
             "#4d9221"
            ],
            [
             1,
             "#276419"
            ]
           ],
           "sequential": [
            [
             0,
             "#0d0887"
            ],
            [
             0.1111111111111111,
             "#46039f"
            ],
            [
             0.2222222222222222,
             "#7201a8"
            ],
            [
             0.3333333333333333,
             "#9c179e"
            ],
            [
             0.4444444444444444,
             "#bd3786"
            ],
            [
             0.5555555555555556,
             "#d8576b"
            ],
            [
             0.6666666666666666,
             "#ed7953"
            ],
            [
             0.7777777777777778,
             "#fb9f3a"
            ],
            [
             0.8888888888888888,
             "#fdca26"
            ],
            [
             1,
             "#f0f921"
            ]
           ],
           "sequentialminus": [
            [
             0,
             "#0d0887"
            ],
            [
             0.1111111111111111,
             "#46039f"
            ],
            [
             0.2222222222222222,
             "#7201a8"
            ],
            [
             0.3333333333333333,
             "#9c179e"
            ],
            [
             0.4444444444444444,
             "#bd3786"
            ],
            [
             0.5555555555555556,
             "#d8576b"
            ],
            [
             0.6666666666666666,
             "#ed7953"
            ],
            [
             0.7777777777777778,
             "#fb9f3a"
            ],
            [
             0.8888888888888888,
             "#fdca26"
            ],
            [
             1,
             "#f0f921"
            ]
           ]
          },
          "colorway": [
           "#636efa",
           "#EF553B",
           "#00cc96",
           "#ab63fa",
           "#FFA15A",
           "#19d3f3",
           "#FF6692",
           "#B6E880",
           "#FF97FF",
           "#FECB52"
          ],
          "font": {
           "color": "#2a3f5f"
          },
          "geo": {
           "bgcolor": "white",
           "lakecolor": "white",
           "landcolor": "#E5ECF6",
           "showlakes": true,
           "showland": true,
           "subunitcolor": "white"
          },
          "hoverlabel": {
           "align": "left"
          },
          "hovermode": "closest",
          "mapbox": {
           "style": "light"
          },
          "paper_bgcolor": "white",
          "plot_bgcolor": "#E5ECF6",
          "polar": {
           "angularaxis": {
            "gridcolor": "white",
            "linecolor": "white",
            "ticks": ""
           },
           "bgcolor": "#E5ECF6",
           "radialaxis": {
            "gridcolor": "white",
            "linecolor": "white",
            "ticks": ""
           }
          },
          "scene": {
           "xaxis": {
            "backgroundcolor": "#E5ECF6",
            "gridcolor": "white",
            "gridwidth": 2,
            "linecolor": "white",
            "showbackground": true,
            "ticks": "",
            "zerolinecolor": "white"
           },
           "yaxis": {
            "backgroundcolor": "#E5ECF6",
            "gridcolor": "white",
            "gridwidth": 2,
            "linecolor": "white",
            "showbackground": true,
            "ticks": "",
            "zerolinecolor": "white"
           },
           "zaxis": {
            "backgroundcolor": "#E5ECF6",
            "gridcolor": "white",
            "gridwidth": 2,
            "linecolor": "white",
            "showbackground": true,
            "ticks": "",
            "zerolinecolor": "white"
           }
          },
          "shapedefaults": {
           "line": {
            "color": "#2a3f5f"
           }
          },
          "ternary": {
           "aaxis": {
            "gridcolor": "white",
            "linecolor": "white",
            "ticks": ""
           },
           "baxis": {
            "gridcolor": "white",
            "linecolor": "white",
            "ticks": ""
           },
           "bgcolor": "#E5ECF6",
           "caxis": {
            "gridcolor": "white",
            "linecolor": "white",
            "ticks": ""
           }
          },
          "title": {
           "x": 0.05
          },
          "xaxis": {
           "automargin": true,
           "gridcolor": "white",
           "linecolor": "white",
           "ticks": "",
           "title": {
            "standoff": 15
           },
           "zerolinecolor": "white",
           "zerolinewidth": 2
          },
          "yaxis": {
           "automargin": true,
           "gridcolor": "white",
           "linecolor": "white",
           "ticks": "",
           "title": {
            "standoff": 15
           },
           "zerolinecolor": "white",
           "zerolinewidth": 2
          }
         }
        },
        "title": {
         "text": "Top 10 Most Occuring Learner Career Outcomes"
        },
        "xaxis": {
         "anchor": "y",
         "domain": [
          0,
          1
         ],
         "title": {
          "text": "Occurences"
         }
        },
        "yaxis": {
         "anchor": "x",
         "domain": [
          0,
          1
         ],
         "title": {
          "text": "Learner Career Outcomes"
         }
        }
       }
      }
     },
     "metadata": {},
     "output_type": "display_data"
    }
   ],
   "source": [
    "skillsdf = pd.DataFrame.from_dict({\"Learner Career Outcomes\": [key for key in sortedLearnerCareerOutcomesDict.keys()][0:10], \"Occurences\": [value for value in sortedLearnerCareerOutcomesDict.values()][0:10]})\n",
    "\n",
    "fig = px.bar(skillsdf, y='Learner Career Outcomes', x='Occurences', color='Occurences')\n",
    "fig.update_layout(title_text='Top 10 Most Occuring Learner Career Outcomes')\n",
    "\n",
    "fig.show()"
   ]
  },
  {
   "cell_type": "code",
   "execution_count": 44,
   "metadata": {},
   "outputs": [],
   "source": [
    "array = coursera['detailsToKnow']\n",
    "detailsToKnowDict = {}\n",
    "\n",
    "for i in range(len(array)):\n",
    "    for j in range(len(array[i])):\n",
    "        if not (array[i][j][0] in detailsToKnowDict):\n",
    "            detailsToKnowDict[array[i][j][0]] = 1\n",
    "        else:\n",
    "            detailsToKnowDict[array[i][j][0]] += 1 \n",
    "\n",
    "sortedList = sorted(detailsToKnowDict.items(), key=lambda x:x[1], reverse=True)\n",
    "sortedDetailsToKnowDict = dict(sortedList)"
   ]
  },
  {
   "cell_type": "code",
   "execution_count": 58,
   "metadata": {},
   "outputs": [
    {
     "data": {
      "application/vnd.plotly.v1+json": {
       "config": {
        "plotlyServerURL": "https://plot.ly"
       },
       "data": [
        {
         "alignmentgroup": "True",
         "hovertemplate": "Occurences=%{marker.color}<br>Details To Know=%{y}<extra></extra>",
         "legendgroup": "",
         "marker": {
          "color": [
           290,
           290,
           290,
           1
          ],
          "coloraxis": "coloraxis",
          "pattern": {
           "shape": ""
          }
         },
         "name": "",
         "offsetgroup": "",
         "orientation": "h",
         "showlegend": false,
         "textposition": "auto",
         "type": "bar",
         "x": [
          290,
          290,
          290,
          1
         ],
         "xaxis": "x",
         "y": [
          "Shareable certificate",
          "Quizzes and assessments",
          "English",
          "Recently updated!"
         ],
         "yaxis": "y"
        }
       ],
       "layout": {
        "barmode": "relative",
        "coloraxis": {
         "colorbar": {
          "title": {
           "text": "Occurences"
          }
         },
         "colorscale": [
          [
           0,
           "#0d0887"
          ],
          [
           0.1111111111111111,
           "#46039f"
          ],
          [
           0.2222222222222222,
           "#7201a8"
          ],
          [
           0.3333333333333333,
           "#9c179e"
          ],
          [
           0.4444444444444444,
           "#bd3786"
          ],
          [
           0.5555555555555556,
           "#d8576b"
          ],
          [
           0.6666666666666666,
           "#ed7953"
          ],
          [
           0.7777777777777778,
           "#fb9f3a"
          ],
          [
           0.8888888888888888,
           "#fdca26"
          ],
          [
           1,
           "#f0f921"
          ]
         ]
        },
        "legend": {
         "tracegroupgap": 0
        },
        "margin": {
         "t": 60
        },
        "template": {
         "data": {
          "bar": [
           {
            "error_x": {
             "color": "#2a3f5f"
            },
            "error_y": {
             "color": "#2a3f5f"
            },
            "marker": {
             "line": {
              "color": "#E5ECF6",
              "width": 0.5
             },
             "pattern": {
              "fillmode": "overlay",
              "size": 10,
              "solidity": 0.2
             }
            },
            "type": "bar"
           }
          ],
          "barpolar": [
           {
            "marker": {
             "line": {
              "color": "#E5ECF6",
              "width": 0.5
             },
             "pattern": {
              "fillmode": "overlay",
              "size": 10,
              "solidity": 0.2
             }
            },
            "type": "barpolar"
           }
          ],
          "carpet": [
           {
            "aaxis": {
             "endlinecolor": "#2a3f5f",
             "gridcolor": "white",
             "linecolor": "white",
             "minorgridcolor": "white",
             "startlinecolor": "#2a3f5f"
            },
            "baxis": {
             "endlinecolor": "#2a3f5f",
             "gridcolor": "white",
             "linecolor": "white",
             "minorgridcolor": "white",
             "startlinecolor": "#2a3f5f"
            },
            "type": "carpet"
           }
          ],
          "choropleth": [
           {
            "colorbar": {
             "outlinewidth": 0,
             "ticks": ""
            },
            "type": "choropleth"
           }
          ],
          "contour": [
           {
            "colorbar": {
             "outlinewidth": 0,
             "ticks": ""
            },
            "colorscale": [
             [
              0,
              "#0d0887"
             ],
             [
              0.1111111111111111,
              "#46039f"
             ],
             [
              0.2222222222222222,
              "#7201a8"
             ],
             [
              0.3333333333333333,
              "#9c179e"
             ],
             [
              0.4444444444444444,
              "#bd3786"
             ],
             [
              0.5555555555555556,
              "#d8576b"
             ],
             [
              0.6666666666666666,
              "#ed7953"
             ],
             [
              0.7777777777777778,
              "#fb9f3a"
             ],
             [
              0.8888888888888888,
              "#fdca26"
             ],
             [
              1,
              "#f0f921"
             ]
            ],
            "type": "contour"
           }
          ],
          "contourcarpet": [
           {
            "colorbar": {
             "outlinewidth": 0,
             "ticks": ""
            },
            "type": "contourcarpet"
           }
          ],
          "heatmap": [
           {
            "colorbar": {
             "outlinewidth": 0,
             "ticks": ""
            },
            "colorscale": [
             [
              0,
              "#0d0887"
             ],
             [
              0.1111111111111111,
              "#46039f"
             ],
             [
              0.2222222222222222,
              "#7201a8"
             ],
             [
              0.3333333333333333,
              "#9c179e"
             ],
             [
              0.4444444444444444,
              "#bd3786"
             ],
             [
              0.5555555555555556,
              "#d8576b"
             ],
             [
              0.6666666666666666,
              "#ed7953"
             ],
             [
              0.7777777777777778,
              "#fb9f3a"
             ],
             [
              0.8888888888888888,
              "#fdca26"
             ],
             [
              1,
              "#f0f921"
             ]
            ],
            "type": "heatmap"
           }
          ],
          "heatmapgl": [
           {
            "colorbar": {
             "outlinewidth": 0,
             "ticks": ""
            },
            "colorscale": [
             [
              0,
              "#0d0887"
             ],
             [
              0.1111111111111111,
              "#46039f"
             ],
             [
              0.2222222222222222,
              "#7201a8"
             ],
             [
              0.3333333333333333,
              "#9c179e"
             ],
             [
              0.4444444444444444,
              "#bd3786"
             ],
             [
              0.5555555555555556,
              "#d8576b"
             ],
             [
              0.6666666666666666,
              "#ed7953"
             ],
             [
              0.7777777777777778,
              "#fb9f3a"
             ],
             [
              0.8888888888888888,
              "#fdca26"
             ],
             [
              1,
              "#f0f921"
             ]
            ],
            "type": "heatmapgl"
           }
          ],
          "histogram": [
           {
            "marker": {
             "pattern": {
              "fillmode": "overlay",
              "size": 10,
              "solidity": 0.2
             }
            },
            "type": "histogram"
           }
          ],
          "histogram2d": [
           {
            "colorbar": {
             "outlinewidth": 0,
             "ticks": ""
            },
            "colorscale": [
             [
              0,
              "#0d0887"
             ],
             [
              0.1111111111111111,
              "#46039f"
             ],
             [
              0.2222222222222222,
              "#7201a8"
             ],
             [
              0.3333333333333333,
              "#9c179e"
             ],
             [
              0.4444444444444444,
              "#bd3786"
             ],
             [
              0.5555555555555556,
              "#d8576b"
             ],
             [
              0.6666666666666666,
              "#ed7953"
             ],
             [
              0.7777777777777778,
              "#fb9f3a"
             ],
             [
              0.8888888888888888,
              "#fdca26"
             ],
             [
              1,
              "#f0f921"
             ]
            ],
            "type": "histogram2d"
           }
          ],
          "histogram2dcontour": [
           {
            "colorbar": {
             "outlinewidth": 0,
             "ticks": ""
            },
            "colorscale": [
             [
              0,
              "#0d0887"
             ],
             [
              0.1111111111111111,
              "#46039f"
             ],
             [
              0.2222222222222222,
              "#7201a8"
             ],
             [
              0.3333333333333333,
              "#9c179e"
             ],
             [
              0.4444444444444444,
              "#bd3786"
             ],
             [
              0.5555555555555556,
              "#d8576b"
             ],
             [
              0.6666666666666666,
              "#ed7953"
             ],
             [
              0.7777777777777778,
              "#fb9f3a"
             ],
             [
              0.8888888888888888,
              "#fdca26"
             ],
             [
              1,
              "#f0f921"
             ]
            ],
            "type": "histogram2dcontour"
           }
          ],
          "mesh3d": [
           {
            "colorbar": {
             "outlinewidth": 0,
             "ticks": ""
            },
            "type": "mesh3d"
           }
          ],
          "parcoords": [
           {
            "line": {
             "colorbar": {
              "outlinewidth": 0,
              "ticks": ""
             }
            },
            "type": "parcoords"
           }
          ],
          "pie": [
           {
            "automargin": true,
            "type": "pie"
           }
          ],
          "scatter": [
           {
            "fillpattern": {
             "fillmode": "overlay",
             "size": 10,
             "solidity": 0.2
            },
            "type": "scatter"
           }
          ],
          "scatter3d": [
           {
            "line": {
             "colorbar": {
              "outlinewidth": 0,
              "ticks": ""
             }
            },
            "marker": {
             "colorbar": {
              "outlinewidth": 0,
              "ticks": ""
             }
            },
            "type": "scatter3d"
           }
          ],
          "scattercarpet": [
           {
            "marker": {
             "colorbar": {
              "outlinewidth": 0,
              "ticks": ""
             }
            },
            "type": "scattercarpet"
           }
          ],
          "scattergeo": [
           {
            "marker": {
             "colorbar": {
              "outlinewidth": 0,
              "ticks": ""
             }
            },
            "type": "scattergeo"
           }
          ],
          "scattergl": [
           {
            "marker": {
             "colorbar": {
              "outlinewidth": 0,
              "ticks": ""
             }
            },
            "type": "scattergl"
           }
          ],
          "scattermapbox": [
           {
            "marker": {
             "colorbar": {
              "outlinewidth": 0,
              "ticks": ""
             }
            },
            "type": "scattermapbox"
           }
          ],
          "scatterpolar": [
           {
            "marker": {
             "colorbar": {
              "outlinewidth": 0,
              "ticks": ""
             }
            },
            "type": "scatterpolar"
           }
          ],
          "scatterpolargl": [
           {
            "marker": {
             "colorbar": {
              "outlinewidth": 0,
              "ticks": ""
             }
            },
            "type": "scatterpolargl"
           }
          ],
          "scatterternary": [
           {
            "marker": {
             "colorbar": {
              "outlinewidth": 0,
              "ticks": ""
             }
            },
            "type": "scatterternary"
           }
          ],
          "surface": [
           {
            "colorbar": {
             "outlinewidth": 0,
             "ticks": ""
            },
            "colorscale": [
             [
              0,
              "#0d0887"
             ],
             [
              0.1111111111111111,
              "#46039f"
             ],
             [
              0.2222222222222222,
              "#7201a8"
             ],
             [
              0.3333333333333333,
              "#9c179e"
             ],
             [
              0.4444444444444444,
              "#bd3786"
             ],
             [
              0.5555555555555556,
              "#d8576b"
             ],
             [
              0.6666666666666666,
              "#ed7953"
             ],
             [
              0.7777777777777778,
              "#fb9f3a"
             ],
             [
              0.8888888888888888,
              "#fdca26"
             ],
             [
              1,
              "#f0f921"
             ]
            ],
            "type": "surface"
           }
          ],
          "table": [
           {
            "cells": {
             "fill": {
              "color": "#EBF0F8"
             },
             "line": {
              "color": "white"
             }
            },
            "header": {
             "fill": {
              "color": "#C8D4E3"
             },
             "line": {
              "color": "white"
             }
            },
            "type": "table"
           }
          ]
         },
         "layout": {
          "annotationdefaults": {
           "arrowcolor": "#2a3f5f",
           "arrowhead": 0,
           "arrowwidth": 1
          },
          "autotypenumbers": "strict",
          "coloraxis": {
           "colorbar": {
            "outlinewidth": 0,
            "ticks": ""
           }
          },
          "colorscale": {
           "diverging": [
            [
             0,
             "#8e0152"
            ],
            [
             0.1,
             "#c51b7d"
            ],
            [
             0.2,
             "#de77ae"
            ],
            [
             0.3,
             "#f1b6da"
            ],
            [
             0.4,
             "#fde0ef"
            ],
            [
             0.5,
             "#f7f7f7"
            ],
            [
             0.6,
             "#e6f5d0"
            ],
            [
             0.7,
             "#b8e186"
            ],
            [
             0.8,
             "#7fbc41"
            ],
            [
             0.9,
             "#4d9221"
            ],
            [
             1,
             "#276419"
            ]
           ],
           "sequential": [
            [
             0,
             "#0d0887"
            ],
            [
             0.1111111111111111,
             "#46039f"
            ],
            [
             0.2222222222222222,
             "#7201a8"
            ],
            [
             0.3333333333333333,
             "#9c179e"
            ],
            [
             0.4444444444444444,
             "#bd3786"
            ],
            [
             0.5555555555555556,
             "#d8576b"
            ],
            [
             0.6666666666666666,
             "#ed7953"
            ],
            [
             0.7777777777777778,
             "#fb9f3a"
            ],
            [
             0.8888888888888888,
             "#fdca26"
            ],
            [
             1,
             "#f0f921"
            ]
           ],
           "sequentialminus": [
            [
             0,
             "#0d0887"
            ],
            [
             0.1111111111111111,
             "#46039f"
            ],
            [
             0.2222222222222222,
             "#7201a8"
            ],
            [
             0.3333333333333333,
             "#9c179e"
            ],
            [
             0.4444444444444444,
             "#bd3786"
            ],
            [
             0.5555555555555556,
             "#d8576b"
            ],
            [
             0.6666666666666666,
             "#ed7953"
            ],
            [
             0.7777777777777778,
             "#fb9f3a"
            ],
            [
             0.8888888888888888,
             "#fdca26"
            ],
            [
             1,
             "#f0f921"
            ]
           ]
          },
          "colorway": [
           "#636efa",
           "#EF553B",
           "#00cc96",
           "#ab63fa",
           "#FFA15A",
           "#19d3f3",
           "#FF6692",
           "#B6E880",
           "#FF97FF",
           "#FECB52"
          ],
          "font": {
           "color": "#2a3f5f"
          },
          "geo": {
           "bgcolor": "white",
           "lakecolor": "white",
           "landcolor": "#E5ECF6",
           "showlakes": true,
           "showland": true,
           "subunitcolor": "white"
          },
          "hoverlabel": {
           "align": "left"
          },
          "hovermode": "closest",
          "mapbox": {
           "style": "light"
          },
          "paper_bgcolor": "white",
          "plot_bgcolor": "#E5ECF6",
          "polar": {
           "angularaxis": {
            "gridcolor": "white",
            "linecolor": "white",
            "ticks": ""
           },
           "bgcolor": "#E5ECF6",
           "radialaxis": {
            "gridcolor": "white",
            "linecolor": "white",
            "ticks": ""
           }
          },
          "scene": {
           "xaxis": {
            "backgroundcolor": "#E5ECF6",
            "gridcolor": "white",
            "gridwidth": 2,
            "linecolor": "white",
            "showbackground": true,
            "ticks": "",
            "zerolinecolor": "white"
           },
           "yaxis": {
            "backgroundcolor": "#E5ECF6",
            "gridcolor": "white",
            "gridwidth": 2,
            "linecolor": "white",
            "showbackground": true,
            "ticks": "",
            "zerolinecolor": "white"
           },
           "zaxis": {
            "backgroundcolor": "#E5ECF6",
            "gridcolor": "white",
            "gridwidth": 2,
            "linecolor": "white",
            "showbackground": true,
            "ticks": "",
            "zerolinecolor": "white"
           }
          },
          "shapedefaults": {
           "line": {
            "color": "#2a3f5f"
           }
          },
          "ternary": {
           "aaxis": {
            "gridcolor": "white",
            "linecolor": "white",
            "ticks": ""
           },
           "baxis": {
            "gridcolor": "white",
            "linecolor": "white",
            "ticks": ""
           },
           "bgcolor": "#E5ECF6",
           "caxis": {
            "gridcolor": "white",
            "linecolor": "white",
            "ticks": ""
           }
          },
          "title": {
           "x": 0.05
          },
          "xaxis": {
           "automargin": true,
           "gridcolor": "white",
           "linecolor": "white",
           "ticks": "",
           "title": {
            "standoff": 15
           },
           "zerolinecolor": "white",
           "zerolinewidth": 2
          },
          "yaxis": {
           "automargin": true,
           "gridcolor": "white",
           "linecolor": "white",
           "ticks": "",
           "title": {
            "standoff": 15
           },
           "zerolinecolor": "white",
           "zerolinewidth": 2
          }
         }
        },
        "title": {
         "text": "Top 10 Most Occuring Details To Know"
        },
        "xaxis": {
         "anchor": "y",
         "domain": [
          0,
          1
         ],
         "title": {
          "text": "Occurences"
         }
        },
        "yaxis": {
         "anchor": "x",
         "domain": [
          0,
          1
         ],
         "title": {
          "text": "Details To Know"
         }
        }
       }
      }
     },
     "metadata": {},
     "output_type": "display_data"
    }
   ],
   "source": [
    "detailsToKnowdf = pd.DataFrame.from_dict({\"Details To Know\": [key for key in sortedDetailsToKnowDict.keys()][0:10], \"Occurences\": [value for value in sortedDetailsToKnowDict.values()][0:10]})\n",
    "\n",
    "\n",
    "fig = px.bar(detailsToKnowdf, y='Details To Know', x='Occurences', color='Occurences')\n",
    "fig.update_layout(title_text='Top 10 Most Occuring Details To Know')\n",
    "\n",
    "fig.show()"
   ]
  },
  {
   "cell_type": "code",
   "execution_count": null,
   "metadata": {},
   "outputs": [],
   "source": []
  }
 ],
 "metadata": {
  "kernelspec": {
   "display_name": "base",
   "language": "python",
   "name": "python3"
  },
  "language_info": {
   "codemirror_mode": {
    "name": "ipython",
    "version": 3
   },
   "file_extension": ".py",
   "mimetype": "text/x-python",
   "name": "python",
   "nbconvert_exporter": "python",
   "pygments_lexer": "ipython3",
   "version": "3.10.9"
  },
  "orig_nbformat": 4
 },
 "nbformat": 4,
 "nbformat_minor": 2
}
